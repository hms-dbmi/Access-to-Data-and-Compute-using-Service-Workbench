{
 "cells": [
  {
   "cell_type": "markdown",
   "id": "f15c7b43",
   "metadata": {},
   "source": [
    "# Investigating EHR data from PIC-SURE"
   ]
  },
  {
   "cell_type": "markdown",
   "id": "10c76af6",
   "metadata": {},
   "source": [
    "The purpose of this notebook is to help researchers get started with EHR analysis in python using clinical data exported from PIC-SURE. \n",
    "\n",
    "### About the data\n",
    "This example code uses a synthetically generated dataset from Synthea, an open-source patient population simulation. \n",
    "The dataset has been formatted to mirror what a data export from PIC-SURE may look like.  \n",
    "It includes all age groups and is not limited to pediatric patients. \n",
    "\n",
    "\n",
    "\n",
    "Jason Walonoski, Mark Kramer, Joseph Nichols, Andre Quina, Chris Moesel, Dylan Hall, Carlton Duffett, Kudakwashe Dube, Thomas Gallagher, Scott McLachlan, Synthea: An approach, method, and software mechanism for generating synthetic patients and the synthetic electronic health care record, Journal of the American Medical Informatics Association, Volume 25, Issue 3, March 2018, Pages 230–238, https://doi.org/10.1093/jamia/ocx079\n",
    "\n"
   ]
  },
  {
   "cell_type": "markdown",
   "id": "80c82c23",
   "metadata": {},
   "source": [
    "###  Installing packages\n",
    "The following code installs and loads packages needed for basic data management and manipulation."
   ]
  },
  {
   "cell_type": "code",
   "execution_count": 2,
   "id": "640d6363",
   "metadata": {
    "scrolled": true
   },
   "outputs": [
    {
     "name": "stderr",
     "output_type": "stream",
     "text": [
      "/home/ec2-user/anaconda3/envs/python3/lib/python3.10/site-packages/seaborn/_statistics.py:32: UserWarning: A NumPy version >=1.23.5 and <2.3.0 is required for this version of SciPy (detected version 1.22.4)\n",
      "  from scipy.stats import gaussian_kde\n"
     ]
    }
   ],
   "source": [
    "\n",
    "import pandas as pd\n",
    "import numpy as np\n",
    "import matplotlib.pyplot as plt\n",
    "import seaborn as sns\n",
    "from datetime import datetime\n"
   ]
  },
  {
   "cell_type": "code",
   "execution_count": 3,
   "id": "3d8dfa59",
   "metadata": {},
   "outputs": [],
   "source": [
    "pd.set_option('display.max_colwidth', None)"
   ]
  },
  {
   "cell_type": "markdown",
   "id": "baadad31",
   "metadata": {},
   "source": [
    "## Loading the data\n",
    "The following code downloads the dataset. <span style=\"color:red\">Edit the loading code below once the dataset is hosted on S3</span>.\n"
   ]
  },
  {
   "cell_type": "code",
   "execution_count": 5,
   "id": "e968845e",
   "metadata": {
    "scrolled": false
   },
   "outputs": [
    {
     "name": "stderr",
     "output_type": "stream",
     "text": [
      "/tmp/ipykernel_9145/3941741903.py:2: DtypeWarning: Columns (2) have mixed types. Specify dtype option on import or set low_memory=False.\n",
      "  data = pd.read_csv('../studies/synthea_10k_picsure_format.csv')\n"
     ]
    }
   ],
   "source": [
    "#loading the dataset:\n",
    "data = pd.read_csv('../studies/synthea_10k_picsure_format.csv')"
   ]
  },
  {
   "cell_type": "markdown",
   "id": "0be610ef",
   "metadata": {},
   "source": [
    "## Taking a first look at the dataset\n",
    "Let's use the `head()` function to take a first look at the dataset. \n",
    "You'll see 5 columns:\n",
    "- PATIENT_NUM: Represents a unique patient identifier\n",
    "- CONCEPT_PATH: Represents the clinical variable for a given observation (row)\n",
    "- TVAL_CHAR: The text / character value of the clinical variable, if applicable\n",
    "- NVAL_NUM: The numerical value of the clinical variable, if applicable\n",
    "- TIMESTAMP: The date and time associated to a given observation (row)\n"
   ]
  },
  {
   "cell_type": "code",
   "execution_count": 6,
   "id": "22353812",
   "metadata": {},
   "outputs": [
    {
     "data": {
      "text/html": [
       "<div>\n",
       "<style scoped>\n",
       "    .dataframe tbody tr th:only-of-type {\n",
       "        vertical-align: middle;\n",
       "    }\n",
       "\n",
       "    .dataframe tbody tr th {\n",
       "        vertical-align: top;\n",
       "    }\n",
       "\n",
       "    .dataframe thead th {\n",
       "        text-align: right;\n",
       "    }\n",
       "</style>\n",
       "<table border=\"1\" class=\"dataframe\">\n",
       "  <thead>\n",
       "    <tr style=\"text-align: right;\">\n",
       "      <th></th>\n",
       "      <th>PATIENT_NUM</th>\n",
       "      <th>CONCEPT_PATH</th>\n",
       "      <th>TVAL_CHAR</th>\n",
       "      <th>NVAL_NUM</th>\n",
       "      <th>TIMESTAMP</th>\n",
       "    </tr>\n",
       "  </thead>\n",
       "  <tbody>\n",
       "    <tr>\n",
       "      <th>0</th>\n",
       "      <td>55f11536-c06f-87bc-971e-7a39b232ecd3</td>\n",
       "      <td>\\ACT Demographics\\Sex\\</td>\n",
       "      <td>Female</td>\n",
       "      <td>NaN</td>\n",
       "      <td>2024-07-01T16:25:50Z</td>\n",
       "    </tr>\n",
       "    <tr>\n",
       "      <th>1</th>\n",
       "      <td>55f11536-c06f-87bc-971e-7a39b232ecd3</td>\n",
       "      <td>\\ACT Demographics\\Race\\</td>\n",
       "      <td>White</td>\n",
       "      <td>NaN</td>\n",
       "      <td>2024-07-01T16:25:50Z</td>\n",
       "    </tr>\n",
       "    <tr>\n",
       "      <th>2</th>\n",
       "      <td>55f11536-c06f-87bc-971e-7a39b232ecd3</td>\n",
       "      <td>\\ACT Demographics\\Hispanic\\</td>\n",
       "      <td>No</td>\n",
       "      <td>NaN</td>\n",
       "      <td>2024-07-01T16:25:50Z</td>\n",
       "    </tr>\n",
       "    <tr>\n",
       "      <th>3</th>\n",
       "      <td>6225749a-9311-ab4e-d2a3-d9b1f919866d</td>\n",
       "      <td>\\ACT Demographics\\Sex\\</td>\n",
       "      <td>Male</td>\n",
       "      <td>NaN</td>\n",
       "      <td>2024-07-01T16:25:50Z</td>\n",
       "    </tr>\n",
       "    <tr>\n",
       "      <th>4</th>\n",
       "      <td>6225749a-9311-ab4e-d2a3-d9b1f919866d</td>\n",
       "      <td>\\ACT Demographics\\Race\\</td>\n",
       "      <td>White</td>\n",
       "      <td>NaN</td>\n",
       "      <td>2024-07-01T16:25:50Z</td>\n",
       "    </tr>\n",
       "  </tbody>\n",
       "</table>\n",
       "</div>"
      ],
      "text/plain": [
       "                            PATIENT_NUM                 CONCEPT_PATH  \\\n",
       "0  55f11536-c06f-87bc-971e-7a39b232ecd3       \\ACT Demographics\\Sex\\   \n",
       "1  55f11536-c06f-87bc-971e-7a39b232ecd3      \\ACT Demographics\\Race\\   \n",
       "2  55f11536-c06f-87bc-971e-7a39b232ecd3  \\ACT Demographics\\Hispanic\\   \n",
       "3  6225749a-9311-ab4e-d2a3-d9b1f919866d       \\ACT Demographics\\Sex\\   \n",
       "4  6225749a-9311-ab4e-d2a3-d9b1f919866d      \\ACT Demographics\\Race\\   \n",
       "\n",
       "  TVAL_CHAR  NVAL_NUM             TIMESTAMP  \n",
       "0    Female       NaN  2024-07-01T16:25:50Z  \n",
       "1     White       NaN  2024-07-01T16:25:50Z  \n",
       "2        No       NaN  2024-07-01T16:25:50Z  \n",
       "3      Male       NaN  2024-07-01T16:25:50Z  \n",
       "4     White       NaN  2024-07-01T16:25:50Z  "
      ]
     },
     "execution_count": 6,
     "metadata": {},
     "output_type": "execute_result"
    }
   ],
   "source": [
    "data.head()"
   ]
  },
  {
   "cell_type": "markdown",
   "id": "8d0208c8",
   "metadata": {},
   "source": [
    "The EHR data represented in this dataset may be very large, making it difficult to explore manually. \n",
    "\n",
    "You'll notice that the `CONCEPT_PATH` column consists of a hierarchy that narrows down to a certain clinical variable. \n",
    "\n",
    "Let's take a look at the highest level of the `CONCEPT_PATH` to see what kind of data we have. We can consider this to be the `VARIABLE_TYPE`."
   ]
  },
  {
   "cell_type": "code",
   "execution_count": 7,
   "id": "d9dd50c6",
   "metadata": {},
   "outputs": [
    {
     "data": {
      "text/plain": [
       "VARIABLE_TYPE\n",
       "ACT Lab Test Results    2788447\n",
       "ACT Medications          748721\n",
       "ACT Diagnosis ICD-10      96705\n",
       "ACT Procedures CPT        55808\n",
       "ACT Demographics          48222\n",
       "Name: count, dtype: int64"
      ]
     },
     "execution_count": 7,
     "metadata": {},
     "output_type": "execute_result"
    }
   ],
   "source": [
    "# Isolate the variable type using regular expressions, and create a new column for variable type\n",
    "data['VARIABLE_TYPE'] = data['CONCEPT_PATH'].str.extract(r'\\\\([^\\\\]+)\\\\')\n",
    "# Count how many observations are associated with each variable type\n",
    "data['VARIABLE_TYPE'].value_counts()"
   ]
  },
  {
   "cell_type": "markdown",
   "id": "08aa83b7",
   "metadata": {},
   "source": [
    "As seen above, this dataset contains the following data types: \n",
    "- ACT Lab Test Results (Labs)\n",
    "- ACT Medications\n",
    "- ACT Diagnosis ICD-10 (Diagnoses)\n",
    "- ACT Procedures CPT (Procedures)\n",
    "- ACT Demographics"
   ]
  },
  {
   "cell_type": "markdown",
   "id": "a123bda5",
   "metadata": {},
   "source": [
    "This dataset should contain about 10,000 synthetic patient records. Let's verify this by checking the count of unique patient IDs present in the dataset. "
   ]
  },
  {
   "cell_type": "code",
   "execution_count": 8,
   "id": "03729a95",
   "metadata": {},
   "outputs": [
    {
     "data": {
      "text/plain": [
       "11644"
      ]
     },
     "execution_count": 8,
     "metadata": {},
     "output_type": "execute_result"
    }
   ],
   "source": [
    "data['PATIENT_NUM'].nunique()"
   ]
  },
  {
   "cell_type": "markdown",
   "id": "b749adfe",
   "metadata": {},
   "source": [
    "Let's also check what date ranges are represented in our dataset. "
   ]
  },
  {
   "cell_type": "code",
   "execution_count": 9,
   "id": "df600579",
   "metadata": {},
   "outputs": [
    {
     "data": {
      "image/png": "[encoded data removed]",
      "text/plain": [
       "<Figure size 1200x600 with 1 Axes>"
      ]
     },
     "metadata": {},
     "output_type": "display_data"
    }
   ],
   "source": [
    "# Changing the time stamp to a date format\n",
    "data['TIMESTAMP'] = pd.to_datetime(data['TIMESTAMP'], errors='coerce')\n",
    "data['DATE'] = data['TIMESTAMP'].dt.date\n",
    "\n",
    "\n",
    "# Create a histogram of dates\n",
    "plt.figure(figsize=(12, 6))\n",
    "data['DATE'].hist(bins=30, color='skyblue', edgecolor='black')\n",
    "plt.xlabel('Date')\n",
    "plt.ylabel('Frequency')\n",
    "plt.title('Histogram of Dates')\n",
    "plt.xticks(rotation=45)\n",
    "plt.tight_layout()\n",
    "plt.show()\n"
   ]
  },
  {
   "cell_type": "markdown",
   "id": "fb2fd7d9",
   "metadata": {},
   "source": [
    "The majority of our dataset is from the last 15 years, as expected. \n",
    "\n",
    "We also see data stretching far back to 1920; perhaps this is associated with a patient's age. Depending on your research question, you may want to investigate those outliers. "
   ]
  },
  {
   "cell_type": "markdown",
   "id": "ef552dd9",
   "metadata": {},
   "source": [
    "## Exploring Demographic Data\n",
    "Here we will explore, organize and visualize the demographic data available in our dataset. This includes age, sex and race.\n",
    "\n",
    "Let's create a new dataframe called `demo_df` that will only include the demographics information."
   ]
  },
  {
   "cell_type": "code",
   "execution_count": 10,
   "id": "9ce1c34e",
   "metadata": {
    "scrolled": true
   },
   "outputs": [],
   "source": [
    "demo_df = data[data['VARIABLE_TYPE'] == 'ACT Demographics']"
   ]
  },
  {
   "cell_type": "markdown",
   "id": "59720149",
   "metadata": {},
   "source": [
    "Let's first take a look at the **sex** breakdown. \n",
    "\n",
    "We can find the Sex related observations by searching for this value in the CONCEPT_PATH column. Then, we take the sex related values (found in the TVAL_CHAR column) and transform them into a new column, \"sex\". \n"
   ]
  },
  {
   "cell_type": "code",
   "execution_count": 11,
   "id": "fb986f34",
   "metadata": {},
   "outputs": [
    {
     "data": {
      "text/html": [
       "<div>\n",
       "<style scoped>\n",
       "    .dataframe tbody tr th:only-of-type {\n",
       "        vertical-align: middle;\n",
       "    }\n",
       "\n",
       "    .dataframe tbody tr th {\n",
       "        vertical-align: top;\n",
       "    }\n",
       "\n",
       "    .dataframe thead th {\n",
       "        text-align: right;\n",
       "    }\n",
       "</style>\n",
       "<table border=\"1\" class=\"dataframe\">\n",
       "  <thead>\n",
       "    <tr style=\"text-align: right;\">\n",
       "      <th></th>\n",
       "      <th>sex</th>\n",
       "      <th>count</th>\n",
       "      <th>percentage</th>\n",
       "    </tr>\n",
       "  </thead>\n",
       "  <tbody>\n",
       "    <tr>\n",
       "      <th>0</th>\n",
       "      <td>Female</td>\n",
       "      <td>5747</td>\n",
       "      <td>49.355891</td>\n",
       "    </tr>\n",
       "    <tr>\n",
       "      <th>1</th>\n",
       "      <td>Male</td>\n",
       "      <td>5897</td>\n",
       "      <td>50.644109</td>\n",
       "    </tr>\n",
       "  </tbody>\n",
       "</table>\n",
       "</div>"
      ],
      "text/plain": [
       "      sex  count  percentage\n",
       "0  Female   5747   49.355891\n",
       "1    Male   5897   50.644109"
      ]
     },
     "execution_count": 11,
     "metadata": {},
     "output_type": "execute_result"
    }
   ],
   "source": [
    "#isolating and showing sex data:\n",
    "sex_df = demo_df[demo_df['CONCEPT_PATH'].str.contains(r'\\\\Sex\\\\', na=False)]\n",
    "\n",
    "#creating a new dataset only including the patient id#, sex and changing column name to 'sex':\n",
    "sex_df = sex_df[['PATIENT_NUM', 'TVAL_CHAR']].rename(columns={'TVAL_CHAR': 'sex'})\n",
    "\n",
    "sex_df \n",
    "\n",
    "\n",
    "#grouping by sex and calculating the percentage of each:\n",
    "sex_count = (sex_df.groupby('sex')\n",
    "              .size()\n",
    "              .reset_index(name='count'))\n",
    "sex_count['percentage'] = (sex_count['count'] / sex_count['count'].sum()) * 100\n",
    "\n",
    "sex_count\n"
   ]
  },
  {
   "cell_type": "markdown",
   "id": "17d3a9a6",
   "metadata": {},
   "source": [
    "Now let's look at the **age** distribution of our patients. \n",
    "\n",
    "Below, we isolate the age data by searching the CONCEPT_PATH for Age. Then, we take the age related values (found in the NVAL_NUM column) and transform them into a new column, \"age\". "
   ]
  },
  {
   "cell_type": "code",
   "execution_count": 12,
   "id": "94dd1187",
   "metadata": {
    "scrolled": true
   },
   "outputs": [
    {
     "data": {
      "text/html": [
       "<div>\n",
       "<style scoped>\n",
       "    .dataframe tbody tr th:only-of-type {\n",
       "        vertical-align: middle;\n",
       "    }\n",
       "\n",
       "    .dataframe tbody tr th {\n",
       "        vertical-align: top;\n",
       "    }\n",
       "\n",
       "    .dataframe thead th {\n",
       "        text-align: right;\n",
       "    }\n",
       "</style>\n",
       "<table border=\"1\" class=\"dataframe\">\n",
       "  <thead>\n",
       "    <tr style=\"text-align: right;\">\n",
       "      <th></th>\n",
       "      <th>PATIENT_NUM</th>\n",
       "      <th>age</th>\n",
       "    </tr>\n",
       "  </thead>\n",
       "  <tbody>\n",
       "    <tr>\n",
       "      <th>36578</th>\n",
       "      <td>55f11536-c06f-87bc-971e-7a39b232ecd3</td>\n",
       "      <td>5.0</td>\n",
       "    </tr>\n",
       "    <tr>\n",
       "      <th>36579</th>\n",
       "      <td>6225749a-9311-ab4e-d2a3-d9b1f919866d</td>\n",
       "      <td>15.0</td>\n",
       "    </tr>\n",
       "    <tr>\n",
       "      <th>36580</th>\n",
       "      <td>fe16b3d3-424a-86ce-00df-cd1386d7279f</td>\n",
       "      <td>7.0</td>\n",
       "    </tr>\n",
       "    <tr>\n",
       "      <th>36581</th>\n",
       "      <td>2840480c-a43b-f0eb-916d-66aca598a621</td>\n",
       "      <td>59.0</td>\n",
       "    </tr>\n",
       "    <tr>\n",
       "      <th>36582</th>\n",
       "      <td>6d316c1c-7ce7-7120-7f88-b9f0531ddb6f</td>\n",
       "      <td>9.0</td>\n",
       "    </tr>\n",
       "    <tr>\n",
       "      <th>...</th>\n",
       "      <td>...</td>\n",
       "      <td>...</td>\n",
       "    </tr>\n",
       "    <tr>\n",
       "      <th>48217</th>\n",
       "      <td>fe052b64-479b-d856-3d1f-e147f6178b18</td>\n",
       "      <td>57.0</td>\n",
       "    </tr>\n",
       "    <tr>\n",
       "      <th>48218</th>\n",
       "      <td>a9b32450-3d19-06b2-d777-6531dfae18e6</td>\n",
       "      <td>73.0</td>\n",
       "    </tr>\n",
       "    <tr>\n",
       "      <th>48219</th>\n",
       "      <td>8ce5bd67-f209-f056-03a4-7b75b46d9474</td>\n",
       "      <td>65.0</td>\n",
       "    </tr>\n",
       "    <tr>\n",
       "      <th>48220</th>\n",
       "      <td>b5d68396-bda5-d8e1-f46f-2414855e7498</td>\n",
       "      <td>77.0</td>\n",
       "    </tr>\n",
       "    <tr>\n",
       "      <th>48221</th>\n",
       "      <td>5c41e233-1551-fed2-89e4-9bb9c30789eb</td>\n",
       "      <td>69.0</td>\n",
       "    </tr>\n",
       "  </tbody>\n",
       "</table>\n",
       "<p>11644 rows × 2 columns</p>\n",
       "</div>"
      ],
      "text/plain": [
       "                                PATIENT_NUM   age\n",
       "36578  55f11536-c06f-87bc-971e-7a39b232ecd3   5.0\n",
       "36579  6225749a-9311-ab4e-d2a3-d9b1f919866d  15.0\n",
       "36580  fe16b3d3-424a-86ce-00df-cd1386d7279f   7.0\n",
       "36581  2840480c-a43b-f0eb-916d-66aca598a621  59.0\n",
       "36582  6d316c1c-7ce7-7120-7f88-b9f0531ddb6f   9.0\n",
       "...                                     ...   ...\n",
       "48217  fe052b64-479b-d856-3d1f-e147f6178b18  57.0\n",
       "48218  a9b32450-3d19-06b2-d777-6531dfae18e6  73.0\n",
       "48219  8ce5bd67-f209-f056-03a4-7b75b46d9474  65.0\n",
       "48220  b5d68396-bda5-d8e1-f46f-2414855e7498  77.0\n",
       "48221  5c41e233-1551-fed2-89e4-9bb9c30789eb  69.0\n",
       "\n",
       "[11644 rows x 2 columns]"
      ]
     },
     "execution_count": 12,
     "metadata": {},
     "output_type": "execute_result"
    }
   ],
   "source": [
    "# isolating and showing age data:\n",
    "age_df = demo_df[demo_df['CONCEPT_PATH'].str.contains(r'\\\\Age\\\\')]\n",
    "\n",
    "#creating a new dataset only including the patient id#, age and changing column name to 'age':\n",
    "age_df = age_df[['PATIENT_NUM', 'NVAL_NUM']].rename(columns={'NVAL_NUM': 'age'})\n",
    "\n",
    "age_df"
   ]
  },
  {
   "cell_type": "markdown",
   "id": "ff2f61d6",
   "metadata": {},
   "source": [
    "We can now use this age dataframe to plot the age distribution in our data. "
   ]
  },
  {
   "cell_type": "code",
   "execution_count": 13,
   "id": "21c55f00",
   "metadata": {
    "scrolled": true
   },
   "outputs": [
    {
     "data": {
      "image/png": "[encoded data removed]",
      "text/plain": [
       "<Figure size 800x500 with 1 Axes>"
      ]
     },
     "metadata": {},
     "output_type": "display_data"
    }
   ],
   "source": [
    "#Creating a histogram demonstrating the age distribution:\n",
    "\n",
    "plt.figure(figsize=(8, 5))\n",
    "sns.histplot(age_df['age'], bins=110, color='blue', edgecolor='black')\n",
    "plt.title('Age Distribution')\n",
    "plt.xlabel('Age')\n",
    "plt.ylabel('Frequency')\n",
    "\n",
    "\n",
    "plt.show()"
   ]
  },
  {
   "cell_type": "markdown",
   "id": "71cd65a7",
   "metadata": {},
   "source": [
    "We can also group our patients into age groups and create a table detailing how many patients are in each age group. \n",
    "\n",
    "We will group our patients into the following groups: \n",
    "- under 18\n",
    "- 18-65\n",
    "- 65+"
   ]
  },
  {
   "cell_type": "code",
   "execution_count": 14,
   "id": "91ffe9fb",
   "metadata": {
    "scrolled": true
   },
   "outputs": [
    {
     "data": {
      "text/html": [
       "<div>\n",
       "<style scoped>\n",
       "    .dataframe tbody tr th:only-of-type {\n",
       "        vertical-align: middle;\n",
       "    }\n",
       "\n",
       "    .dataframe tbody tr th {\n",
       "        vertical-align: top;\n",
       "    }\n",
       "\n",
       "    .dataframe thead th {\n",
       "        text-align: right;\n",
       "    }\n",
       "</style>\n",
       "<table border=\"1\" class=\"dataframe\">\n",
       "  <thead>\n",
       "    <tr style=\"text-align: right;\">\n",
       "      <th></th>\n",
       "      <th>age_group</th>\n",
       "      <th>count</th>\n",
       "    </tr>\n",
       "  </thead>\n",
       "  <tbody>\n",
       "    <tr>\n",
       "      <th>0</th>\n",
       "      <td>&lt;18</td>\n",
       "      <td>2213</td>\n",
       "    </tr>\n",
       "    <tr>\n",
       "      <th>1</th>\n",
       "      <td>18-65</td>\n",
       "      <td>7413</td>\n",
       "    </tr>\n",
       "    <tr>\n",
       "      <th>2</th>\n",
       "      <td>65+</td>\n",
       "      <td>2018</td>\n",
       "    </tr>\n",
       "  </tbody>\n",
       "</table>\n",
       "</div>"
      ],
      "text/plain": [
       "  age_group  count\n",
       "0       <18   2213\n",
       "1     18-65   7413\n",
       "2       65+   2018"
      ]
     },
     "execution_count": 14,
     "metadata": {},
     "output_type": "execute_result"
    }
   ],
   "source": [
    "# grouping by age (<18 , 18-65, 65+)\n",
    "\n",
    "age_group= age_df.copy()\n",
    "\n",
    "bins = [-float('inf'), 17, 64, float('inf')]\n",
    "labels = ['<18', '18-65', '65+']\n",
    "\n",
    "age_group['age_group'] = pd.cut(age_group['age'], bins=bins, labels=labels, right=True)\n",
    "\n",
    "\n",
    "# Calculate the number of patients in each age group\n",
    "age_group_sum = age_group['age_group'].value_counts().reindex(labels).reset_index()\n",
    "age_group_sum.columns = ['age_group', 'count']\n",
    "\n",
    "age_group_sum"
   ]
  },
  {
   "cell_type": "markdown",
   "id": "8fdf0e84",
   "metadata": {},
   "source": [
    "Finally, let's investigate the **race** distribution. \n",
    "\n",
    "Similarly to above, we isolate the race data by searching the CONCEPT_PATH for Race. Then, we take the race related values (found in the TVAL_CHAR column) and transform them into a new column, \"race\". "
   ]
  },
  {
   "cell_type": "code",
   "execution_count": 15,
   "id": "24f9b5cf",
   "metadata": {
    "scrolled": false
   },
   "outputs": [],
   "source": [
    "#isolating and showing race data:\n",
    "race_data = demo_df[demo_df['CONCEPT_PATH'].str.contains(r'\\\\Race\\\\', na=False)]\n",
    "\n",
    "#creating a new dataset only including the patient id#, age and changing column name to 'age':\n",
    "race_data = race_data[['PATIENT_NUM', 'TVAL_CHAR']].rename(columns={'TVAL_CHAR': 'race'})\n"
   ]
  },
  {
   "cell_type": "code",
   "execution_count": 16,
   "id": "887634ea",
   "metadata": {},
   "outputs": [
    {
     "data": {
      "text/html": [
       "<div>\n",
       "<style scoped>\n",
       "    .dataframe tbody tr th:only-of-type {\n",
       "        vertical-align: middle;\n",
       "    }\n",
       "\n",
       "    .dataframe tbody tr th {\n",
       "        vertical-align: top;\n",
       "    }\n",
       "\n",
       "    .dataframe thead th {\n",
       "        text-align: right;\n",
       "    }\n",
       "</style>\n",
       "<table border=\"1\" class=\"dataframe\">\n",
       "  <thead>\n",
       "    <tr style=\"text-align: right;\">\n",
       "      <th></th>\n",
       "      <th>count</th>\n",
       "      <th>percentage</th>\n",
       "      <th>race</th>\n",
       "    </tr>\n",
       "    <tr>\n",
       "      <th>race</th>\n",
       "      <th></th>\n",
       "      <th></th>\n",
       "      <th></th>\n",
       "    </tr>\n",
       "  </thead>\n",
       "  <tbody>\n",
       "    <tr>\n",
       "      <th>White</th>\n",
       "      <td>9648</td>\n",
       "      <td>82.858124</td>\n",
       "      <td>White</td>\n",
       "    </tr>\n",
       "    <tr>\n",
       "      <th>Black or African American</th>\n",
       "      <td>918</td>\n",
       "      <td>7.883889</td>\n",
       "      <td>Black or African American</td>\n",
       "    </tr>\n",
       "    <tr>\n",
       "      <th>Asian</th>\n",
       "      <td>786</td>\n",
       "      <td>6.750258</td>\n",
       "      <td>Asian</td>\n",
       "    </tr>\n",
       "    <tr>\n",
       "      <th>Native Hawaiian or Other Pacific Islander</th>\n",
       "      <td>118</td>\n",
       "      <td>1.013397</td>\n",
       "      <td>Native Hawaiian or Other Pacific Islander</td>\n",
       "    </tr>\n",
       "    <tr>\n",
       "      <th>No Information</th>\n",
       "      <td>113</td>\n",
       "      <td>0.970457</td>\n",
       "      <td>No Information</td>\n",
       "    </tr>\n",
       "    <tr>\n",
       "      <th>American Indian or Alaska Native</th>\n",
       "      <td>61</td>\n",
       "      <td>0.523875</td>\n",
       "      <td>American Indian or Alaska Native</td>\n",
       "    </tr>\n",
       "  </tbody>\n",
       "</table>\n",
       "</div>"
      ],
      "text/plain": [
       "                                           count  percentage  \\\n",
       "race                                                           \n",
       "White                                       9648   82.858124   \n",
       "Black or African American                    918    7.883889   \n",
       "Asian                                        786    6.750258   \n",
       "Native Hawaiian or Other Pacific Islander    118    1.013397   \n",
       "No Information                               113    0.970457   \n",
       "American Indian or Alaska Native              61    0.523875   \n",
       "\n",
       "                                                                                race  \n",
       "race                                                                                  \n",
       "White                                                                          White  \n",
       "Black or African American                                  Black or African American  \n",
       "Asian                                                                          Asian  \n",
       "Native Hawaiian or Other Pacific Islander  Native Hawaiian or Other Pacific Islander  \n",
       "No Information                                                        No Information  \n",
       "American Indian or Alaska Native                    American Indian or Alaska Native  "
      ]
     },
     "execution_count": 16,
     "metadata": {},
     "output_type": "execute_result"
    }
   ],
   "source": [
    "#grouping by race and calculating the percentage of each:\n",
    "\n",
    "count= race_data['race'].value_counts()\n",
    "percentages = race_data['race'].value_counts(normalize=True) * 100\n",
    "\n",
    "race_count= pd.DataFrame({\n",
    "    'count': count,\n",
    "    'percentage': percentages, \n",
    "    'race' : count.index\n",
    "    })\n",
    "race_count"
   ]
  },
  {
   "cell_type": "markdown",
   "id": "ff5e93c0",
   "metadata": {},
   "source": [
    "We will plot these results in a bar plot."
   ]
  },
  {
   "cell_type": "code",
   "execution_count": 17,
   "id": "1b256ecf",
   "metadata": {},
   "outputs": [
    {
     "name": "stderr",
     "output_type": "stream",
     "text": [
      "/tmp/ipykernel_9145/1025067948.py:3: FutureWarning: \n",
      "\n",
      "Passing `palette` without assigning `hue` is deprecated and will be removed in v0.14.0. Assign the `x` variable to `hue` and set `legend=False` for the same effect.\n",
      "\n",
      "  sns.barplot(data=race_count, x='race', y='percentage', palette='viridis')\n"
     ]
    },
    {
     "data": {
      "image/png": "[encoded data removed]",
      "text/plain": [
       "<Figure size 1000x600 with 1 Axes>"
      ]
     },
     "metadata": {},
     "output_type": "display_data"
    }
   ],
   "source": [
    "#create a bar plot representing race distribution:\n",
    "plt.figure(figsize=(10, 6))\n",
    "sns.barplot(data=race_count, x='race', y='percentage', palette='viridis')\n",
    "plt.title('Percentage by Race')\n",
    "plt.xlabel('Race')\n",
    "plt.ylabel('Percentage')\n",
    "plt.xticks(rotation=45)\n",
    "plt.show()"
   ]
  },
  {
   "cell_type": "markdown",
   "id": "119f6c8a",
   "metadata": {},
   "source": [
    "The way our initial dataset is formatted can be difficult to view multiple variables about a given patient at the same time. \n",
    "\n",
    "Below, we create one table presenting all demographic data (age, sex, race) by patient ID. "
   ]
  },
  {
   "cell_type": "code",
   "execution_count": 18,
   "id": "e5df8862",
   "metadata": {
    "scrolled": true
   },
   "outputs": [
    {
     "data": {
      "text/html": [
       "<div>\n",
       "<style scoped>\n",
       "    .dataframe tbody tr th:only-of-type {\n",
       "        vertical-align: middle;\n",
       "    }\n",
       "\n",
       "    .dataframe tbody tr th {\n",
       "        vertical-align: top;\n",
       "    }\n",
       "\n",
       "    .dataframe thead th {\n",
       "        text-align: right;\n",
       "    }\n",
       "</style>\n",
       "<table border=\"1\" class=\"dataframe\">\n",
       "  <thead>\n",
       "    <tr style=\"text-align: right;\">\n",
       "      <th></th>\n",
       "      <th>PATIENT_NUM</th>\n",
       "      <th>age</th>\n",
       "      <th>sex</th>\n",
       "      <th>race</th>\n",
       "    </tr>\n",
       "  </thead>\n",
       "  <tbody>\n",
       "    <tr>\n",
       "      <th>0</th>\n",
       "      <td>55f11536-c06f-87bc-971e-7a39b232ecd3</td>\n",
       "      <td>5.0</td>\n",
       "      <td>Female</td>\n",
       "      <td>White</td>\n",
       "    </tr>\n",
       "    <tr>\n",
       "      <th>1</th>\n",
       "      <td>6225749a-9311-ab4e-d2a3-d9b1f919866d</td>\n",
       "      <td>15.0</td>\n",
       "      <td>Male</td>\n",
       "      <td>White</td>\n",
       "    </tr>\n",
       "    <tr>\n",
       "      <th>2</th>\n",
       "      <td>fe16b3d3-424a-86ce-00df-cd1386d7279f</td>\n",
       "      <td>7.0</td>\n",
       "      <td>Male</td>\n",
       "      <td>White</td>\n",
       "    </tr>\n",
       "    <tr>\n",
       "      <th>3</th>\n",
       "      <td>2840480c-a43b-f0eb-916d-66aca598a621</td>\n",
       "      <td>59.0</td>\n",
       "      <td>Female</td>\n",
       "      <td>White</td>\n",
       "    </tr>\n",
       "    <tr>\n",
       "      <th>4</th>\n",
       "      <td>6d316c1c-7ce7-7120-7f88-b9f0531ddb6f</td>\n",
       "      <td>9.0</td>\n",
       "      <td>Female</td>\n",
       "      <td>White</td>\n",
       "    </tr>\n",
       "    <tr>\n",
       "      <th>...</th>\n",
       "      <td>...</td>\n",
       "      <td>...</td>\n",
       "      <td>...</td>\n",
       "      <td>...</td>\n",
       "    </tr>\n",
       "    <tr>\n",
       "      <th>11639</th>\n",
       "      <td>fe052b64-479b-d856-3d1f-e147f6178b18</td>\n",
       "      <td>57.0</td>\n",
       "      <td>Male</td>\n",
       "      <td>White</td>\n",
       "    </tr>\n",
       "    <tr>\n",
       "      <th>11640</th>\n",
       "      <td>a9b32450-3d19-06b2-d777-6531dfae18e6</td>\n",
       "      <td>73.0</td>\n",
       "      <td>Female</td>\n",
       "      <td>White</td>\n",
       "    </tr>\n",
       "    <tr>\n",
       "      <th>11641</th>\n",
       "      <td>8ce5bd67-f209-f056-03a4-7b75b46d9474</td>\n",
       "      <td>65.0</td>\n",
       "      <td>Female</td>\n",
       "      <td>Black or African American</td>\n",
       "    </tr>\n",
       "    <tr>\n",
       "      <th>11642</th>\n",
       "      <td>b5d68396-bda5-d8e1-f46f-2414855e7498</td>\n",
       "      <td>77.0</td>\n",
       "      <td>Male</td>\n",
       "      <td>White</td>\n",
       "    </tr>\n",
       "    <tr>\n",
       "      <th>11643</th>\n",
       "      <td>5c41e233-1551-fed2-89e4-9bb9c30789eb</td>\n",
       "      <td>69.0</td>\n",
       "      <td>Female</td>\n",
       "      <td>Black or African American</td>\n",
       "    </tr>\n",
       "  </tbody>\n",
       "</table>\n",
       "<p>11644 rows × 4 columns</p>\n",
       "</div>"
      ],
      "text/plain": [
       "                                PATIENT_NUM   age     sex  \\\n",
       "0      55f11536-c06f-87bc-971e-7a39b232ecd3   5.0  Female   \n",
       "1      6225749a-9311-ab4e-d2a3-d9b1f919866d  15.0    Male   \n",
       "2      fe16b3d3-424a-86ce-00df-cd1386d7279f   7.0    Male   \n",
       "3      2840480c-a43b-f0eb-916d-66aca598a621  59.0  Female   \n",
       "4      6d316c1c-7ce7-7120-7f88-b9f0531ddb6f   9.0  Female   \n",
       "...                                     ...   ...     ...   \n",
       "11639  fe052b64-479b-d856-3d1f-e147f6178b18  57.0    Male   \n",
       "11640  a9b32450-3d19-06b2-d777-6531dfae18e6  73.0  Female   \n",
       "11641  8ce5bd67-f209-f056-03a4-7b75b46d9474  65.0  Female   \n",
       "11642  b5d68396-bda5-d8e1-f46f-2414855e7498  77.0    Male   \n",
       "11643  5c41e233-1551-fed2-89e4-9bb9c30789eb  69.0  Female   \n",
       "\n",
       "                            race  \n",
       "0                          White  \n",
       "1                          White  \n",
       "2                          White  \n",
       "3                          White  \n",
       "4                          White  \n",
       "...                          ...  \n",
       "11639                      White  \n",
       "11640                      White  \n",
       "11641  Black or African American  \n",
       "11642                      White  \n",
       "11643  Black or African American  \n",
       "\n",
       "[11644 rows x 4 columns]"
      ]
     },
     "execution_count": 18,
     "metadata": {},
     "output_type": "execute_result"
    }
   ],
   "source": [
    "#merging all columns to show age, sex, race in one table:\n",
    "\n",
    "first_merge = pd.merge(age_df[['PATIENT_NUM', 'age']], sex_df[['PATIENT_NUM', 'sex']], on='PATIENT_NUM', how='left')\n",
    "\n",
    "demographics_joined = pd.merge(first_merge, race_data[['PATIENT_NUM', 'race']], on='PATIENT_NUM', how='left')\n",
    "\n",
    "demographics_joined"
   ]
  },
  {
   "cell_type": "markdown",
   "id": "53546716",
   "metadata": {},
   "source": [
    "## Investigating ICD codes: Epilepsy case study"
   ]
  },
  {
   "cell_type": "markdown",
   "id": "123e6fec",
   "metadata": {},
   "source": [
    "We can isolate the diagnosis related information by searching for 'ACT Diagnosis' in the CONCEPT_PATH column."
   ]
  },
  {
   "cell_type": "code",
   "execution_count": 19,
   "id": "38614c81",
   "metadata": {
    "scrolled": false
   },
   "outputs": [],
   "source": [
    "#create a new data frame including only the patients diagnosis data:\n",
    "\n",
    "diagnosis_icd10 = data[data['CONCEPT_PATH'].str.contains(r'\\\\ACT Diagnosis ICD-10\\\\')]\n"
   ]
  },
  {
   "cell_type": "markdown",
   "id": "d4734862",
   "metadata": {},
   "source": [
    "### In this case study, we will investigate epilepsy as the disease of interest. \n",
    "\n",
    "Epilapsy is represented by  ICD group code \"G40\", which includes the following and their sub-groups:\n",
    "- G40.0: Localization-related (focal) (partial) idiopathic epilepsy and epileptic syndromes with seizures of localized onset.\n",
    "- G40.1: Localization-related (focal) (partial) symptomatic epilepsy and epileptic syndromes with simple partial seizures.\n",
    "- G40.2: Localization-related (focal) (partial) symptomatic epilepsy and epileptic syndromes with complex partial seizures.\n",
    "- G40.3: Generalized idiopathic epilepsy and epileptic syndromes\n",
    "- G40.A: Absence epileptic syndrome.\n",
    "- G40.B: Juvenile myoclonic epilepsy [impulsive petit mal].\n",
    "- G40.C: Lafora progressive myoclonus epilepsy, intractable.\n",
    "- G40.4: Other generalized epilepsy and epileptic syndromes.\n",
    "- G40.5: Epileptic seizures related to external causes.\n",
    "- G40.8: Other epilepsy and recurrent seizures.\n",
    "- G40.9: Epilepsy, unspecified.\n",
    "\n",
    "*A full list of ICD-10 codes can be found at https://www.icd10data.com/ICD10CM/Codes*"
   ]
  },
  {
   "cell_type": "markdown",
   "id": "6cfa41de",
   "metadata": {},
   "source": [
    "### Isolating the patient cohort\n",
    "\n",
    "First, we create a new data-frame that only includes patients with epilepsy.\n",
    "\n",
    "We create a variable called `icd_code_of_interest` and set it to `G40`.\n",
    "\n",
    "(you can replace the ICD code \"G40\" with the ICD code of your choice if you are interested in investigating a different disease group!):\n",
    "\n",
    "You can see a preview of this epilepsy focused dataset below."
   ]
  },
  {
   "cell_type": "code",
   "execution_count": 20,
   "id": "d49bab50",
   "metadata": {},
   "outputs": [
    {
     "data": {
      "text/html": [
       "<div>\n",
       "<style scoped>\n",
       "    .dataframe tbody tr th:only-of-type {\n",
       "        vertical-align: middle;\n",
       "    }\n",
       "\n",
       "    .dataframe tbody tr th {\n",
       "        vertical-align: top;\n",
       "    }\n",
       "\n",
       "    .dataframe thead th {\n",
       "        text-align: right;\n",
       "    }\n",
       "</style>\n",
       "<table border=\"1\" class=\"dataframe\">\n",
       "  <thead>\n",
       "    <tr style=\"text-align: right;\">\n",
       "      <th></th>\n",
       "      <th>PATIENT_NUM</th>\n",
       "      <th>CONCEPT_PATH</th>\n",
       "      <th>icd_10_code</th>\n",
       "    </tr>\n",
       "  </thead>\n",
       "  <tbody>\n",
       "    <tr>\n",
       "      <th>48255</th>\n",
       "      <td>e6ca8432-abc9-e3d4-4e5d-47f972f07181</td>\n",
       "      <td>\\ACT Diagnosis ICD-10\\G00-G99 Diseases of the nervous system (G00-G99)\\G40-G47 Episodic and paroxysmal disorders (G40-G47)\\G40 Epilepsy and recurrent seizures\\G40.9 Epilepsy, unspecified\\G40.90 Epilepsy, unspecified, not intractable</td>\n",
       "      <td>G40.909 Epilepsy, unspecified, not intractable, without status epilepticus</td>\n",
       "    </tr>\n",
       "    <tr>\n",
       "      <th>48256</th>\n",
       "      <td>e6ca8432-abc9-e3d4-4e5d-47f972f07181</td>\n",
       "      <td>\\ACT Diagnosis ICD-10\\G00-G99 Diseases of the nervous system (G00-G99)\\G40-G47 Episodic and paroxysmal disorders (G40-G47)\\G40 Epilepsy and recurrent seizures\\G40.9 Epilepsy, unspecified\\G40.90 Epilepsy, unspecified, not intractable</td>\n",
       "      <td>G40.909 Epilepsy, unspecified, not intractable, without status epilepticus</td>\n",
       "    </tr>\n",
       "    <tr>\n",
       "      <th>48257</th>\n",
       "      <td>e6ca8432-abc9-e3d4-4e5d-47f972f07181</td>\n",
       "      <td>\\ACT Diagnosis ICD-10\\G00-G99 Diseases of the nervous system (G00-G99)\\G40-G47 Episodic and paroxysmal disorders (G40-G47)\\G40 Epilepsy and recurrent seizures\\G40.9 Epilepsy, unspecified\\G40.90 Epilepsy, unspecified, not intractable</td>\n",
       "      <td>G40.909 Epilepsy, unspecified, not intractable, without status epilepticus</td>\n",
       "    </tr>\n",
       "    <tr>\n",
       "      <th>48258</th>\n",
       "      <td>e6ca8432-abc9-e3d4-4e5d-47f972f07181</td>\n",
       "      <td>\\ACT Diagnosis ICD-10\\G00-G99 Diseases of the nervous system (G00-G99)\\G40-G47 Episodic and paroxysmal disorders (G40-G47)\\G40 Epilepsy and recurrent seizures\\G40.9 Epilepsy, unspecified\\G40.90 Epilepsy, unspecified, not intractable</td>\n",
       "      <td>G40.909 Epilepsy, unspecified, not intractable, without status epilepticus</td>\n",
       "    </tr>\n",
       "    <tr>\n",
       "      <th>48259</th>\n",
       "      <td>e6ca8432-abc9-e3d4-4e5d-47f972f07181</td>\n",
       "      <td>\\ACT Diagnosis ICD-10\\G00-G99 Diseases of the nervous system (G00-G99)\\G40-G47 Episodic and paroxysmal disorders (G40-G47)\\G40 Epilepsy and recurrent seizures\\G40.9 Epilepsy, unspecified\\G40.90 Epilepsy, unspecified, not intractable</td>\n",
       "      <td>G40.909 Epilepsy, unspecified, not intractable, without status epilepticus</td>\n",
       "    </tr>\n",
       "  </tbody>\n",
       "</table>\n",
       "</div>"
      ],
      "text/plain": [
       "                                PATIENT_NUM  \\\n",
       "48255  e6ca8432-abc9-e3d4-4e5d-47f972f07181   \n",
       "48256  e6ca8432-abc9-e3d4-4e5d-47f972f07181   \n",
       "48257  e6ca8432-abc9-e3d4-4e5d-47f972f07181   \n",
       "48258  e6ca8432-abc9-e3d4-4e5d-47f972f07181   \n",
       "48259  e6ca8432-abc9-e3d4-4e5d-47f972f07181   \n",
       "\n",
       "                                                                                                                                                                                                                                   CONCEPT_PATH  \\\n",
       "48255  \\ACT Diagnosis ICD-10\\G00-G99 Diseases of the nervous system (G00-G99)\\G40-G47 Episodic and paroxysmal disorders (G40-G47)\\G40 Epilepsy and recurrent seizures\\G40.9 Epilepsy, unspecified\\G40.90 Epilepsy, unspecified, not intractable   \n",
       "48256  \\ACT Diagnosis ICD-10\\G00-G99 Diseases of the nervous system (G00-G99)\\G40-G47 Episodic and paroxysmal disorders (G40-G47)\\G40 Epilepsy and recurrent seizures\\G40.9 Epilepsy, unspecified\\G40.90 Epilepsy, unspecified, not intractable   \n",
       "48257  \\ACT Diagnosis ICD-10\\G00-G99 Diseases of the nervous system (G00-G99)\\G40-G47 Episodic and paroxysmal disorders (G40-G47)\\G40 Epilepsy and recurrent seizures\\G40.9 Epilepsy, unspecified\\G40.90 Epilepsy, unspecified, not intractable   \n",
       "48258  \\ACT Diagnosis ICD-10\\G00-G99 Diseases of the nervous system (G00-G99)\\G40-G47 Episodic and paroxysmal disorders (G40-G47)\\G40 Epilepsy and recurrent seizures\\G40.9 Epilepsy, unspecified\\G40.90 Epilepsy, unspecified, not intractable   \n",
       "48259  \\ACT Diagnosis ICD-10\\G00-G99 Diseases of the nervous system (G00-G99)\\G40-G47 Episodic and paroxysmal disorders (G40-G47)\\G40 Epilepsy and recurrent seizures\\G40.9 Epilepsy, unspecified\\G40.90 Epilepsy, unspecified, not intractable   \n",
       "\n",
       "                                                                      icd_10_code  \n",
       "48255  G40.909 Epilepsy, unspecified, not intractable, without status epilepticus  \n",
       "48256  G40.909 Epilepsy, unspecified, not intractable, without status epilepticus  \n",
       "48257  G40.909 Epilepsy, unspecified, not intractable, without status epilepticus  \n",
       "48258  G40.909 Epilepsy, unspecified, not intractable, without status epilepticus  \n",
       "48259  G40.909 Epilepsy, unspecified, not intractable, without status epilepticus  "
      ]
     },
     "execution_count": 20,
     "metadata": {},
     "output_type": "execute_result"
    }
   ],
   "source": [
    "icd_code_of_interest = 'G40'\n",
    "\n",
    "#filtering to include only patients diagnosed with epilepsy and recurrent seizures (ICD GROUP CODE G40):\n",
    "\n",
    "epilepsy_icd10 = diagnosis_icd10[diagnosis_icd10['TVAL_CHAR'].str.contains(icd_code_of_interest)]\n",
    "epilepsy_icd10 = epilepsy_icd10[['PATIENT_NUM', 'CONCEPT_PATH', 'TVAL_CHAR']].rename(columns={'TVAL_CHAR': 'icd_10_code'})\n",
    "\n",
    "# creating a final list of patient_ids with epilepsy (G40 group code), removing duplicates entries for same patient id :\n",
    "epilepsy_icd10_patient_ids = pd.DataFrame(epilepsy_icd10['PATIENT_NUM'].unique(), columns=['PATIENT_NUM'])\n",
    "\n",
    "epilepsy_icd10.head()"
   ]
  },
  {
   "cell_type": "markdown",
   "id": "14740839",
   "metadata": {},
   "source": [
    "Let's also isolate the demographic data for patients who have been diagnosed with epilepsy, and see how much of our dataset they represent."
   ]
  },
  {
   "cell_type": "code",
   "execution_count": 21,
   "id": "36785e1d",
   "metadata": {},
   "outputs": [
    {
     "name": "stdout",
     "output_type": "stream",
     "text": [
      "3.59 % of patients in our dataset have been diagnosed with an epilepsy ICD10 code.\n"
     ]
    }
   ],
   "source": [
    "# merging the patient id list with the demographic data\n",
    "\n",
    "epi_demo= pd.merge(epilepsy_icd10_patient_ids, demographics_joined, on='PATIENT_NUM', how='left')\n",
    "\n",
    "# calculating percentage of patients with epilepsy from total dataset cohort:\n",
    "\n",
    "epilepsy_percentage = (len(epilepsy_icd10_patient_ids) / data['PATIENT_NUM'].nunique()) * 100           \n",
    "print(round(epilepsy_percentage, 2), \"% of patients in our dataset have been diagnosed with an epilepsy ICD10 code.\")  "
   ]
  },
  {
   "cell_type": "markdown",
   "id": "a2ebbc53",
   "metadata": {},
   "source": [
    "### Investigating the presence of other diagnostic codes in our defined patient cohort\n",
    "Our cohort consists of patients with epilepsy. \n",
    "Let's say we are interested in comparing which patients with epilepsy also have been diagnosed with migranes (ICD GROUP CODE G43).\n",
    "\n",
    "We create a variable called `icd` and set it to `G43`. (you can replace the ICD code \"G43\" with the ICD code of your choice in the next chunk of code)\n",
    "\n",
    "We then search for this ICD code of interest within our cohort. "
   ]
  },
  {
   "cell_type": "code",
   "execution_count": 22,
   "id": "f4212407",
   "metadata": {},
   "outputs": [],
   "source": [
    "icd = 'G43'\n",
    "# first, creating a dataframe including only patients diagnosed with migraines (ICD GROUP CODE G43)\n",
    "\n",
    "migraines_icd10 = (diagnosis_icd10[diagnosis_icd10['TVAL_CHAR'].str.contains(icd)]\n",
    "                  .loc[:, ['PATIENT_NUM', 'CONCEPT_PATH', 'TVAL_CHAR']]\n",
    "                  .rename(columns={'TVAL_CHAR': 'icd_10_code'}))\n",
    "\n",
    "#next, extracting only the patient id's and removing any duplicates.\n",
    "migraines_icd10_patient_ids = pd.DataFrame(migraines_icd10['PATIENT_NUM'].unique(), columns=['PATIENT_NUM'])\n",
    "\n",
    "#finally, merging the epilepsy patient id list with the migraine patient id list to create a list including only patients that have both epilepsy and migraine ICD10 codes \n",
    "\n",
    "epilepsy_migraine= pd.merge(epilepsy_icd10_patient_ids, migraines_icd10_patient_ids, on='PATIENT_NUM', how='inner')\n",
    "\n"
   ]
  },
  {
   "cell_type": "markdown",
   "id": "96d15fef",
   "metadata": {},
   "source": [
    "Now, let's examine the original epilepsy dataframe and add a column indicating which patients also have migraines:"
   ]
  },
  {
   "cell_type": "code",
   "execution_count": 23,
   "id": "b957d7e2",
   "metadata": {},
   "outputs": [
    {
     "data": {
      "text/html": [
       "<div>\n",
       "<style scoped>\n",
       "    .dataframe tbody tr th:only-of-type {\n",
       "        vertical-align: middle;\n",
       "    }\n",
       "\n",
       "    .dataframe tbody tr th {\n",
       "        vertical-align: top;\n",
       "    }\n",
       "\n",
       "    .dataframe thead th {\n",
       "        text-align: right;\n",
       "    }\n",
       "</style>\n",
       "<table border=\"1\" class=\"dataframe\">\n",
       "  <thead>\n",
       "    <tr style=\"text-align: right;\">\n",
       "      <th></th>\n",
       "      <th>PATIENT_NUM</th>\n",
       "      <th>migraines</th>\n",
       "      <th>age</th>\n",
       "      <th>sex</th>\n",
       "      <th>race</th>\n",
       "    </tr>\n",
       "  </thead>\n",
       "  <tbody>\n",
       "    <tr>\n",
       "      <th>349</th>\n",
       "      <td>000fae46-91b6-a373-1134-296eb55705e1</td>\n",
       "      <td>0</td>\n",
       "      <td>69.0</td>\n",
       "      <td>Male</td>\n",
       "      <td>White</td>\n",
       "    </tr>\n",
       "    <tr>\n",
       "      <th>203</th>\n",
       "      <td>001ac6f0-8c11-79fc-8521-b004f687d67f</td>\n",
       "      <td>1</td>\n",
       "      <td>55.0</td>\n",
       "      <td>Female</td>\n",
       "      <td>White</td>\n",
       "    </tr>\n",
       "    <tr>\n",
       "      <th>318</th>\n",
       "      <td>00444938-6d64-989b-b975-519e92b26171</td>\n",
       "      <td>0</td>\n",
       "      <td>2.0</td>\n",
       "      <td>Female</td>\n",
       "      <td>White</td>\n",
       "    </tr>\n",
       "    <tr>\n",
       "      <th>279</th>\n",
       "      <td>0223b8f5-ddf1-be38-64c5-4b69c5f311f4</td>\n",
       "      <td>0</td>\n",
       "      <td>47.0</td>\n",
       "      <td>Female</td>\n",
       "      <td>White</td>\n",
       "    </tr>\n",
       "    <tr>\n",
       "      <th>328</th>\n",
       "      <td>0277b5f2-d7ed-0784-bcc6-39fa409f04fc</td>\n",
       "      <td>0</td>\n",
       "      <td>23.0</td>\n",
       "      <td>Female</td>\n",
       "      <td>White</td>\n",
       "    </tr>\n",
       "    <tr>\n",
       "      <th>...</th>\n",
       "      <td>...</td>\n",
       "      <td>...</td>\n",
       "      <td>...</td>\n",
       "      <td>...</td>\n",
       "      <td>...</td>\n",
       "    </tr>\n",
       "    <tr>\n",
       "      <th>213</th>\n",
       "      <td>fcf38fba-9ee3-368a-1a4b-e7612779b579</td>\n",
       "      <td>0</td>\n",
       "      <td>27.0</td>\n",
       "      <td>Male</td>\n",
       "      <td>White</td>\n",
       "    </tr>\n",
       "    <tr>\n",
       "      <th>268</th>\n",
       "      <td>ff40b184-64df-642f-193c-3d2e1ab7606b</td>\n",
       "      <td>0</td>\n",
       "      <td>56.0</td>\n",
       "      <td>Female</td>\n",
       "      <td>White</td>\n",
       "    </tr>\n",
       "    <tr>\n",
       "      <th>113</th>\n",
       "      <td>ff78e9e4-6142-421b-e0e0-1be9289c7abb</td>\n",
       "      <td>0</td>\n",
       "      <td>16.0</td>\n",
       "      <td>Female</td>\n",
       "      <td>White</td>\n",
       "    </tr>\n",
       "    <tr>\n",
       "      <th>145</th>\n",
       "      <td>ff82920b-399a-6785-1b66-8e5795631041</td>\n",
       "      <td>0</td>\n",
       "      <td>78.0</td>\n",
       "      <td>Male</td>\n",
       "      <td>White</td>\n",
       "    </tr>\n",
       "    <tr>\n",
       "      <th>377</th>\n",
       "      <td>ffc5858e-0862-de1e-8075-e2f025746a4d</td>\n",
       "      <td>0</td>\n",
       "      <td>8.0</td>\n",
       "      <td>Female</td>\n",
       "      <td>White</td>\n",
       "    </tr>\n",
       "  </tbody>\n",
       "</table>\n",
       "<p>418 rows × 5 columns</p>\n",
       "</div>"
      ],
      "text/plain": [
       "                              PATIENT_NUM  migraines   age     sex   race\n",
       "349  000fae46-91b6-a373-1134-296eb55705e1          0  69.0    Male  White\n",
       "203  001ac6f0-8c11-79fc-8521-b004f687d67f          1  55.0  Female  White\n",
       "318  00444938-6d64-989b-b975-519e92b26171          0   2.0  Female  White\n",
       "279  0223b8f5-ddf1-be38-64c5-4b69c5f311f4          0  47.0  Female  White\n",
       "328  0277b5f2-d7ed-0784-bcc6-39fa409f04fc          0  23.0  Female  White\n",
       "..                                    ...        ...   ...     ...    ...\n",
       "213  fcf38fba-9ee3-368a-1a4b-e7612779b579          0  27.0    Male  White\n",
       "268  ff40b184-64df-642f-193c-3d2e1ab7606b          0  56.0  Female  White\n",
       "113  ff78e9e4-6142-421b-e0e0-1be9289c7abb          0  16.0  Female  White\n",
       "145  ff82920b-399a-6785-1b66-8e5795631041          0  78.0    Male  White\n",
       "377  ffc5858e-0862-de1e-8075-e2f025746a4d          0   8.0  Female  White\n",
       "\n",
       "[418 rows x 5 columns]"
      ]
     },
     "execution_count": 23,
     "metadata": {},
     "output_type": "execute_result"
    }
   ],
   "source": [
    "# merging the joint list to the original epilepsy patient list, and creating a migraine column indicating if the patient with epilepsy also has a migraine diagnosis (yes=1/ no=0):\n",
    "\n",
    "epilepsy_migraine['migraines'] = 1\n",
    "\n",
    "epilepsy_merged = (pd.merge(epilepsy_icd10_patient_ids, epilepsy_migraine, on='PATIENT_NUM', how='left')\n",
    "                   .fillna({'migraines': 0})\n",
    "                   .astype({'migraines': int})\n",
    "                   .merge(epi_demo, on='PATIENT_NUM', how='left')\n",
    "                   .sort_values(by='PATIENT_NUM'))\n",
    "\n",
    "epilepsy_merged"
   ]
  },
  {
   "cell_type": "markdown",
   "id": "7c647d55",
   "metadata": {},
   "source": [
    "The following table shows the percentage of patients with migraines in the epilepsy patient cohort.\n",
    "\n",
    "We can see that only a small percentage of our patients with epilepsy also experience migraines."
   ]
  },
  {
   "cell_type": "code",
   "execution_count": 24,
   "id": "45e6e1cb",
   "metadata": {},
   "outputs": [
    {
     "data": {
      "text/html": [
       "<div>\n",
       "<style scoped>\n",
       "    .dataframe tbody tr th:only-of-type {\n",
       "        vertical-align: middle;\n",
       "    }\n",
       "\n",
       "    .dataframe tbody tr th {\n",
       "        vertical-align: top;\n",
       "    }\n",
       "\n",
       "    .dataframe thead th {\n",
       "        text-align: right;\n",
       "    }\n",
       "</style>\n",
       "<table border=\"1\" class=\"dataframe\">\n",
       "  <thead>\n",
       "    <tr style=\"text-align: right;\">\n",
       "      <th></th>\n",
       "      <th>migraines</th>\n",
       "      <th>count</th>\n",
       "      <th>percentage</th>\n",
       "    </tr>\n",
       "  </thead>\n",
       "  <tbody>\n",
       "    <tr>\n",
       "      <th>0</th>\n",
       "      <td>0</td>\n",
       "      <td>398</td>\n",
       "      <td>95.22</td>\n",
       "    </tr>\n",
       "    <tr>\n",
       "      <th>1</th>\n",
       "      <td>1</td>\n",
       "      <td>20</td>\n",
       "      <td>4.78</td>\n",
       "    </tr>\n",
       "  </tbody>\n",
       "</table>\n",
       "</div>"
      ],
      "text/plain": [
       "   migraines  count  percentage\n",
       "0          0    398       95.22\n",
       "1          1     20        4.78"
      ]
     },
     "execution_count": 24,
     "metadata": {},
     "output_type": "execute_result"
    }
   ],
   "source": [
    "#calculating the number and percentage of patient with migraines in the epilepsy patient cohort\n",
    "\n",
    "epi_mig_count = epilepsy_merged.groupby('migraines').size().reset_index(name='count')\n",
    "epi_mig_count['percentage'] = round((epi_mig_count['count'] / epi_mig_count['count'].sum()) * 100, 2)\n",
    "\n",
    "epi_mig_count\n"
   ]
  },
  {
   "cell_type": "markdown",
   "id": "4ad7ab77",
   "metadata": {},
   "source": [
    "### Investigating what medications have been administered to our cohort of interest\n",
    "\n",
    "Let's now look into the medications data. We can isolate the medications data by searching the CONCEPT_PATH variable for the term `ACT Medications`."
   ]
  },
  {
   "cell_type": "code",
   "execution_count": 25,
   "id": "758849f9",
   "metadata": {},
   "outputs": [
    {
     "data": {
      "text/html": [
       "<div>\n",
       "<style scoped>\n",
       "    .dataframe tbody tr th:only-of-type {\n",
       "        vertical-align: middle;\n",
       "    }\n",
       "\n",
       "    .dataframe tbody tr th {\n",
       "        vertical-align: top;\n",
       "    }\n",
       "\n",
       "    .dataframe thead th {\n",
       "        text-align: right;\n",
       "    }\n",
       "</style>\n",
       "<table border=\"1\" class=\"dataframe\">\n",
       "  <thead>\n",
       "    <tr style=\"text-align: right;\">\n",
       "      <th></th>\n",
       "      <th>PATIENT_NUM</th>\n",
       "      <th>CONCEPT_PATH</th>\n",
       "      <th>TVAL_CHAR</th>\n",
       "      <th>NVAL_NUM</th>\n",
       "      <th>TIMESTAMP</th>\n",
       "      <th>VARIABLE_TYPE</th>\n",
       "      <th>DATE</th>\n",
       "    </tr>\n",
       "  </thead>\n",
       "  <tbody>\n",
       "    <tr>\n",
       "      <th>2933374</th>\n",
       "      <td>fe16b3d3-424a-86ce-00df-cd1386d7279f</td>\n",
       "      <td>\\ACT Medications\\I [Preparations]\\Ibuprofen\\Ibuprofen Oral Tablet\\Ibuprofen 100 Mg Oral Tablet</td>\n",
       "      <td>NaN</td>\n",
       "      <td>1.0</td>\n",
       "      <td>2021-08-10 01:36:06+00:00</td>\n",
       "      <td>ACT Medications</td>\n",
       "      <td>2021-08-10</td>\n",
       "    </tr>\n",
       "    <tr>\n",
       "      <th>2933375</th>\n",
       "      <td>2840480c-a43b-f0eb-916d-66aca598a621</td>\n",
       "      <td>\\ACT Medications\\D [Preparations]\\Diphenhydramine\\Diphenhydramine Oral Tablet\\Diphenhydramine Hydrochloride 25 Mg Oral Tablet</td>\n",
       "      <td>NaN</td>\n",
       "      <td>670.0</td>\n",
       "      <td>1969-06-07 12:03:51+00:00</td>\n",
       "      <td>ACT Medications</td>\n",
       "      <td>1969-06-07</td>\n",
       "    </tr>\n",
       "    <tr>\n",
       "      <th>2933376</th>\n",
       "      <td>2840480c-a43b-f0eb-916d-66aca598a621</td>\n",
       "      <td>\\ACT Medications\\C [Preparations]\\Clopidogrel\\Clopidogrel Oral Tablet\\Clopidogrel 75 Mg Oral Tablet</td>\n",
       "      <td>NaN</td>\n",
       "      <td>189.0</td>\n",
       "      <td>2008-12-06 12:03:51+00:00</td>\n",
       "      <td>ACT Medications</td>\n",
       "      <td>2008-12-06</td>\n",
       "    </tr>\n",
       "    <tr>\n",
       "      <th>2933377</th>\n",
       "      <td>2840480c-a43b-f0eb-916d-66aca598a621</td>\n",
       "      <td>\\ACT Medications\\S [Preparations]\\Simvastatin\\Simvastatin Oral Tablet\\Simvastatin 20 Mg Oral Tablet</td>\n",
       "      <td>NaN</td>\n",
       "      <td>189.0</td>\n",
       "      <td>2008-12-06 12:03:51+00:00</td>\n",
       "      <td>ACT Medications</td>\n",
       "      <td>2008-12-06</td>\n",
       "    </tr>\n",
       "    <tr>\n",
       "      <th>2933378</th>\n",
       "      <td>2840480c-a43b-f0eb-916d-66aca598a621</td>\n",
       "      <td>\\ACT Medications\\M [Preparations]\\Metoprolol\\Metoprolol Extended Release Oral Tablet\\24 Hr Metoprolol Succinate 100 Mg Extended Release Oral Tablet</td>\n",
       "      <td>NaN</td>\n",
       "      <td>189.0</td>\n",
       "      <td>2008-12-06 12:03:51+00:00</td>\n",
       "      <td>ACT Medications</td>\n",
       "      <td>2008-12-06</td>\n",
       "    </tr>\n",
       "  </tbody>\n",
       "</table>\n",
       "</div>"
      ],
      "text/plain": [
       "                                  PATIENT_NUM  \\\n",
       "2933374  fe16b3d3-424a-86ce-00df-cd1386d7279f   \n",
       "2933375  2840480c-a43b-f0eb-916d-66aca598a621   \n",
       "2933376  2840480c-a43b-f0eb-916d-66aca598a621   \n",
       "2933377  2840480c-a43b-f0eb-916d-66aca598a621   \n",
       "2933378  2840480c-a43b-f0eb-916d-66aca598a621   \n",
       "\n",
       "                                                                                                                                                CONCEPT_PATH  \\\n",
       "2933374                                                       \\ACT Medications\\I [Preparations]\\Ibuprofen\\Ibuprofen Oral Tablet\\Ibuprofen 100 Mg Oral Tablet   \n",
       "2933375                        \\ACT Medications\\D [Preparations]\\Diphenhydramine\\Diphenhydramine Oral Tablet\\Diphenhydramine Hydrochloride 25 Mg Oral Tablet   \n",
       "2933376                                                  \\ACT Medications\\C [Preparations]\\Clopidogrel\\Clopidogrel Oral Tablet\\Clopidogrel 75 Mg Oral Tablet   \n",
       "2933377                                                  \\ACT Medications\\S [Preparations]\\Simvastatin\\Simvastatin Oral Tablet\\Simvastatin 20 Mg Oral Tablet   \n",
       "2933378  \\ACT Medications\\M [Preparations]\\Metoprolol\\Metoprolol Extended Release Oral Tablet\\24 Hr Metoprolol Succinate 100 Mg Extended Release Oral Tablet   \n",
       "\n",
       "        TVAL_CHAR  NVAL_NUM                 TIMESTAMP    VARIABLE_TYPE  \\\n",
       "2933374       NaN       1.0 2021-08-10 01:36:06+00:00  ACT Medications   \n",
       "2933375       NaN     670.0 1969-06-07 12:03:51+00:00  ACT Medications   \n",
       "2933376       NaN     189.0 2008-12-06 12:03:51+00:00  ACT Medications   \n",
       "2933377       NaN     189.0 2008-12-06 12:03:51+00:00  ACT Medications   \n",
       "2933378       NaN     189.0 2008-12-06 12:03:51+00:00  ACT Medications   \n",
       "\n",
       "               DATE  \n",
       "2933374  2021-08-10  \n",
       "2933375  1969-06-07  \n",
       "2933376  2008-12-06  \n",
       "2933377  2008-12-06  \n",
       "2933378  2008-12-06  "
      ]
     },
     "execution_count": 25,
     "metadata": {},
     "output_type": "execute_result"
    }
   ],
   "source": [
    "#creating a new dataframe containing only medication data:\n",
    "\n",
    "medications = data[data['CONCEPT_PATH'].str.contains(r'\\\\ACT Medications')]\n",
    "\n",
    "medications.head()"
   ]
  },
  {
   "cell_type": "markdown",
   "id": "e75e6ad8",
   "metadata": {},
   "source": [
    "For our epilepsy case study, we are interested in knowing whether a patient has been administered Carbamazepine or Pregabalin. \n",
    "- Carbamazepine is used to manage and treat epilepsy, trigeminal neuralgia, and acute manic and mixed episodes in bipolar I disorder.\n",
    "- Pregabalin treats nerve and muscle pain, including fibromyalgia. It can also treat seizures.\n",
    "\n",
    "\n",
    "We will search our dataset for these medications and isolate which patients are associated to those observations.\n",
    "\n",
    "We then isolate our results to our cohort of interest. \n",
    "\n",
    "The resulting table contains information on whether or not a patient who was diagnosed with epilepsy was ever administered carbamazepine or pregabalin. "
   ]
  },
  {
   "cell_type": "code",
   "execution_count": 26,
   "id": "a079b7de",
   "metadata": {},
   "outputs": [
    {
     "data": {
      "text/html": [
       "<div>\n",
       "<style scoped>\n",
       "    .dataframe tbody tr th:only-of-type {\n",
       "        vertical-align: middle;\n",
       "    }\n",
       "\n",
       "    .dataframe tbody tr th {\n",
       "        vertical-align: top;\n",
       "    }\n",
       "\n",
       "    .dataframe thead th {\n",
       "        text-align: right;\n",
       "    }\n",
       "</style>\n",
       "<table border=\"1\" class=\"dataframe\">\n",
       "  <thead>\n",
       "    <tr style=\"text-align: right;\">\n",
       "      <th></th>\n",
       "      <th>PATIENT_NUM</th>\n",
       "      <th>carbamazepine</th>\n",
       "      <th>pregabalin</th>\n",
       "    </tr>\n",
       "  </thead>\n",
       "  <tbody>\n",
       "    <tr>\n",
       "      <th>0</th>\n",
       "      <td>e6ca8432-abc9-e3d4-4e5d-47f972f07181</td>\n",
       "      <td>0</td>\n",
       "      <td>0</td>\n",
       "    </tr>\n",
       "    <tr>\n",
       "      <th>1</th>\n",
       "      <td>fc3d7a3a-b034-9727-8e4d-08c63d8b524e</td>\n",
       "      <td>0</td>\n",
       "      <td>0</td>\n",
       "    </tr>\n",
       "    <tr>\n",
       "      <th>2</th>\n",
       "      <td>fb97ef69-a780-401d-cbb0-4e71b106f1be</td>\n",
       "      <td>0</td>\n",
       "      <td>0</td>\n",
       "    </tr>\n",
       "    <tr>\n",
       "      <th>3</th>\n",
       "      <td>d0b49cc6-23d8-5d0e-8c67-f604d008b856</td>\n",
       "      <td>1</td>\n",
       "      <td>0</td>\n",
       "    </tr>\n",
       "    <tr>\n",
       "      <th>4</th>\n",
       "      <td>e4e11faf-ef05-bcc7-245d-99d1ec8be5e2</td>\n",
       "      <td>0</td>\n",
       "      <td>0</td>\n",
       "    </tr>\n",
       "  </tbody>\n",
       "</table>\n",
       "</div>"
      ],
      "text/plain": [
       "                            PATIENT_NUM  carbamazepine  pregabalin\n",
       "0  e6ca8432-abc9-e3d4-4e5d-47f972f07181              0           0\n",
       "1  fc3d7a3a-b034-9727-8e4d-08c63d8b524e              0           0\n",
       "2  fb97ef69-a780-401d-cbb0-4e71b106f1be              0           0\n",
       "3  d0b49cc6-23d8-5d0e-8c67-f604d008b856              1           0\n",
       "4  e4e11faf-ef05-bcc7-245d-99d1ec8be5e2              0           0"
      ]
     },
     "execution_count": 26,
     "metadata": {},
     "output_type": "execute_result"
    }
   ],
   "source": [
    "#filtering original data set to patients receiving Carbamazepine or/and Pregabalin\n",
    "\n",
    "carba_preg = (data[data['CONCEPT_PATH'].str.contains(r'Carbamazepine|Pregabalin')]\n",
    "              [['PATIENT_NUM', 'CONCEPT_PATH']])\n",
    "\n",
    "#creating a new column indicating if a patient has been prescribed Carbamazepine or Pregabalin (yes=1,no=0) for easier visualization and data manipulation \n",
    "carba_preg['carbamazepine'] = carba_preg['CONCEPT_PATH'].str.contains('Carbamazepine').astype(int)\n",
    "carba_preg['pregabalin'] = carba_preg['CONCEPT_PATH'].str.contains('Pregabalin').astype(int)\n",
    "\n",
    "carba_preg = carba_preg[['PATIENT_NUM', 'carbamazepine', 'pregabalin']].drop_duplicates()\n",
    "\n",
    "# merging the patient id list of epilepsy patients with the patient medication data frame, filing missing entries with \"0\"(=no/ no information included in dataset):\n",
    "\n",
    "patient_icd10_med = (\n",
    "    pd.merge(epilepsy_icd10_patient_ids, carba_preg, on='PATIENT_NUM', how='left')\n",
    "    .fillna(0)\n",
    "    .astype({'carbamazepine': 'int', 'pregabalin': 'int'})\n",
    ")\n",
    "\n",
    "\n",
    "patient_icd10_med.head()"
   ]
  },
  {
   "cell_type": "code",
   "execution_count": 27,
   "id": "5d2a1e26",
   "metadata": {},
   "outputs": [
    {
     "name": "stdout",
     "output_type": "stream",
     "text": [
      "122 patient(s) with epilepsy were taking carbamazepine\n",
      "1 patient(s) with epilepsy were taking pregabalin\n"
     ]
    }
   ],
   "source": [
    "print(patient_icd10_med['carbamazepine'].value_counts()[1], \"patient(s) with epilepsy were taking carbamazepine\")\n",
    "print(patient_icd10_med['pregabalin'].value_counts()[1], \"patient(s) with epilepsy were taking pregabalin\")"
   ]
  },
  {
   "cell_type": "markdown",
   "id": "0fcf39ac",
   "metadata": {},
   "source": [
    "### Invsetigating lab results over time for our cohort of interest\n",
    "\n",
    "We can isolate the lab related information by searching for 'ACT Lab Test Results' in the CONCEPT_PATH column.\n",
    "\n",
    "Below is a preview of the labs available in the dataset. "
   ]
  },
  {
   "cell_type": "code",
   "execution_count": 28,
   "id": "9db402d0",
   "metadata": {
    "scrolled": true
   },
   "outputs": [
    {
     "data": {
      "text/html": [
       "<div>\n",
       "<style scoped>\n",
       "    .dataframe tbody tr th:only-of-type {\n",
       "        vertical-align: middle;\n",
       "    }\n",
       "\n",
       "    .dataframe tbody tr th {\n",
       "        vertical-align: top;\n",
       "    }\n",
       "\n",
       "    .dataframe thead th {\n",
       "        text-align: right;\n",
       "    }\n",
       "</style>\n",
       "<table border=\"1\" class=\"dataframe\">\n",
       "  <thead>\n",
       "    <tr style=\"text-align: right;\">\n",
       "      <th></th>\n",
       "      <th>CONCEPT_PATH</th>\n",
       "    </tr>\n",
       "  </thead>\n",
       "  <tbody>\n",
       "    <tr>\n",
       "      <th>0</th>\n",
       "      <td>\\ACT Lab Test Results\\Chemistry\\Electrolytes\\Bicarbonate\\Carbon dioxide in Serum or Plasma</td>\n",
       "    </tr>\n",
       "    <tr>\n",
       "      <th>1</th>\n",
       "      <td>\\ACT Lab Test Results\\Chemistry\\Electrolytes\\Calcium\\Calcium in Blood</td>\n",
       "    </tr>\n",
       "    <tr>\n",
       "      <th>2</th>\n",
       "      <td>\\ACT Lab Test Results\\Chemistry\\Electrolytes\\Calcium\\Calcium in Serum or Plasma</td>\n",
       "    </tr>\n",
       "    <tr>\n",
       "      <th>3</th>\n",
       "      <td>\\ACT Lab Test Results\\Chemistry\\Electrolytes\\Chloride\\Chloride in Blood</td>\n",
       "    </tr>\n",
       "    <tr>\n",
       "      <th>4</th>\n",
       "      <td>\\ACT Lab Test Results\\Chemistry\\Electrolytes\\Chloride\\Chloride in Serum or Plasma</td>\n",
       "    </tr>\n",
       "  </tbody>\n",
       "</table>\n",
       "</div>"
      ],
      "text/plain": [
       "                                                                                 CONCEPT_PATH\n",
       "0  \\ACT Lab Test Results\\Chemistry\\Electrolytes\\Bicarbonate\\Carbon dioxide in Serum or Plasma\n",
       "1                       \\ACT Lab Test Results\\Chemistry\\Electrolytes\\Calcium\\Calcium in Blood\n",
       "2             \\ACT Lab Test Results\\Chemistry\\Electrolytes\\Calcium\\Calcium in Serum or Plasma\n",
       "3                     \\ACT Lab Test Results\\Chemistry\\Electrolytes\\Chloride\\Chloride in Blood\n",
       "4           \\ACT Lab Test Results\\Chemistry\\Electrolytes\\Chloride\\Chloride in Serum or Plasma"
      ]
     },
     "execution_count": 28,
     "metadata": {},
     "output_type": "execute_result"
    }
   ],
   "source": [
    "# Creating a new dataframe containing only the lab test results for all patients in the original dataset:\n",
    "lab_test_results = data[data['CONCEPT_PATH'].str.contains(r'\\\\ACT Lab Test Results')]\n",
    "\n",
    "# creating a list with unique types of lab tests included in the dataset:\n",
    "\n",
    "lab_list = (lab_test_results[['CONCEPT_PATH']]\n",
    "                   .drop_duplicates()\n",
    "                   .sort_values(by='CONCEPT_PATH')\n",
    "                   .reset_index(drop=True))\n",
    "\n",
    "lab_list.head()"
   ]
  },
  {
   "cell_type": "markdown",
   "id": "a0bf8737",
   "metadata": {},
   "source": [
    "In the following example, we will focus on AST (aspartate aminotransferase) and ALT (alanine transaminase) lab test results. \n",
    "We will also only focus on lab results from 2023. \n",
    "- AST is an enzyme found in the liver, muscles, and other organs. When cells that contain AST are damaged, they release AST into the blood\n",
    "- An ALT blood test is used to diagnose liver disorders. ALT is a liver enzyme that is released in the blood when liver cells are damaged.\n",
    "\n",
    "(you can replace \"ALT\" or \"AST\" with your choice of lab test, to add additional lab tests just add a \"|\" before the next lab test name)\n",
    "\n",
    "\n",
    "*Note that the number of lab result entries can vary widely per patient, and even multiple entries per day are possible. In the graphic representation and statistical measurement tables, each individual lab result is treated as an individual data point, without the use of weighted averages or other methodological statistical adjustments.*"
   ]
  },
  {
   "cell_type": "code",
   "execution_count": 29,
   "id": "967c6add",
   "metadata": {},
   "outputs": [
    {
     "data": {
      "text/html": [
       "<div>\n",
       "<style scoped>\n",
       "    .dataframe tbody tr th:only-of-type {\n",
       "        vertical-align: middle;\n",
       "    }\n",
       "\n",
       "    .dataframe tbody tr th {\n",
       "        vertical-align: top;\n",
       "    }\n",
       "\n",
       "    .dataframe thead th {\n",
       "        text-align: right;\n",
       "    }\n",
       "</style>\n",
       "<table border=\"1\" class=\"dataframe\">\n",
       "  <thead>\n",
       "    <tr style=\"text-align: right;\">\n",
       "      <th></th>\n",
       "      <th>PATIENT_NUM</th>\n",
       "      <th>lab_test</th>\n",
       "      <th>value</th>\n",
       "      <th>TIMESTAMP</th>\n",
       "    </tr>\n",
       "  </thead>\n",
       "  <tbody>\n",
       "    <tr>\n",
       "      <th>1915668</th>\n",
       "      <td>0015fb36-0cad-3a48-87d9-a0f61c12c80d</td>\n",
       "      <td>alt</td>\n",
       "      <td>25.2</td>\n",
       "      <td>2023-12-23 02:34:46+00:00</td>\n",
       "    </tr>\n",
       "    <tr>\n",
       "      <th>1915669</th>\n",
       "      <td>0015fb36-0cad-3a48-87d9-a0f61c12c80d</td>\n",
       "      <td>ast</td>\n",
       "      <td>9.1</td>\n",
       "      <td>2023-12-23 02:34:46+00:00</td>\n",
       "    </tr>\n",
       "    <tr>\n",
       "      <th>2477610</th>\n",
       "      <td>00bcc24e-4602-a868-1ce2-947f1ec1c00f</td>\n",
       "      <td>alt</td>\n",
       "      <td>33.8</td>\n",
       "      <td>2023-10-04 22:16:14+00:00</td>\n",
       "    </tr>\n",
       "    <tr>\n",
       "      <th>2477611</th>\n",
       "      <td>00bcc24e-4602-a868-1ce2-947f1ec1c00f</td>\n",
       "      <td>ast</td>\n",
       "      <td>18.2</td>\n",
       "      <td>2023-10-04 22:16:14+00:00</td>\n",
       "    </tr>\n",
       "    <tr>\n",
       "      <th>2252599</th>\n",
       "      <td>00d75a34-3344-8c62-401b-eb1fc27a4ba5</td>\n",
       "      <td>alt</td>\n",
       "      <td>30.1</td>\n",
       "      <td>2023-12-08 05:32:11+00:00</td>\n",
       "    </tr>\n",
       "  </tbody>\n",
       "</table>\n",
       "</div>"
      ],
      "text/plain": [
       "                                  PATIENT_NUM lab_test  value  \\\n",
       "1915668  0015fb36-0cad-3a48-87d9-a0f61c12c80d      alt   25.2   \n",
       "1915669  0015fb36-0cad-3a48-87d9-a0f61c12c80d      ast    9.1   \n",
       "2477610  00bcc24e-4602-a868-1ce2-947f1ec1c00f      alt   33.8   \n",
       "2477611  00bcc24e-4602-a868-1ce2-947f1ec1c00f      ast   18.2   \n",
       "2252599  00d75a34-3344-8c62-401b-eb1fc27a4ba5      alt   30.1   \n",
       "\n",
       "                        TIMESTAMP  \n",
       "1915668 2023-12-23 02:34:46+00:00  \n",
       "1915669 2023-12-23 02:34:46+00:00  \n",
       "2477610 2023-10-04 22:16:14+00:00  \n",
       "2477611 2023-10-04 22:16:14+00:00  \n",
       "2252599 2023-12-08 05:32:11+00:00  "
      ]
     },
     "execution_count": 29,
     "metadata": {},
     "output_type": "execute_result"
    }
   ],
   "source": [
    "#filtering the original dataset to include only AST and ALT test results from the year 2023 and cleaning duplicates:\n",
    "alt_ast = lab_test_results[lab_test_results['CONCEPT_PATH'].str.contains('ALT|AST')]\n",
    "alt_ast = alt_ast[alt_ast['TIMESTAMP'] >= pd.Timestamp('2023-01-01', tz='UTC')]\n",
    "alt_ast = alt_ast[alt_ast['TIMESTAMP'] <= pd.Timestamp('2023-12-31', tz='UTC')]\n",
    "\n",
    "\n",
    "\n",
    "alt_ast['lab_test'] = np.where(\n",
    "    alt_ast['CONCEPT_PATH'].str.contains('AST'), 'ast',\n",
    "    np.where(alt_ast['CONCEPT_PATH'].str.contains('ALT'), 'alt', None)\n",
    ")\n",
    "\n",
    "\n",
    "alt_ast = (\n",
    "    alt_ast\n",
    "    .rename(columns={'NVAL_NUM': 'value'})\n",
    "    .loc[:, ['PATIENT_NUM', 'lab_test', 'value', 'TIMESTAMP']]\n",
    "    .sort_values(by=['PATIENT_NUM', 'TIMESTAMP'])\n",
    "    .drop_duplicates()\n",
    ")\n",
    "\n",
    "alt_ast.head()\n"
   ]
  },
  {
   "cell_type": "markdown",
   "id": "abe62132",
   "metadata": {},
   "source": [
    "Let's now graph a distribution of ALT and AST values in 2023."
   ]
  },
  {
   "cell_type": "code",
   "execution_count": 30,
   "id": "3c0dfd99",
   "metadata": {
    "scrolled": true
   },
   "outputs": [
    {
     "name": "stderr",
     "output_type": "stream",
     "text": [
      "/tmp/ipykernel_9145/2280149245.py:5: FutureWarning: \n",
      "\n",
      "Passing `palette` without assigning `hue` is deprecated and will be removed in v0.14.0. Assign the `x` variable to `hue` and set `legend=False` for the same effect.\n",
      "\n",
      "  ax = sns.boxplot(x='lab_test', y='value', data=alt_ast, palette={'ast': 'skyblue', 'alt': 'red'})\n"
     ]
    },
    {
     "data": {
      "image/png": "[encoded data removed]",
      "text/plain": [
       "<Figure size 1000x600 with 1 Axes>"
      ]
     },
     "metadata": {},
     "output_type": "display_data"
    }
   ],
   "source": [
    "#creating a box plot graph of the results. \n",
    "\n",
    "\n",
    "plt.figure(figsize=(10, 6))\n",
    "ax = sns.boxplot(x='lab_test', y='value', data=alt_ast, palette={'ast': 'skyblue', 'alt': 'red'})\n",
    "plt.title('Liver Transaminase Levels in 2023, n=' + str(len(alt_ast)))\n",
    "plt.xlabel('Lab Test')\n",
    "plt.ylabel('Value (u/l)')\n",
    "plt.grid(True)\n",
    "plt.show()\n",
    "\n"
   ]
  },
  {
   "cell_type": "markdown",
   "id": "f0fe3aec",
   "metadata": {},
   "source": [
    "Let's say we are interested in a specific patient with epilepsy. \n",
    "Below, we plot the AST and ALT lab trends over the year 2023 for patient id # 1f9e58a1-0b6f-7f53-1495-8b05b69ad4ed.\n",
    "\n",
    "You can modify this code for any patient of interest by changing the `patient_of_interest` variable."
   ]
  },
  {
   "cell_type": "code",
   "execution_count": 31,
   "id": "02c6d2cd",
   "metadata": {
    "scrolled": false
   },
   "outputs": [
    {
     "data": {
      "image/png": "[encoded data removed]",
      "text/plain": [
       "<Figure size 1000x600 with 1 Axes>"
      ]
     },
     "metadata": {},
     "output_type": "display_data"
    }
   ],
   "source": [
    "patient_of_interest = \"1f9e58a1-0b6f-7f53-1495-8b05b69ad4ed\"\n",
    "\n",
    "#filtering for the specific patient's AST and ALT levels over time using the 2023 alt/ast dataframe we previously created:\n",
    "single_patient_data = alt_ast[alt_ast['PATIENT_NUM'] == patient_of_interest]\n",
    "\n",
    "# Pivot the data so that each lab test becomes a separate column\n",
    "patient_data_pivot = single_patient_data.pivot(index='TIMESTAMP', columns='lab_test', values='value')\n",
    "\n",
    "#creaing a plot showing the results over time:\n",
    "plt.figure(figsize=(10, 6))\n",
    "plt.plot(patient_data_pivot.index, patient_data_pivot['alt'], marker='o', linestyle='-', color='r', label='alt')\n",
    "plt.plot(patient_data_pivot.index, patient_data_pivot['ast'], marker='o', linestyle='-', color='b', label='ast')\n",
    "plt.title('Liver transaminase levels over time for patient ' +  str(patient_of_interest) + ' in 2023')\n",
    "plt.xlabel('Date')\n",
    "plt.ylabel('Value (u/l)')\n",
    "plt.xticks(rotation=45)\n",
    "plt.legend()\n",
    "plt.grid(True)\n",
    "plt.show()\n"
   ]
  },
  {
   "cell_type": "markdown",
   "id": "5dc7ea78",
   "metadata": {},
   "source": [
    "## Investigating procedural data over time. Case study: Appendectomy.\n",
    "\n",
    "Finally, let's take a look at the procedures data. \n",
    "\n",
    "The procedures are defined by CPT codes. \n",
    "We will explore the procedures in this data set and look at specific procedures of interest in a given time frame.\n",
    "\n",
    "We can isolate the procedure related information by searching for 'ACT Procedures' in the CONCEPT_PATH column.\n",
    "\n",
    "Below is an example of the procedures documented in this dataset.\n"
   ]
  },
  {
   "cell_type": "code",
   "execution_count": 32,
   "id": "741f166c",
   "metadata": {
    "scrolled": true
   },
   "outputs": [
    {
     "data": {
      "text/html": [
       "<div>\n",
       "<style scoped>\n",
       "    .dataframe tbody tr th:only-of-type {\n",
       "        vertical-align: middle;\n",
       "    }\n",
       "\n",
       "    .dataframe tbody tr th {\n",
       "        vertical-align: top;\n",
       "    }\n",
       "\n",
       "    .dataframe thead th {\n",
       "        text-align: right;\n",
       "    }\n",
       "</style>\n",
       "<table border=\"1\" class=\"dataframe\">\n",
       "  <thead>\n",
       "    <tr style=\"text-align: right;\">\n",
       "      <th></th>\n",
       "      <th>CONCEPT_PATH</th>\n",
       "      <th>procedure</th>\n",
       "    </tr>\n",
       "  </thead>\n",
       "  <tbody>\n",
       "    <tr>\n",
       "      <th>3682095</th>\n",
       "      <td>\\ACT Procedures CPT\\Radiology Procedures\\Diagnostic Radiology (Diagnostic Imaging) Procedures\\Diagnostic Radiology (Diagnostic Imaging) Procedures of the Chest</td>\n",
       "      <td>Radiologic examination, chest</td>\n",
       "    </tr>\n",
       "    <tr>\n",
       "      <th>3682096</th>\n",
       "      <td>\\ACT Procedures CPT\\Radiology Procedures\\Diagnostic Radiology (Diagnostic Imaging) Procedures\\Diagnostic Radiology (Diagnostic Imaging) Procedures of the Chest</td>\n",
       "      <td>Radiologic examination</td>\n",
       "    </tr>\n",
       "    <tr>\n",
       "      <th>3682097</th>\n",
       "      <td>\\ACT Procedures CPT\\Surgery\\Surgical Procedures on the Digestive System\\Surgical Procedures on the Colon and Rectum</td>\n",
       "      <td>Endoscopy Procedures on the Rectum</td>\n",
       "    </tr>\n",
       "    <tr>\n",
       "      <th>3682104</th>\n",
       "      <td>\\ACT Procedures CPT\\Surgery\\Surgical Procedures on the Integumentary System\\Surgical Procedures on the Breast\\Excision Procedures on the Breast</td>\n",
       "      <td>Biopsy of breast</td>\n",
       "    </tr>\n",
       "    <tr>\n",
       "      <th>3682106</th>\n",
       "      <td>\\ACT Procedures CPT\\Surgery\\Surgical Procedures on the Female Genital System\\Surgical Procedures on the Corpus Uteri\\Introduction Procedures on the Corpus Uteri</td>\n",
       "      <td>Insertion of intrauterine device (IUD)</td>\n",
       "    </tr>\n",
       "  </tbody>\n",
       "</table>\n",
       "</div>"
      ],
      "text/plain": [
       "                                                                                                                                                             CONCEPT_PATH  \\\n",
       "3682095   \\ACT Procedures CPT\\Radiology Procedures\\Diagnostic Radiology (Diagnostic Imaging) Procedures\\Diagnostic Radiology (Diagnostic Imaging) Procedures of the Chest   \n",
       "3682096   \\ACT Procedures CPT\\Radiology Procedures\\Diagnostic Radiology (Diagnostic Imaging) Procedures\\Diagnostic Radiology (Diagnostic Imaging) Procedures of the Chest   \n",
       "3682097                                               \\ACT Procedures CPT\\Surgery\\Surgical Procedures on the Digestive System\\Surgical Procedures on the Colon and Rectum   \n",
       "3682104                   \\ACT Procedures CPT\\Surgery\\Surgical Procedures on the Integumentary System\\Surgical Procedures on the Breast\\Excision Procedures on the Breast   \n",
       "3682106  \\ACT Procedures CPT\\Surgery\\Surgical Procedures on the Female Genital System\\Surgical Procedures on the Corpus Uteri\\Introduction Procedures on the Corpus Uteri   \n",
       "\n",
       "                                      procedure  \n",
       "3682095           Radiologic examination, chest  \n",
       "3682096                  Radiologic examination  \n",
       "3682097      Endoscopy Procedures on the Rectum  \n",
       "3682104                        Biopsy of breast  \n",
       "3682106  Insertion of intrauterine device (IUD)  "
      ]
     },
     "execution_count": 32,
     "metadata": {},
     "output_type": "execute_result"
    }
   ],
   "source": [
    "# creating a list with unique types of procedures included in the dataset :\n",
    "\n",
    "procedures = (\n",
    "    data[data['CONCEPT_PATH'].str.contains(r'\\\\ACT Procedures')]\n",
    "    .loc[:, ['CONCEPT_PATH', 'TVAL_CHAR']]\n",
    "    .drop_duplicates()\n",
    "    .rename(columns={'TVAL_CHAR': 'procedure'})\n",
    ")\n",
    "\n",
    "procedures.head()"
   ]
  },
  {
   "cell_type": "markdown",
   "id": "96a52f1c",
   "metadata": {},
   "source": [
    "Below, we filter the procedural data to identify a cohort of patients who have undergone an appendectomy since the beginning of 2020."
   ]
  },
  {
   "cell_type": "code",
   "execution_count": 33,
   "id": "1cc76554",
   "metadata": {
    "scrolled": true
   },
   "outputs": [
    {
     "data": {
      "text/html": [
       "<div>\n",
       "<style scoped>\n",
       "    .dataframe tbody tr th:only-of-type {\n",
       "        vertical-align: middle;\n",
       "    }\n",
       "\n",
       "    .dataframe tbody tr th {\n",
       "        vertical-align: top;\n",
       "    }\n",
       "\n",
       "    .dataframe thead th {\n",
       "        text-align: right;\n",
       "    }\n",
       "</style>\n",
       "<table border=\"1\" class=\"dataframe\">\n",
       "  <thead>\n",
       "    <tr style=\"text-align: right;\">\n",
       "      <th></th>\n",
       "      <th>PATIENT_NUM</th>\n",
       "      <th>procedure</th>\n",
       "      <th>TIMESTAMP</th>\n",
       "      <th>VARIABLE_TYPE</th>\n",
       "      <th>DATE</th>\n",
       "    </tr>\n",
       "  </thead>\n",
       "  <tbody>\n",
       "    <tr>\n",
       "      <th>3683372</th>\n",
       "      <td>5264d991-9864-e84e-b5d0-1da3f3e611b2</td>\n",
       "      <td>Appendectomy</td>\n",
       "      <td>2020-11-18 03:26:18+00:00</td>\n",
       "      <td>ACT Procedures CPT</td>\n",
       "      <td>2020-11-18</td>\n",
       "    </tr>\n",
       "    <tr>\n",
       "      <th>3687591</th>\n",
       "      <td>034cf0cf-3901-3e09-e7ce-f135e68563f2</td>\n",
       "      <td>Appendectomy</td>\n",
       "      <td>2021-11-18 16:45:31+00:00</td>\n",
       "      <td>ACT Procedures CPT</td>\n",
       "      <td>2021-11-18</td>\n",
       "    </tr>\n",
       "    <tr>\n",
       "      <th>3690114</th>\n",
       "      <td>899a5c0c-7c5f-4110-a59a-269bfda3c4d2</td>\n",
       "      <td>Appendectomy</td>\n",
       "      <td>2022-11-28 06:06:57+00:00</td>\n",
       "      <td>ACT Procedures CPT</td>\n",
       "      <td>2022-11-28</td>\n",
       "    </tr>\n",
       "    <tr>\n",
       "      <th>3690148</th>\n",
       "      <td>a417c4de-60c5-dd3d-2ee3-07409ab84707</td>\n",
       "      <td>Appendectomy</td>\n",
       "      <td>2021-08-31 10:33:58+00:00</td>\n",
       "      <td>ACT Procedures CPT</td>\n",
       "      <td>2021-08-31</td>\n",
       "    </tr>\n",
       "    <tr>\n",
       "      <th>3691958</th>\n",
       "      <td>d0598615-23c8-74f0-ff8f-36a21755a0cc</td>\n",
       "      <td>Appendectomy</td>\n",
       "      <td>2020-10-17 10:23:26+00:00</td>\n",
       "      <td>ACT Procedures CPT</td>\n",
       "      <td>2020-10-17</td>\n",
       "    </tr>\n",
       "  </tbody>\n",
       "</table>\n",
       "</div>"
      ],
      "text/plain": [
       "                                  PATIENT_NUM     procedure  \\\n",
       "3683372  5264d991-9864-e84e-b5d0-1da3f3e611b2  Appendectomy   \n",
       "3687591  034cf0cf-3901-3e09-e7ce-f135e68563f2  Appendectomy   \n",
       "3690114  899a5c0c-7c5f-4110-a59a-269bfda3c4d2  Appendectomy   \n",
       "3690148  a417c4de-60c5-dd3d-2ee3-07409ab84707  Appendectomy   \n",
       "3691958  d0598615-23c8-74f0-ff8f-36a21755a0cc  Appendectomy   \n",
       "\n",
       "                        TIMESTAMP       VARIABLE_TYPE        DATE  \n",
       "3683372 2020-11-18 03:26:18+00:00  ACT Procedures CPT  2020-11-18  \n",
       "3687591 2021-11-18 16:45:31+00:00  ACT Procedures CPT  2021-11-18  \n",
       "3690114 2022-11-28 06:06:57+00:00  ACT Procedures CPT  2022-11-28  \n",
       "3690148 2021-08-31 10:33:58+00:00  ACT Procedures CPT  2021-08-31  \n",
       "3691958 2020-10-17 10:23:26+00:00  ACT Procedures CPT  2020-10-17  "
      ]
     },
     "execution_count": 33,
     "metadata": {},
     "output_type": "execute_result"
    }
   ],
   "source": [
    "# filtering to create a new dataframe including patients with a history of an appendectomy procedure\n",
    "\n",
    "appendectomy = (\n",
    "    data[data['TVAL_CHAR'].str.contains('Appendectomy',na=False)]\n",
    "    .rename(columns={'TVAL_CHAR': 'procedure'})\n",
    "    .drop(columns=['CONCEPT_PATH', 'NVAL_NUM'])\n",
    "    .drop_duplicates()\n",
    ")\n",
    "\n",
    "# filtering to only include patients who had an appendectomy since the beginning of the year 2020\n",
    "\n",
    "appendectomy_2020 = appendectomy[appendectomy['TIMESTAMP'] >= pd.Timestamp('2020-01-01', tz='UTC')]\n",
    "\n",
    "appendectomy_2020.head()"
   ]
  }
 ],
 "metadata": {
  "kernelspec": {
   "display_name": "conda_python3",
   "language": "python",
   "name": "conda_python3"
  },
  "language_info": {
   "codemirror_mode": {
    "name": "ipython",
    "version": 3
   },
   "file_extension": ".py",
   "mimetype": "text/x-python",
   "name": "python",
   "nbconvert_exporter": "python",
   "pygments_lexer": "ipython3",
   "version": "3.10.14"
  }
 },
 "nbformat": 4,
 "nbformat_minor": 5
}
