{
 "cells": [
  {
   "cell_type": "markdown",
   "id": "693c3fd5",
   "metadata": {},
   "source": [
    "# Connect to the OCHIN DB through R"
   ]
  },
  {
   "cell_type": "markdown",
   "id": "061d0d32",
   "metadata": {},
   "source": [
    "This notebook will walk you through how to connect to the OCHIN DB using R. \n",
    "Before you begin, make sure that you have access to the data and check to make sure the `db-credentials.txt` file is located in your home directory. "
   ]
  },
  {
   "cell_type": "markdown",
   "id": "fb117fee",
   "metadata": {},
   "source": [
    "## Install ODBC drivers as necessary"
   ]
  },
  {
   "cell_type": "code",
   "execution_count": 3,
   "id": "1ff40ccd",
   "metadata": {},
   "outputs": [],
   "source": [
    "system(\"sudo su -c 'curl https://packages.microsoft.com/config/rhel/7/prod.repo > /etc/yum.repos.d/mssql-release.repo && exit'\")\n",
    "system(\"sudo yum remove unixODBC-utf16 unixODBC-utf16-devel\")\n",
    "system(\"sudo ACCEPT_EULA=Y yum install -y msodbcsql17\")\n",
    "system(\"sudo ACCEPT_EULA=Y yum install -y mssql-tools\")\n",
    "system(\"echo 'export PATH='$PATH:/opt/mssql-tools/bin'' >> ~/.bashrc\")\n",
    "system(\"source ~/.bashrc\")\n",
    "system(\"sudo yum install -y unixODBC-devel\")"
   ]
  },
  {
   "cell_type": "markdown",
   "id": "34e8a7f1",
   "metadata": {},
   "source": [
    "## Install and load R packages"
   ]
  },
  {
   "cell_type": "code",
   "execution_count": 4,
   "id": "913371e1",
   "metadata": {},
   "outputs": [
    {
     "name": "stderr",
     "output_type": "stream",
     "text": [
      "Updating HTML index of packages in '.Library'\n",
      "\n",
      "Making 'packages.html' ...\n",
      " done\n",
      "\n",
      "Updating HTML index of packages in '.Library'\n",
      "\n",
      "Making 'packages.html' ...\n",
      " done\n",
      "\n",
      "Updating HTML index of packages in '.Library'\n",
      "\n",
      "Making 'packages.html' ...\n",
      " done\n",
      "\n"
     ]
    }
   ],
   "source": [
    "install.packages(\"odbc\")\n",
    "library(odbc)\n",
    "install.packages(\"DBI\")\n",
    "install.packages(\"rstudioapi\")"
   ]
  },
  {
   "cell_type": "markdown",
   "id": "d0487e29",
   "metadata": {},
   "source": [
    "## Read and parse your DB credentials"
   ]
  },
  {
   "cell_type": "code",
   "execution_count": 5,
   "id": "9ed64e3e",
   "metadata": {},
   "outputs": [],
   "source": [
    "file_path <- '/home/ec2-user/SageMaker/db-credentials.txt'\n",
    "\n",
    "db_creds_df <- read.table(file_path)\n",
    "db_creds <- db_creds_df$V3\n",
    "names(db_creds) <- db_creds_df$V1\n",
    "\n",
    "db_creds <- trimws(db_creds)\n",
    "#db_creds"
   ]
  },
  {
   "cell_type": "markdown",
   "id": "c5a2de97",
   "metadata": {},
   "source": [
    "## Connect to the database\n",
    "Remember that you may have access to multiple databases. \n"
   ]
  },
  {
   "cell_type": "markdown",
   "id": "4580a921",
   "metadata": {},
   "source": [
    "### Connecting to the \"raw\" data\n",
    "The raw database contains the patient data. You have read-only access to this database.\n",
    "\n",
    "- For AIM AHEAD Year 1 programs, the Raw database is named FellowsSample.\n",
    "- For AIM AHEAD Year 2 programs, the Raw database is named AAOCHIN2023.\n",
    "- For AIM AHEAD Year 3 programs, the Raw database is named AAOCHIN2024.\n",
    "\n",
    "Within the Raw database, you must open the **View** specific to your project. Your OCHIN Project ID is provided to you when you receive confirmation of your OCHIN DB Login Activation. \n",
    "\n",
    "Once you have opened your View, you will see the Tables which contain the subset of data specific to your project. \n",
    "\n",
    "- Tables containing patient-level data specific to your project will be prefixed with your OCHIN Project ID.\n",
    "- Tables that contain metadata shared amongst all projects are prefixed with \"common\"."
   ]
  },
  {
   "cell_type": "code",
   "execution_count": 7,
   "id": "40b34cfd",
   "metadata": {},
   "outputs": [],
   "source": [
    "### This example shows how to view tables in the AAOCHIN2024 database. \n",
    "raw_db <- 'AAOCHIN2023' \n",
    "raw_connection_string = paste0(\"DRIVER={ODBC Driver 17 for SQL Server};\",\n",
    "                          \"SERVER=\", db_creds['host'], ',', db_creds['port'], ';',\n",
    "                          \"DATABASE=\", raw_db, ';',\n",
    "                          \"UID=\", db_creds['username'], ';',\n",
    "                          \"PWD={\", db_creds['password'], \"};\")\n",
    "raw_db_conn <- DBI::dbConnect(odbc::odbc(), .connection_string = raw_connection_string)"
   ]
  },
  {
   "cell_type": "code",
   "execution_count": 8,
   "id": "5898a8a3",
   "metadata": {
    "scrolled": true
   },
   "outputs": [
    {
     "data": {
      "text/html": [
       "<table class=\"dataframe\">\n",
       "<caption>A data.frame: 8 × 1</caption>\n",
       "<thead>\n",
       "\t<tr><th scope=col>TABLE_NAME</th></tr>\n",
       "\t<tr><th scope=col>&lt;chr&gt;</th></tr>\n",
       "</thead>\n",
       "<tbody>\n",
       "\t<tr><td>OBSERVATION_FACT  </td></tr>\n",
       "\t<tr><td>PATIENT_DIMENSION </td></tr>\n",
       "\t<tr><td>PROVIDER_DIMENSION</td></tr>\n",
       "\t<tr><td>VISIT_DIMENSION   </td></tr>\n",
       "\t<tr><td>ZCTA_CVS          </td></tr>\n",
       "\t<tr><td>SIDECAR_FACILITIES</td></tr>\n",
       "\t<tr><td>CONCEPT_DIMENSION </td></tr>\n",
       "\t<tr><td>I2B2              </td></tr>\n",
       "</tbody>\n",
       "</table>\n"
      ],
      "text/latex": [
       "A data.frame: 8 × 1\n",
       "\\begin{tabular}{l}\n",
       " TABLE\\_NAME\\\\\n",
       " <chr>\\\\\n",
       "\\hline\n",
       "\t OBSERVATION\\_FACT  \\\\\n",
       "\t PATIENT\\_DIMENSION \\\\\n",
       "\t PROVIDER\\_DIMENSION\\\\\n",
       "\t VISIT\\_DIMENSION   \\\\\n",
       "\t ZCTA\\_CVS          \\\\\n",
       "\t SIDECAR\\_FACILITIES\\\\\n",
       "\t CONCEPT\\_DIMENSION \\\\\n",
       "\t I2B2              \\\\\n",
       "\\end{tabular}\n"
      ],
      "text/markdown": [
       "\n",
       "A data.frame: 8 × 1\n",
       "\n",
       "| TABLE_NAME &lt;chr&gt; |\n",
       "|---|\n",
       "| OBSERVATION_FACT   |\n",
       "| PATIENT_DIMENSION  |\n",
       "| PROVIDER_DIMENSION |\n",
       "| VISIT_DIMENSION    |\n",
       "| ZCTA_CVS           |\n",
       "| SIDECAR_FACILITIES |\n",
       "| CONCEPT_DIMENSION  |\n",
       "| I2B2               |\n",
       "\n"
      ],
      "text/plain": [
       "  TABLE_NAME        \n",
       "1 OBSERVATION_FACT  \n",
       "2 PATIENT_DIMENSION \n",
       "3 PROVIDER_DIMENSION\n",
       "4 VISIT_DIMENSION   \n",
       "5 ZCTA_CVS          \n",
       "6 SIDECAR_FACILITIES\n",
       "7 CONCEPT_DIMENSION \n",
       "8 I2B2              "
      ]
     },
     "metadata": {},
     "output_type": "display_data"
    }
   ],
   "source": [
    "### We can print all tables available in the database views we have access to like so: \n",
    "df1 <- dbGetQuery(raw_db_conn, \"SELECT name AS TABLE_NAME FROM sys.views;\")\n",
    "df1"
   ]
  },
  {
   "cell_type": "code",
   "execution_count": 9,
   "id": "0a2cc533",
   "metadata": {},
   "outputs": [
    {
     "data": {
      "text/html": [
       "<table class=\"dataframe\">\n",
       "<caption>A data.frame: 10 × 3</caption>\n",
       "<thead>\n",
       "\t<tr><th scope=col>CONCEPT_PATH</th><th scope=col>CONCEPT_CD</th><th scope=col>NAME_CHAR</th></tr>\n",
       "\t<tr><th scope=col>&lt;chr&gt;</th><th scope=col>&lt;chr&gt;</th><th scope=col>&lt;chr&gt;</th></tr>\n",
       "</thead>\n",
       "<tbody>\n",
       "\t<tr><td>\\i2b2\\Demographics\\Age\\0-9 years old\\0 years old\\01 months\\</td><td>DEM|AGE:0.1 </td><td>01 months</td></tr>\n",
       "\t<tr><td>\\i2b2\\Demographics\\Age\\0-9 years old\\0 years old\\02 months\\</td><td>DEM|AGE:0.2 </td><td>02 months</td></tr>\n",
       "\t<tr><td>\\i2b2\\Demographics\\Age\\0-9 years old\\0 years old\\03 months\\</td><td>DEM|AGE:0.3 </td><td>03 months</td></tr>\n",
       "\t<tr><td>\\i2b2\\Demographics\\Age\\0-9 years old\\0 years old\\04 months\\</td><td>DEM|AGE:0.4 </td><td>04 months</td></tr>\n",
       "\t<tr><td>\\i2b2\\Demographics\\Age\\0-9 years old\\0 years old\\05 months\\</td><td>DEM|AGE:0.5 </td><td>05 months</td></tr>\n",
       "\t<tr><td>\\i2b2\\Demographics\\Age\\0-9 years old\\0 years old\\06 months\\</td><td>DEM|AGE:0.6 </td><td>06 months</td></tr>\n",
       "\t<tr><td>\\i2b2\\Demographics\\Age\\0-9 years old\\0 years old\\07 months\\</td><td>DEM|AGE:0.7 </td><td>07 months</td></tr>\n",
       "\t<tr><td>\\i2b2\\Demographics\\Age\\0-9 years old\\0 years old\\08 months\\</td><td>DEM|AGE:0.8 </td><td>08 months</td></tr>\n",
       "\t<tr><td>\\i2b2\\Demographics\\Age\\0-9 years old\\0 years old\\09 months\\</td><td>DEM|AGE:0.9 </td><td>09 months</td></tr>\n",
       "\t<tr><td>\\i2b2\\Demographics\\Age\\0-9 years old\\0 years old\\10 months\\</td><td>DEM|AGE:0.10</td><td>10 months</td></tr>\n",
       "</tbody>\n",
       "</table>\n"
      ],
      "text/latex": [
       "A data.frame: 10 × 3\n",
       "\\begin{tabular}{lll}\n",
       " CONCEPT\\_PATH & CONCEPT\\_CD & NAME\\_CHAR\\\\\n",
       " <chr> & <chr> & <chr>\\\\\n",
       "\\hline\n",
       "\t \\textbackslash{}i2b2\\textbackslash{}Demographics\\textbackslash{}Age\\textbackslash{}0-9 years old\\textbackslash{}0 years old\\textbackslash{}01 months\\textbackslash{} & DEM\\textbar{}AGE:0.1  & 01 months\\\\\n",
       "\t \\textbackslash{}i2b2\\textbackslash{}Demographics\\textbackslash{}Age\\textbackslash{}0-9 years old\\textbackslash{}0 years old\\textbackslash{}02 months\\textbackslash{} & DEM\\textbar{}AGE:0.2  & 02 months\\\\\n",
       "\t \\textbackslash{}i2b2\\textbackslash{}Demographics\\textbackslash{}Age\\textbackslash{}0-9 years old\\textbackslash{}0 years old\\textbackslash{}03 months\\textbackslash{} & DEM\\textbar{}AGE:0.3  & 03 months\\\\\n",
       "\t \\textbackslash{}i2b2\\textbackslash{}Demographics\\textbackslash{}Age\\textbackslash{}0-9 years old\\textbackslash{}0 years old\\textbackslash{}04 months\\textbackslash{} & DEM\\textbar{}AGE:0.4  & 04 months\\\\\n",
       "\t \\textbackslash{}i2b2\\textbackslash{}Demographics\\textbackslash{}Age\\textbackslash{}0-9 years old\\textbackslash{}0 years old\\textbackslash{}05 months\\textbackslash{} & DEM\\textbar{}AGE:0.5  & 05 months\\\\\n",
       "\t \\textbackslash{}i2b2\\textbackslash{}Demographics\\textbackslash{}Age\\textbackslash{}0-9 years old\\textbackslash{}0 years old\\textbackslash{}06 months\\textbackslash{} & DEM\\textbar{}AGE:0.6  & 06 months\\\\\n",
       "\t \\textbackslash{}i2b2\\textbackslash{}Demographics\\textbackslash{}Age\\textbackslash{}0-9 years old\\textbackslash{}0 years old\\textbackslash{}07 months\\textbackslash{} & DEM\\textbar{}AGE:0.7  & 07 months\\\\\n",
       "\t \\textbackslash{}i2b2\\textbackslash{}Demographics\\textbackslash{}Age\\textbackslash{}0-9 years old\\textbackslash{}0 years old\\textbackslash{}08 months\\textbackslash{} & DEM\\textbar{}AGE:0.8  & 08 months\\\\\n",
       "\t \\textbackslash{}i2b2\\textbackslash{}Demographics\\textbackslash{}Age\\textbackslash{}0-9 years old\\textbackslash{}0 years old\\textbackslash{}09 months\\textbackslash{} & DEM\\textbar{}AGE:0.9  & 09 months\\\\\n",
       "\t \\textbackslash{}i2b2\\textbackslash{}Demographics\\textbackslash{}Age\\textbackslash{}0-9 years old\\textbackslash{}0 years old\\textbackslash{}10 months\\textbackslash{} & DEM\\textbar{}AGE:0.10 & 10 months\\\\\n",
       "\\end{tabular}\n"
      ],
      "text/markdown": [
       "\n",
       "A data.frame: 10 × 3\n",
       "\n",
       "| CONCEPT_PATH &lt;chr&gt; | CONCEPT_CD &lt;chr&gt; | NAME_CHAR &lt;chr&gt; |\n",
       "|---|---|---|\n",
       "| \\i2b2\\Demographics\\Age\\0-9 years old\\0 years old\\01 months\\ | DEM|AGE:0.1  | 01 months |\n",
       "| \\i2b2\\Demographics\\Age\\0-9 years old\\0 years old\\02 months\\ | DEM|AGE:0.2  | 02 months |\n",
       "| \\i2b2\\Demographics\\Age\\0-9 years old\\0 years old\\03 months\\ | DEM|AGE:0.3  | 03 months |\n",
       "| \\i2b2\\Demographics\\Age\\0-9 years old\\0 years old\\04 months\\ | DEM|AGE:0.4  | 04 months |\n",
       "| \\i2b2\\Demographics\\Age\\0-9 years old\\0 years old\\05 months\\ | DEM|AGE:0.5  | 05 months |\n",
       "| \\i2b2\\Demographics\\Age\\0-9 years old\\0 years old\\06 months\\ | DEM|AGE:0.6  | 06 months |\n",
       "| \\i2b2\\Demographics\\Age\\0-9 years old\\0 years old\\07 months\\ | DEM|AGE:0.7  | 07 months |\n",
       "| \\i2b2\\Demographics\\Age\\0-9 years old\\0 years old\\08 months\\ | DEM|AGE:0.8  | 08 months |\n",
       "| \\i2b2\\Demographics\\Age\\0-9 years old\\0 years old\\09 months\\ | DEM|AGE:0.9  | 09 months |\n",
       "| \\i2b2\\Demographics\\Age\\0-9 years old\\0 years old\\10 months\\ | DEM|AGE:0.10 | 10 months |\n",
       "\n"
      ],
      "text/plain": [
       "   CONCEPT_PATH                                                      \n",
       "1  \\\\i2b2\\\\Demographics\\\\Age\\\\0-9 years old\\\\0 years old\\\\01 months\\\\\n",
       "2  \\\\i2b2\\\\Demographics\\\\Age\\\\0-9 years old\\\\0 years old\\\\02 months\\\\\n",
       "3  \\\\i2b2\\\\Demographics\\\\Age\\\\0-9 years old\\\\0 years old\\\\03 months\\\\\n",
       "4  \\\\i2b2\\\\Demographics\\\\Age\\\\0-9 years old\\\\0 years old\\\\04 months\\\\\n",
       "5  \\\\i2b2\\\\Demographics\\\\Age\\\\0-9 years old\\\\0 years old\\\\05 months\\\\\n",
       "6  \\\\i2b2\\\\Demographics\\\\Age\\\\0-9 years old\\\\0 years old\\\\06 months\\\\\n",
       "7  \\\\i2b2\\\\Demographics\\\\Age\\\\0-9 years old\\\\0 years old\\\\07 months\\\\\n",
       "8  \\\\i2b2\\\\Demographics\\\\Age\\\\0-9 years old\\\\0 years old\\\\08 months\\\\\n",
       "9  \\\\i2b2\\\\Demographics\\\\Age\\\\0-9 years old\\\\0 years old\\\\09 months\\\\\n",
       "10 \\\\i2b2\\\\Demographics\\\\Age\\\\0-9 years old\\\\0 years old\\\\10 months\\\\\n",
       "   CONCEPT_CD   NAME_CHAR\n",
       "1  DEM|AGE:0.1  01 months\n",
       "2  DEM|AGE:0.2  02 months\n",
       "3  DEM|AGE:0.3  03 months\n",
       "4  DEM|AGE:0.4  04 months\n",
       "5  DEM|AGE:0.5  05 months\n",
       "6  DEM|AGE:0.6  06 months\n",
       "7  DEM|AGE:0.7  07 months\n",
       "8  DEM|AGE:0.8  08 months\n",
       "9  DEM|AGE:0.9  09 months\n",
       "10 DEM|AGE:0.10 10 months"
      ]
     },
     "metadata": {},
     "output_type": "display_data"
    }
   ],
   "source": [
    "### We can view the top 10 entries in the CONCEPT_DIMENSION table like so:\n",
    "### Note that the CONCEPT_DIMENSION table contains metadata shared amongst all projects, \n",
    "### and therefore must be prefixed with \"common\"\n",
    "df2 <- dbGetQuery(raw_db_conn, \"SELECT TOP 10 * FROM common.CONCEPT_DIMENSION;\")\n",
    "df2"
   ]
  },
  {
   "cell_type": "markdown",
   "id": "3bae955d-abd9-460b-9961-0c31a0ad42e4",
   "metadata": {},
   "source": [
    "We can then save this data to our SageMaker workspace for use later\n",
    "Data saved as CSV files in this way can be retrieved at a later date, so you would not have to re-write SQL code"
   ]
  },
  {
   "cell_type": "code",
   "execution_count": 11,
   "id": "62c9b9c5-0275-4ac9-8d83-4bfee7105773",
   "metadata": {},
   "outputs": [],
   "source": [
    "# Creates a folder named \"data_files\" that you can use to organize your files\n",
    "#os.mkdir(\"data_files\")\n",
    "\n",
    "# Save the results from our SQL query to the data_files folder\n",
    "write.csv(df2,\"data_files/results.csv\")\n"
   ]
  },
  {
   "cell_type": "markdown",
   "id": "7af7bb38-fd7c-4077-9235-d50395386bbe",
   "metadata": {},
   "source": [
    "In order to retrieve previous data, we can read in the CSV file we saved to use as a dataframe for further analysis"
   ]
  },
  {
   "cell_type": "code",
   "execution_count": 12,
   "id": "9cb9bca0-9a18-4890-b797-b2eba1b640a2",
   "metadata": {},
   "outputs": [
    {
     "data": {
      "text/html": [
       "<table class=\"dataframe\">\n",
       "<caption>A data.frame: 10 × 4</caption>\n",
       "<thead>\n",
       "\t<tr><th scope=col>X</th><th scope=col>CONCEPT_PATH</th><th scope=col>CONCEPT_CD</th><th scope=col>NAME_CHAR</th></tr>\n",
       "\t<tr><th scope=col>&lt;int&gt;</th><th scope=col>&lt;chr&gt;</th><th scope=col>&lt;chr&gt;</th><th scope=col>&lt;chr&gt;</th></tr>\n",
       "</thead>\n",
       "<tbody>\n",
       "\t<tr><td> 1</td><td>\\i2b2\\Demographics\\Age\\0-9 years old\\0 years old\\01 months\\</td><td>DEM|AGE:0.1 </td><td>01 months</td></tr>\n",
       "\t<tr><td> 2</td><td>\\i2b2\\Demographics\\Age\\0-9 years old\\0 years old\\02 months\\</td><td>DEM|AGE:0.2 </td><td>02 months</td></tr>\n",
       "\t<tr><td> 3</td><td>\\i2b2\\Demographics\\Age\\0-9 years old\\0 years old\\03 months\\</td><td>DEM|AGE:0.3 </td><td>03 months</td></tr>\n",
       "\t<tr><td> 4</td><td>\\i2b2\\Demographics\\Age\\0-9 years old\\0 years old\\04 months\\</td><td>DEM|AGE:0.4 </td><td>04 months</td></tr>\n",
       "\t<tr><td> 5</td><td>\\i2b2\\Demographics\\Age\\0-9 years old\\0 years old\\05 months\\</td><td>DEM|AGE:0.5 </td><td>05 months</td></tr>\n",
       "\t<tr><td> 6</td><td>\\i2b2\\Demographics\\Age\\0-9 years old\\0 years old\\06 months\\</td><td>DEM|AGE:0.6 </td><td>06 months</td></tr>\n",
       "\t<tr><td> 7</td><td>\\i2b2\\Demographics\\Age\\0-9 years old\\0 years old\\07 months\\</td><td>DEM|AGE:0.7 </td><td>07 months</td></tr>\n",
       "\t<tr><td> 8</td><td>\\i2b2\\Demographics\\Age\\0-9 years old\\0 years old\\08 months\\</td><td>DEM|AGE:0.8 </td><td>08 months</td></tr>\n",
       "\t<tr><td> 9</td><td>\\i2b2\\Demographics\\Age\\0-9 years old\\0 years old\\09 months\\</td><td>DEM|AGE:0.9 </td><td>09 months</td></tr>\n",
       "\t<tr><td>10</td><td>\\i2b2\\Demographics\\Age\\0-9 years old\\0 years old\\10 months\\</td><td>DEM|AGE:0.10</td><td>10 months</td></tr>\n",
       "</tbody>\n",
       "</table>\n"
      ],
      "text/latex": [
       "A data.frame: 10 × 4\n",
       "\\begin{tabular}{llll}\n",
       " X & CONCEPT\\_PATH & CONCEPT\\_CD & NAME\\_CHAR\\\\\n",
       " <int> & <chr> & <chr> & <chr>\\\\\n",
       "\\hline\n",
       "\t  1 & \\textbackslash{}i2b2\\textbackslash{}Demographics\\textbackslash{}Age\\textbackslash{}0-9 years old\\textbackslash{}0 years old\\textbackslash{}01 months\\textbackslash{} & DEM\\textbar{}AGE:0.1  & 01 months\\\\\n",
       "\t  2 & \\textbackslash{}i2b2\\textbackslash{}Demographics\\textbackslash{}Age\\textbackslash{}0-9 years old\\textbackslash{}0 years old\\textbackslash{}02 months\\textbackslash{} & DEM\\textbar{}AGE:0.2  & 02 months\\\\\n",
       "\t  3 & \\textbackslash{}i2b2\\textbackslash{}Demographics\\textbackslash{}Age\\textbackslash{}0-9 years old\\textbackslash{}0 years old\\textbackslash{}03 months\\textbackslash{} & DEM\\textbar{}AGE:0.3  & 03 months\\\\\n",
       "\t  4 & \\textbackslash{}i2b2\\textbackslash{}Demographics\\textbackslash{}Age\\textbackslash{}0-9 years old\\textbackslash{}0 years old\\textbackslash{}04 months\\textbackslash{} & DEM\\textbar{}AGE:0.4  & 04 months\\\\\n",
       "\t  5 & \\textbackslash{}i2b2\\textbackslash{}Demographics\\textbackslash{}Age\\textbackslash{}0-9 years old\\textbackslash{}0 years old\\textbackslash{}05 months\\textbackslash{} & DEM\\textbar{}AGE:0.5  & 05 months\\\\\n",
       "\t  6 & \\textbackslash{}i2b2\\textbackslash{}Demographics\\textbackslash{}Age\\textbackslash{}0-9 years old\\textbackslash{}0 years old\\textbackslash{}06 months\\textbackslash{} & DEM\\textbar{}AGE:0.6  & 06 months\\\\\n",
       "\t  7 & \\textbackslash{}i2b2\\textbackslash{}Demographics\\textbackslash{}Age\\textbackslash{}0-9 years old\\textbackslash{}0 years old\\textbackslash{}07 months\\textbackslash{} & DEM\\textbar{}AGE:0.7  & 07 months\\\\\n",
       "\t  8 & \\textbackslash{}i2b2\\textbackslash{}Demographics\\textbackslash{}Age\\textbackslash{}0-9 years old\\textbackslash{}0 years old\\textbackslash{}08 months\\textbackslash{} & DEM\\textbar{}AGE:0.8  & 08 months\\\\\n",
       "\t  9 & \\textbackslash{}i2b2\\textbackslash{}Demographics\\textbackslash{}Age\\textbackslash{}0-9 years old\\textbackslash{}0 years old\\textbackslash{}09 months\\textbackslash{} & DEM\\textbar{}AGE:0.9  & 09 months\\\\\n",
       "\t 10 & \\textbackslash{}i2b2\\textbackslash{}Demographics\\textbackslash{}Age\\textbackslash{}0-9 years old\\textbackslash{}0 years old\\textbackslash{}10 months\\textbackslash{} & DEM\\textbar{}AGE:0.10 & 10 months\\\\\n",
       "\\end{tabular}\n"
      ],
      "text/markdown": [
       "\n",
       "A data.frame: 10 × 4\n",
       "\n",
       "| X &lt;int&gt; | CONCEPT_PATH &lt;chr&gt; | CONCEPT_CD &lt;chr&gt; | NAME_CHAR &lt;chr&gt; |\n",
       "|---|---|---|---|\n",
       "|  1 | \\i2b2\\Demographics\\Age\\0-9 years old\\0 years old\\01 months\\ | DEM|AGE:0.1  | 01 months |\n",
       "|  2 | \\i2b2\\Demographics\\Age\\0-9 years old\\0 years old\\02 months\\ | DEM|AGE:0.2  | 02 months |\n",
       "|  3 | \\i2b2\\Demographics\\Age\\0-9 years old\\0 years old\\03 months\\ | DEM|AGE:0.3  | 03 months |\n",
       "|  4 | \\i2b2\\Demographics\\Age\\0-9 years old\\0 years old\\04 months\\ | DEM|AGE:0.4  | 04 months |\n",
       "|  5 | \\i2b2\\Demographics\\Age\\0-9 years old\\0 years old\\05 months\\ | DEM|AGE:0.5  | 05 months |\n",
       "|  6 | \\i2b2\\Demographics\\Age\\0-9 years old\\0 years old\\06 months\\ | DEM|AGE:0.6  | 06 months |\n",
       "|  7 | \\i2b2\\Demographics\\Age\\0-9 years old\\0 years old\\07 months\\ | DEM|AGE:0.7  | 07 months |\n",
       "|  8 | \\i2b2\\Demographics\\Age\\0-9 years old\\0 years old\\08 months\\ | DEM|AGE:0.8  | 08 months |\n",
       "|  9 | \\i2b2\\Demographics\\Age\\0-9 years old\\0 years old\\09 months\\ | DEM|AGE:0.9  | 09 months |\n",
       "| 10 | \\i2b2\\Demographics\\Age\\0-9 years old\\0 years old\\10 months\\ | DEM|AGE:0.10 | 10 months |\n",
       "\n"
      ],
      "text/plain": [
       "   X  CONCEPT_PATH                                                      \n",
       "1   1 \\\\i2b2\\\\Demographics\\\\Age\\\\0-9 years old\\\\0 years old\\\\01 months\\\\\n",
       "2   2 \\\\i2b2\\\\Demographics\\\\Age\\\\0-9 years old\\\\0 years old\\\\02 months\\\\\n",
       "3   3 \\\\i2b2\\\\Demographics\\\\Age\\\\0-9 years old\\\\0 years old\\\\03 months\\\\\n",
       "4   4 \\\\i2b2\\\\Demographics\\\\Age\\\\0-9 years old\\\\0 years old\\\\04 months\\\\\n",
       "5   5 \\\\i2b2\\\\Demographics\\\\Age\\\\0-9 years old\\\\0 years old\\\\05 months\\\\\n",
       "6   6 \\\\i2b2\\\\Demographics\\\\Age\\\\0-9 years old\\\\0 years old\\\\06 months\\\\\n",
       "7   7 \\\\i2b2\\\\Demographics\\\\Age\\\\0-9 years old\\\\0 years old\\\\07 months\\\\\n",
       "8   8 \\\\i2b2\\\\Demographics\\\\Age\\\\0-9 years old\\\\0 years old\\\\08 months\\\\\n",
       "9   9 \\\\i2b2\\\\Demographics\\\\Age\\\\0-9 years old\\\\0 years old\\\\09 months\\\\\n",
       "10 10 \\\\i2b2\\\\Demographics\\\\Age\\\\0-9 years old\\\\0 years old\\\\10 months\\\\\n",
       "   CONCEPT_CD   NAME_CHAR\n",
       "1  DEM|AGE:0.1  01 months\n",
       "2  DEM|AGE:0.2  02 months\n",
       "3  DEM|AGE:0.3  03 months\n",
       "4  DEM|AGE:0.4  04 months\n",
       "5  DEM|AGE:0.5  05 months\n",
       "6  DEM|AGE:0.6  06 months\n",
       "7  DEM|AGE:0.7  07 months\n",
       "8  DEM|AGE:0.8  08 months\n",
       "9  DEM|AGE:0.9  09 months\n",
       "10 DEM|AGE:0.10 10 months"
      ]
     },
     "metadata": {},
     "output_type": "display_data"
    }
   ],
   "source": [
    "previous_results = read.csv(\"data_files/results.csv\")\n",
    "previous_results"
   ]
  },
  {
   "cell_type": "markdown",
   "id": "3b48fdb6",
   "metadata": {},
   "source": [
    "### Connecting to your project database\n",
    "Your project database is unique to your project and named after your OCHIN Project ID. You have read-write access to this database.\n",
    "\n",
    "Your project database is initially empty. All temporary tables or aggregate results for your project should be saved here. You can store up to 50GB in your project database. This is not a lot! The full Raw database has over 1TB of data. If you copy data directly from the Raw database to your project database, you will quickly run out of space.\n",
    "\n"
   ]
  },
  {
   "cell_type": "code",
   "execution_count": null,
   "id": "fb2710b8",
   "metadata": {},
   "outputs": [],
   "source": [
    "### This example shows how to view tables in your project specific database. \n",
    "proj_db <- 'S000' # Change this to your project ID\n",
    "proj_connection_string = paste0(\"DRIVER={ODBC Driver 17 for SQL Server};\",\n",
    "                          \"SERVER=\", db_creds['host'], ',', db_creds['port'], ';',\n",
    "                          \"DATABASE=\", proj_db, ';',\n",
    "                          \"UID=\", db_creds['username'], ';',\n",
    "                          \"PWD={\", db_creds['password'], \"};\")\n",
    "proj_db_conn <- DBI::dbConnect(odbc::odbc(), .connection_string = proj_connection_string)"
   ]
  },
  {
   "cell_type": "code",
   "execution_count": null,
   "id": "fb2f60c3",
   "metadata": {},
   "outputs": [],
   "source": [
    "### We can print all tables in the project database like so:\n",
    "### Note that this database will be empty unless you have saved tables here. \n",
    "df3 <- dbGetQuery(proj_db_conn, \"SELECT name AS TABLE_NAME FROM sys.tables;\")\n",
    "df3"
   ]
  },
  {
   "cell_type": "code",
   "execution_count": null,
   "id": "f2319f35",
   "metadata": {},
   "outputs": [],
   "source": []
  }
 ],
 "metadata": {
  "kernelspec": {
   "display_name": "R",
   "language": "R",
   "name": "ir"
  },
  "language_info": {
   "codemirror_mode": "r",
   "file_extension": ".r",
   "mimetype": "text/x-r-source",
   "name": "R",
   "pygments_lexer": "r",
   "version": "4.4.3"
  }
 },
 "nbformat": 4,
 "nbformat_minor": 5
}
