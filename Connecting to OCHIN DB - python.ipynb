{
 "cells": [
  {
   "cell_type": "markdown",
   "id": "693c3fd5",
   "metadata": {},
   "source": [
    "# Connect to the OCHIN DB through python"
   ]
  },
  {
   "cell_type": "markdown",
   "id": "061d0d32",
   "metadata": {},
   "source": [
    "This notebook will walk you through how to connect to the OCHIN DB using python. \n",
    "Before you begin, make sure that you have access to the data and check to make sure the `db-credentials.txt` file is located in your home directory. "
   ]
  },
  {
   "cell_type": "markdown",
   "id": "ac3a3654",
   "metadata": {},
   "source": [
    "## Install ODBC drivers as necessary"
   ]
  },
  {
   "cell_type": "code",
   "execution_count": null,
   "id": "ba9be3c2",
   "metadata": {},
   "outputs": [],
   "source": [
    "%%sh\n",
    "\n",
    "sudo su \n",
    "\n",
    "#Download appropriate package for the OS version\n",
    "#Choose only ONE of the following, corresponding to your OS version\n",
    "\n",
    "#RHEL 7 and Oracle Linux 7\n",
    "curl https://packages.microsoft.com/config/rhel/7/prod.repo > /etc/yum.repos.d/mssql-release.repo\n",
    "\n",
    "#RHEL 8 and Oracle Linux 8\n",
    "#curl https://packages.microsoft.com/config/rhel/8/prod.repo > /etc/yum.repos.d/mssql-release.repo\n",
    "\n",
    "#RHEL 9\n",
    "#curl https://packages.microsoft.com/config/rhel/9.0/prod.repo > /etc/yum.repos.d/mssql-release.repo\n",
    "\n",
    "exit\n",
    "\n",
    "sudo yum remove unixODBC-utf16 unixODBC-utf16-devel #to avoid conflicts\n",
    "sudo ACCEPT_EULA=Y yum install -y msodbcsql17\n",
    "# optional: for bcp and sqlcmd\n",
    "sudo ACCEPT_EULA=Y yum install -y mssql-tools\n",
    "echo 'export PATH=\"$PATH:/opt/mssql-tools/bin\"' >> ~/.bashrc\n",
    "source ~/.bashrc\n",
    "# optional: for unixODBC development headers\n",
    "sudo yum install -y unixODBC-devel"
   ]
  },
  {
   "cell_type": "markdown",
   "id": "adf3958b",
   "metadata": {},
   "source": [
    "## Import python packages"
   ]
  },
  {
   "cell_type": "code",
   "execution_count": null,
   "id": "4fc7c8f5",
   "metadata": {},
   "outputs": [],
   "source": [
    "import pyodbc\n",
    "print(\"List of ODBC drivers:\")\n",
    "dlist = pyodbc.drivers()\n",
    "for drvr in dlist:\n",
    "    print('\\t', drvr)\n",
    "\n",
    "print(\"End of list\")"
   ]
  },
  {
   "cell_type": "code",
   "execution_count": null,
   "id": "7e2e9226",
   "metadata": {},
   "outputs": [],
   "source": [
    "!pip install pandasql \n",
    "import pandas as pd\n",
    "from pandasql import sqldf"
   ]
  },
  {
   "cell_type": "markdown",
   "id": "366e398f",
   "metadata": {},
   "source": [
    "## Read and parse your db credentials\n"
   ]
  },
  {
   "cell_type": "code",
   "execution_count": null,
   "id": "88e15dbc",
   "metadata": {},
   "outputs": [],
   "source": [
    "import re\n",
    "\n",
    "file_path = '/home/ec2-user/SageMaker/db-credentials.txt'\n",
    "\n",
    "with open(file_path, 'r') as file:\n",
    "    # Code to parse the data will go here\n",
    "    file_contents = file.read()\n",
    "\n",
    "# Remove newlines and extra spaces\n",
    "cleaned_string = file_contents.replace('\\n', '').strip()\n",
    "\n",
    "# Extract variable-value pairs using regular expressions\n",
    "pattern = r'\"([^\"]+)\": \"([^\"]+)\"'\n",
    "pairs = re.findall(pattern, cleaned_string)\n",
    "\n",
    "parsed_data = {}\n",
    "\n",
    "for variable, data in pairs:\n",
    "    parsed_data[variable] = data\n"
   ]
  },
  {
   "cell_type": "markdown",
   "id": "0a0c81c8",
   "metadata": {},
   "source": [
    "**Change the code below to reflect the DB view that you have access to**"
   ]
  },
  {
   "cell_type": "code",
   "execution_count": null,
   "id": "1dec0ac8",
   "metadata": {},
   "outputs": [],
   "source": [
    "import pyodbc\n",
    "db = 'S43' ### ENTER YOUR DB VIEW HERE, for example 'S43'"
   ]
  },
  {
   "cell_type": "markdown",
   "id": "5bd605c0",
   "metadata": {},
   "source": [
    "## Connect to the database"
   ]
  },
  {
   "cell_type": "code",
   "execution_count": null,
   "id": "d5a723cb",
   "metadata": {},
   "outputs": [],
   "source": [
    "connection_string = \"DRIVER={ODBC Driver 17 for SQL Server};\" + \\\n",
    "                    \"SERVER=\" + parsed_data['host'] + ',' + parsed_data['port'] + ';' + \\\n",
    "                    \"DATABASE=\" + db + ';' + \\\n",
    "                    \"UID=\" + parsed_data['username'] + ';' + \\\n",
    "                    \"PWD={\" + parsed_data['password'] + \"};\"\n"
   ]
  },
  {
   "cell_type": "code",
   "execution_count": null,
   "id": "8c8fe6cb",
   "metadata": {},
   "outputs": [],
   "source": [
    "conn = pyodbc.connect(connection_string, trusted_connection = 'no')"
   ]
  },
  {
   "cell_type": "code",
   "execution_count": null,
   "id": "06fd54ab",
   "metadata": {},
   "outputs": [],
   "source": [
    "cursor = conn.cursor()"
   ]
  },
  {
   "cell_type": "markdown",
   "id": "eb6c06eb",
   "metadata": {},
   "source": [
    "## Example queries"
   ]
  },
  {
   "cell_type": "markdown",
   "id": "9b86d07d",
   "metadata": {},
   "source": [
    "**Print all tables available in your database view**"
   ]
  },
  {
   "cell_type": "code",
   "execution_count": null,
   "id": "1da42b62",
   "metadata": {},
   "outputs": [],
   "source": [
    "cursor.execute('''\n",
    "SELECT name AS TABLE_NAME\n",
    "FROM sys.tables\n",
    "''')\n",
    "for row in cursor:\n",
    "    print(row[0])"
   ]
  },
  {
   "cell_type": "markdown",
   "id": "4768793a",
   "metadata": {},
   "source": [
    "**Select the top 10 entries in the CONCEPT_DIMENSION table**"
   ]
  },
  {
   "cell_type": "code",
   "execution_count": null,
   "id": "bf24ab07",
   "metadata": {},
   "outputs": [],
   "source": [
    "cursor.execute('''\n",
    "SELECT TOP 10 *\n",
    "FROM CONCEPT_DIMENSION;\n",
    "\n",
    "''')\n",
    "\n",
    "results = cursor.fetchall()\n",
    "\n",
    "# Get the column names from the cursor description\n",
    "columns = [column[0] for column in cursor.description]\n",
    "\n",
    "# Create a DataFrame from the fetched results and column names\n",
    "results_df = pd.DataFrame.from_records(results, columns=columns)\n",
    "results_df['NAME_CHAR'] = results_df['NAME_CHAR'].astype('category')\n",
    "results_df"
   ]
  },
  {
   "cell_type": "code",
   "execution_count": null,
   "id": "c4662a2d",
   "metadata": {},
   "outputs": [],
   "source": []
  },
  {
   "cell_type": "code",
   "execution_count": null,
   "id": "8f27a3f8",
   "metadata": {},
   "outputs": [],
   "source": []
  },
  {
   "cell_type": "code",
   "execution_count": null,
   "id": "888444c5",
   "metadata": {},
   "outputs": [],
   "source": []
  }
 ],
 "metadata": {
  "kernelspec": {
   "display_name": "conda_python3",
   "language": "python",
   "name": "conda_python3"
  },
  "language_info": {
   "codemirror_mode": {
    "name": "ipython",
    "version": 3
   },
   "file_extension": ".py",
   "mimetype": "text/x-python",
   "name": "python",
   "nbconvert_exporter": "python",
   "pygments_lexer": "ipython3",
   "version": "3.10.13"
  }
 },
 "nbformat": 4,
 "nbformat_minor": 5
}
