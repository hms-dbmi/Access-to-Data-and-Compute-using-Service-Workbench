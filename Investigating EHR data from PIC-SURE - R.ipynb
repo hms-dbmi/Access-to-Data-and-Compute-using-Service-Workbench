{
 "cells": [
  {
   "cell_type": "markdown",
   "id": "aad58f25",
   "metadata": {},
   "source": [
    "# Investigating EHR data from PIC-SURE\n",
    "\n",
    "The purpose of this notebook is to help researchers get started with EHR analysis in python using clinical data exported from PIC-SURE. \n",
    "\n",
    "### About the data\n",
    "This example code uses a synthetically generated dataset from Synthea, an open-source patient population simulation. \n",
    "The dataset has been formatted to mirror what a data export from PIC-SURE may look like.  \n",
    "It includes all age groups and is not limited to pediatric patients. \n",
    "\n",
    "\n",
    "\n",
    "Jason Walonoski, Mark Kramer, Joseph Nichols, Andre Quina, Chris Moesel, Dylan Hall, Carlton Duffett, Kudakwashe Dube, Thomas Gallagher, Scott McLachlan, Synthea: An approach, method, and software mechanism for generating synthetic patients and the synthetic electronic health care record, Journal of the American Medical Informatics Association, Volume 25, Issue 3, March 2018, Pages 230–238, https://doi.org/10.1093/jamia/ocx079\n",
    "\n",
    "###  Installing packages\n",
    "The following code installs and loads packages needed for basic data management and manipulation.\n"
   ]
  },
  {
   "cell_type": "code",
   "execution_count": null,
   "id": "7af50932",
   "metadata": {},
   "outputs": [],
   "source": [
    "options(repos = c(CRAN = \"https://cloud.r-project.org/\"))\n",
    "\n",
    "install.packages('tidyverse')\n",
    "install.packages('lubridate')\n",
    "\n",
    "library(tidyverse)\n",
    "library(lubridate)"
   ]
  },
  {
   "cell_type": "markdown",
   "id": "070e734f",
   "metadata": {},
   "source": [
    "## Loading the data\n",
    "The following code downloads the dataset. <span style=\"color:red\">Edit the loading code below once the dataset is hosted on S3</span>."
   ]
  },
  {
   "cell_type": "code",
   "execution_count": null,
   "id": "46169833",
   "metadata": {},
   "outputs": [],
   "source": [
    "#loading the dataset:\n",
    "data = read_csv('../../Downloads/synthea_10k_picsure_format.csv')\n"
   ]
  },
  {
   "cell_type": "markdown",
   "id": "93b5758b",
   "metadata": {},
   "source": [
    "## Taking a first look at the dataset\n",
    "Let's use the `head()` function to take a first look at the dataset. \n",
    "You'll see 5 columns:\n",
    "* PATIENT_NUM: Represents a unique patient identifier\n",
    "* CONCEPT_PATH: Represents the clinical variable for a given observation (row)\n",
    "* TVAL_CHAR: The text / character value of the clinical variable, if applicable\n",
    "* NVAL_NUM: The numerical value of the clinical variable, if applicable\n",
    "* TIMESTAMP: The date and time associated to a given observation (row)"
   ]
  },
  {
   "cell_type": "code",
   "execution_count": null,
   "id": "3b0df5a0",
   "metadata": {},
   "outputs": [],
   "source": [
    "head(data)"
   ]
  },
  {
   "cell_type": "markdown",
   "id": "631fb73f",
   "metadata": {},
   "source": [
    "The EHR data represented in this dataset may be very large, making it difficult to explore manually. \n",
    "\n",
    "You'll notice that the `CONCEPT_PATH` column consists of a hierarchy that narrows down to a certain clinical variable. \n",
    "\n",
    "Let's take a look at the highest level of the `CONCEPT_PATH` to see what kind of data we have. We can consider this to be the `VARIABLE_TYPE`."
   ]
  },
  {
   "cell_type": "code",
   "execution_count": null,
   "id": "158b7675",
   "metadata": {},
   "outputs": [],
   "source": [
    "# Isolate the variable type using regular expressions, and create a new column for variable type\n",
    "data$VARIABLE_TYPE = str_extract(data$CONCEPT_PATH, \"(?<=\\\\\\\\)[^\\\\\\\\]+(?=\\\\\\\\)\")\n",
    "# Count how many observations are associated with each variable type\n",
    "table(data$VARIABLE_TYPE)"
   ]
  },
  {
   "cell_type": "markdown",
   "id": "d830848f",
   "metadata": {},
   "source": [
    "As seen above, this dataset contains the following data types: \n",
    "- ACT Lab Test Results (Labs)\n",
    "- ACT Medications\n",
    "- ACT Diagnosis ICD-10 (Diagnoses)\n",
    "- ACT Procedures CPT (Procedures)\n",
    "- ACT Demographics\n",
    "\n",
    "\n",
    "#### Working with patient demographics from the dataset\n",
    "Here we will explore, organize and visualize the demographic data available in our dataset. This includes age, sex and race.\n",
    "\n",
    "This dataset should contain about 10,000 synthetic patient records. Let's verify this by checking the count of unique patient IDs present in the dataset. "
   ]
  },
  {
   "cell_type": "code",
   "execution_count": null,
   "id": "8ed75f23",
   "metadata": {},
   "outputs": [],
   "source": [
    "n_distinct(data$PATIENT_NUM)\n"
   ]
  },
  {
   "cell_type": "markdown",
   "id": "6d34716e",
   "metadata": {},
   "source": [
    "Let's also check what date ranges are represented in our dataset. \n"
   ]
  },
  {
   "cell_type": "code",
   "execution_count": null,
   "id": "ce061bde",
   "metadata": {},
   "outputs": [],
   "source": [
    "# Extracting date from timestamp column\n",
    "data <- data %>%\n",
    "  mutate(TIMESTAMP = ymd_hms(TIMESTAMP, quiet = TRUE), # Convert to datetime\n",
    "         DATE = as.Date(TIMESTAMP)) # Extract date\n",
    "\n",
    "# Create a histogram of dates\n",
    "ggplot(data, aes(x = DATE)) +\n",
    "  geom_histogram(bins = 30, fill = \"skyblue\", color = \"black\") +\n",
    "  labs(x = \"Date\", y = \"Frequency\", title = \"Histogram of Dates\") +\n",
    "  theme_minimal() +\n",
    "  theme(axis.text.x = element_text(angle = 45, hjust = 1))"
   ]
  },
  {
   "cell_type": "markdown",
   "id": "2d8942ca",
   "metadata": {},
   "source": [
    "The majority of our dataset is from the last 15 years, as expected. \n",
    "\n",
    "We also see data stretching far back to 1920; perhaps this is associated with a patient's age. Depending on your research question, you may want to investigate those outliers. \n",
    "\n",
    "## Exploring Demographic Data\n",
    "Here we will explore, organize and visualize the demographic data available in our dataset. This includes age, sex and race.\n",
    "\n",
    "Let's create a new dataframe called `demo_df` that will only include the demographics information."
   ]
  },
  {
   "cell_type": "code",
   "execution_count": null,
   "id": "3ae2d11b",
   "metadata": {},
   "outputs": [],
   "source": [
    "# Create a new dataframe including only the demographics data:\n",
    "\n",
    "demo_df <- data %>%\n",
    "  filter(VARIABLE_TYPE == 'ACT Demographics')\n"
   ]
  },
  {
   "cell_type": "markdown",
   "id": "14312ca7",
   "metadata": {},
   "source": [
    "Let's first take a look at the **sex** breakdown. \n",
    "\n",
    "We can find the Sex related observations by searching for this value in the CONCEPT_PATH column. Then, we take the sex related values (found in the TVAL_CHAR column) and transform them into a new column, \"sex\". "
   ]
  },
  {
   "cell_type": "code",
   "execution_count": null,
   "id": "e8d7f67b",
   "metadata": {},
   "outputs": [],
   "source": [
    "# isolating and showing sex data:\n",
    "\n",
    "sex_df <- demo_df %>%\n",
    "  filter(grepl(\"Sex\", CONCEPT_PATH)) %>%\n",
    "  select(PATIENT_NUM, TVAL_CHAR)\n",
    "\n",
    "# renaming the column title to \"sex\":\n",
    "sex_df<- sex_df %>%\n",
    "  rename(sex=TVAL_CHAR)\n",
    "\n",
    "head(sex_df)"
   ]
  },
  {
   "cell_type": "markdown",
   "id": "e7c993b7",
   "metadata": {},
   "source": [
    "Creating a table to show the sex distribution of the dataset:\n"
   ]
  },
  {
   "cell_type": "code",
   "execution_count": null,
   "id": "eaf77e0f",
   "metadata": {},
   "outputs": [],
   "source": [
    "# grouping by sex and calculating the percentage of each:\n",
    "sex_count<- sex_df %>%\n",
    "  group_by(sex) %>%\n",
    "  summarise(count=n()) %>%\n",
    "  mutate(percentage = (count / sum(count)) * 100)\n",
    "\n",
    "sex_count"
   ]
  },
  {
   "cell_type": "markdown",
   "id": "5879da04",
   "metadata": {},
   "source": [
    "Now let's look at the **age** distribution of our patients. \n",
    "\n",
    "Below, we isolate the age data by searching the CONCEPT_PATH for Age. Then, we take the age related values (found in the NVAL_NUM column) and transform them into a new column, \"age\". \n"
   ]
  },
  {
   "cell_type": "code",
   "execution_count": null,
   "id": "9e481fe3",
   "metadata": {},
   "outputs": [],
   "source": [
    "# isolating and showing age data + renaming column title to \"age\":\n",
    "age_df<- demo_df %>%\n",
    "   filter(grepl(\"Age\", CONCEPT_PATH)) %>%\n",
    "  select(PATIENT_NUM, NVAL_NUM) %>%\n",
    "  rename(age=NVAL_NUM) %>%\n",
    "  arrange(PATIENT_NUM)"
   ]
  },
  {
   "cell_type": "markdown",
   "id": "38f043fa",
   "metadata": {},
   "source": [
    "We can now use this age dataframe to plot the age distribution in our data. \n"
   ]
  },
  {
   "cell_type": "code",
   "execution_count": null,
   "id": "f1db4d05",
   "metadata": {},
   "outputs": [],
   "source": [
    "#Creating a histogram, demonstrating the age distribution:\n",
    "\n",
    "ggplot(data = age_df) +\n",
    "  geom_histogram(aes(x=age), binwidth = 1, fill = \"blue\", color = \"black\") +\n",
    "  theme_bw() +\n",
    "  scale_x_continuous(n.breaks=18)+\n",
    "  labs(x = \"Age\", y = \"Frequency\", title = \"Age Distribution\")\n"
   ]
  },
  {
   "cell_type": "markdown",
   "id": "a22365fe",
   "metadata": {},
   "source": [
    "We can also group our patients into age groups and create a table detailing how many patients are in each age group. \n",
    "\n",
    "We will group our patients into the following groups: \n",
    "* under 18\n",
    "* 18-65\n",
    "* 65+\n"
   ]
  },
  {
   "cell_type": "code",
   "execution_count": null,
   "id": "05d18d98",
   "metadata": {},
   "outputs": [],
   "source": [
    "# grouping by age (<18 , 18-65, 65+)\n",
    "\n",
    "age_groups<- age_df %>%\n",
    "  mutate(age_group= case_when(age < 18 ~ \"<18\",\n",
    "                    age >= 18 & age <65 ~ \"18-65\",\n",
    "                   age >=65 ~ \"65+\"))\n",
    "\n",
    "# calculating number of patients in each group\n",
    "\n",
    "age_group_sum<- age_groups %>%\n",
    "  group_by(age_group)%>%\n",
    "  summarize(count=n()) %>%\n",
    "  arrange(factor(age_group, levels = c(\"<18\", \"18-65\", \"65+\")))\n",
    "\n",
    "age_group_sum"
   ]
  },
  {
   "cell_type": "markdown",
   "id": "06881add",
   "metadata": {},
   "source": [
    "Finally, let's investigate the **race** distribution. \n",
    "\n",
    "Similarly to above, we isolate the race data by searching the CONCEPT_PATH for Race. Then, we take the race related values (found in the TVAL_CHAR column) and transform them into a new column, \"race\". "
   ]
  },
  {
   "cell_type": "code",
   "execution_count": null,
   "id": "d324eb01",
   "metadata": {},
   "outputs": [],
   "source": [
    "# isolating race data + renaming column title to \"race\":\n",
    "race_df<- demo_df %>%\n",
    "  filter(grepl(\"Race\", CONCEPT_PATH)) %>%\n",
    "   select(PATIENT_NUM, TVAL_CHAR)%>%\n",
    "  rename(race=TVAL_CHAR)\n"
   ]
  },
  {
   "cell_type": "markdown",
   "id": "22793211",
   "metadata": {},
   "source": [
    "creating a table of the race distribution\n"
   ]
  },
  {
   "cell_type": "code",
   "execution_count": null,
   "id": "00238376",
   "metadata": {},
   "outputs": [],
   "source": [
    "# grouping by race and calculating the percentage of each:\n",
    "\n",
    "race_count <- race_df %>%\n",
    "  group_by(race) %>%\n",
    "  summarise(count = n()) %>%\n",
    "  mutate(percentage = round((count / sum(count)) * 100,2)) %>%\n",
    "  mutate(race = fct_reorder(race, -percentage)) %>%\n",
    "  arrange(-percentage)\n",
    "\n",
    "race_count"
   ]
  },
  {
   "cell_type": "markdown",
   "id": "17078836",
   "metadata": {},
   "source": [
    "We will plot these results in a bar plot. \n"
   ]
  },
  {
   "cell_type": "code",
   "execution_count": null,
   "id": "69d1933f",
   "metadata": {},
   "outputs": [],
   "source": [
    "# create a bar plot representing race distribution:\n",
    "\n",
    "ggplot(data= race_count) +\n",
    "  geom_bar(aes(x=race, y=percentage, fill= race ), stat = \"identity\")+\n",
    "  theme_bw()+\n",
    "  theme(axis.text.x = element_text(angle = 45, hjust = 1))+\n",
    "  theme(legend.position = \"none\")+\n",
    "  labs(x=\"Race\",y=\"Percentage\", title=\"Participants Race Distribution\") "
   ]
  },
  {
   "cell_type": "markdown",
   "id": "e95ce3be",
   "metadata": {},
   "source": [
    "The way our initial dataset is formatted can be difficult to view multiple variables about a given patient at the same time. \n",
    "\n",
    "Below, we create one table presenting all demographic data (age, sex, race) by patient ID. "
   ]
  },
  {
   "cell_type": "code",
   "execution_count": null,
   "id": "ddf928fe",
   "metadata": {},
   "outputs": [],
   "source": [
    "#merging all columns to show age, sex, race in one table:\n",
    "\n",
    "demographics_joined<- age_df %>%\n",
    "  left_join(sex_df, by=\"PATIENT_NUM\") %>%\n",
    "  left_join(race_df, by= \"PATIENT_NUM\")\n",
    "\n",
    "head(demographics_joined)"
   ]
  },
  {
   "cell_type": "markdown",
   "id": "dcbecd0f",
   "metadata": {},
   "source": [
    "## Investigating ICD codes: Epilepsy case study\n",
    "We can isolate the diagnosis related information by searching for 'ACT Diagnosis' in the CONCEPT_PATH column."
   ]
  },
  {
   "cell_type": "code",
   "execution_count": null,
   "id": "c9272027",
   "metadata": {},
   "outputs": [],
   "source": [
    "#create a new data frame including only diagnosis data:\n",
    "\n",
    "diagnosis_icd10 <- data %>%\n",
    "  filter(grepl(\"\\\\ACT Diagnosis ICD-10\", CONCEPT_PATH))"
   ]
  },
  {
   "cell_type": "markdown",
   "id": "48e34f39",
   "metadata": {},
   "source": [
    "### In this case study, we will investigate epilepsy as the disease of interest. \n",
    "\n",
    "Epilapsy is represented by  ICD group code \"G40\", which includes the following and their sub-groups:\n",
    "* G40.0: Localization-related (focal) (partial) idiopathic epilepsy and epileptic syndromes with seizures of localized onset.\n",
    "* G40.1: Localization-related (focal) (partial) symptomatic epilepsy and epileptic syndromes with simple partial seizures.\n",
    "* G40.2: Localization-related (focal) (partial) symptomatic epilepsy and epileptic syndromes with complex partial seizures.\n",
    "* G40.3: Generalized idiopathic epilepsy and epileptic syndromes\n",
    "* G40.A: Absence epileptic syndrome.\n",
    "* G40.B: Juvenile myoclonic epilepsy [impulsive petit mal].\n",
    "* G40.C: Lafora progressive myoclonus epilepsy, intractable.\n",
    "* G40.4: Other generalized epilepsy and epileptic syndromes.\n",
    "* G40.5: Epileptic seizures related to external causes.\n",
    "* G40.8: Other epilepsy and recurrent seizures.\n",
    "* G40.9: Epilepsy, unspecified.\n",
    "\n",
    "*A full list of ICD-10 codes can be found at https://www.icd10data.com/ICD10CM/Codes*\n",
    "\n",
    "### Isolating the patient cohort\n",
    "\n",
    "First, we create a new data-frame that only includes patients with epilepsy.\n",
    "\n",
    "We create a variable called `icd_code_of_interest` and set it to `G40`.\n",
    "\n",
    "(you can replace the ICD code \"G40\" with the ICD code of your choice if you are interested in investigating a different disease group!):\n",
    "\n",
    "You can see a preview of this epilepsy focused dataset below."
   ]
  },
  {
   "cell_type": "code",
   "execution_count": null,
   "id": "2ece5d2c",
   "metadata": {},
   "outputs": [],
   "source": [
    "#filtering to include only patients diagnosed with epilepsy and recurrent seizures (ICD GROUP CODE G40):\n",
    "icd_code_of_interest = 'G40'\n",
    "\n",
    "epilepsy_icd10<- diagnosis_icd10 %>%\n",
    "  filter(grepl(icd_code_of_interest, TVAL_CHAR)) %>%\n",
    "  select(PATIENT_NUM, CONCEPT_PATH,TVAL_CHAR) %>%\n",
    "  rename(icd_10_code= TVAL_CHAR) %>%\n",
    "  group_by(PATIENT_NUM)\n",
    "\n",
    "# creating a final list of patient_ids with epilepsy (G40 group code), removing any duplicate entries for same patient id :\n",
    "\n",
    "epilepsy_icd10_patient_ids<- epilepsy_icd10 %>%\n",
    "  select(PATIENT_NUM) %>%\n",
    "  distinct() \n",
    "\n",
    "head(epilepsy_icd10)"
   ]
  },
  {
   "cell_type": "markdown",
   "id": "3a513a12",
   "metadata": {},
   "source": [
    "Let's also isolate the demographic data for patients who have been diagnosed with epilepsy, and see how much of our dataset they represent."
   ]
  },
  {
   "cell_type": "code",
   "execution_count": null,
   "id": "efdd5ada",
   "metadata": {},
   "outputs": [],
   "source": [
    "# merging the patient id list with the demographic data\n",
    "epi_demo<- epilepsy_icd10_patient_ids %>%\n",
    "  left_join(demographics_joined, by= \"PATIENT_NUM\") %>%\n",
    "  arrange(PATIENT_NUM)\n",
    "\n",
    "head(epi_demo)\n",
    "\n",
    "# calculating percentage of patients with epilepsy from original cohort:\n",
    "percentage_epilepsy <-  (nrow(epilepsy_icd10_patient_ids) / n_distinct(data$PATIENT_NUM)) * 100\n",
    "\n",
    "print(paste(round(percentage_epilepsy,2), '% of patients in our dataset have been diagnosed with an epilepsy ICD10 code.'))"
   ]
  },
  {
   "cell_type": "markdown",
   "id": "98f678b7",
   "metadata": {},
   "source": [
    "### Investigating the presence of other diagnostic codes in our defined patient cohort\n",
    "Our cohort consists of patients with epilepsy. \n",
    "Let's say we are interested in comparing which patients with epilepsy also have been diagnosed with migranes (ICD GROUP CODE G43).\n",
    "\n",
    "We create a variable called `icd` and set it to `G43`. (you can replace the ICD code \"G43\" with the ICD code of your choice in the next chunk of code)\n",
    "\n",
    "We then search for this ICD code of interest within our cohort. \n",
    "\n",
    "This will be done in a few steps.\n",
    "(you can replace the ICD code \"G43\" with the ICD code of your choice in the next chunk of code):"
   ]
  },
  {
   "cell_type": "code",
   "execution_count": null,
   "id": "44c74481",
   "metadata": {},
   "outputs": [],
   "source": [
    "# (ICD GROUP CODE G43)\n",
    "icd <- 'G43'\n",
    "\n",
    "##first, creating a data-frame including only patients diagnosed with migraines \n",
    "\n",
    "migraine_icd10<- diagnosis_icd10 %>%\n",
    "  filter(grepl(icd,TVAL_CHAR)) %>% \n",
    "  select(PATIENT_NUM, CONCEPT_PATH,TVAL_CHAR) %>%\n",
    "  rename(icd_10_code= TVAL_CHAR)%>%\n",
    "  group_by(PATIENT_NUM)\n",
    "\n",
    "#next, extracting only the patient id's and removing any duplicates.\n",
    "migraine_icd10_patient_ids<- migraine_icd10 %>%\n",
    "  select(PATIENT_NUM) %>%\n",
    "  distinct()\n",
    "\n",
    "\n",
    "#finally, merging the epilepsy patient id list with the migraine patient id list to create a list including only patients that have both epilepsy and migraine ICD10 codes \n",
    "epilepsy_migraine <- epilepsy_icd10_patient_ids %>%\n",
    "  inner_join(migraine_icd10_patient_ids, by = \"PATIENT_NUM\")\n",
    "  "
   ]
  },
  {
   "cell_type": "markdown",
   "id": "eb624ff2",
   "metadata": {},
   "source": [
    "Now, let's examine the original epilepsy dataframe and add a column indicating which patients also have migraines:"
   ]
  },
  {
   "cell_type": "code",
   "execution_count": null,
   "id": "6f6ec45e",
   "metadata": {},
   "outputs": [],
   "source": [
    "# merging the joint list to the original epilepsy patient list, and creating a migraine column indicating if the patient with epilepsy also has a migraine diagnosis (yes=1/ no=0):\n",
    "\n",
    "epilepsy_merged <- epilepsy_icd10_patient_ids %>%\n",
    "  left_join(epilepsy_migraine %>% mutate(migraines = 1), by = \"PATIENT_NUM\") %>%\n",
    "  replace_na(list(migraines = 0))  %>%\n",
    "  left_join(epi_demo, by=\"PATIENT_NUM\") %>%\n",
    "  arrange(PATIENT_NUM)\n",
    "\n",
    "head(epilepsy_merged)"
   ]
  },
  {
   "cell_type": "markdown",
   "id": "03227d0f",
   "metadata": {},
   "source": [
    "The following table shows the percentage of patients with migraines in the epilepsy patient cohort.\n",
    "\n",
    "We can see that only a small percentage of our patients with epilepsy also experience migraines."
   ]
  },
  {
   "cell_type": "code",
   "execution_count": null,
   "id": "75582fb5",
   "metadata": {},
   "outputs": [],
   "source": [
    "#calculating the number and percentage of patient with migraines in the epilepsy patient cohort\n",
    "epilepsy_migraine_count <- epilepsy_merged %>%\n",
    "  group_by(migraines) %>%\n",
    "  summarise(count=n()) %>%\n",
    "  mutate(percentage = round((count / sum(count)) * 100,2)) \n",
    " \n",
    "epilepsy_migraine_count"
   ]
  },
  {
   "cell_type": "markdown",
   "id": "3b3ec672",
   "metadata": {},
   "source": [
    "### Investigating what medications have been administered to our cohort of interest\n",
    "\n",
    "Let's now look into the medications data. We can isolate the medications data by searching the CONCEPT_PATH variable for the term `ACT Medications`.\n"
   ]
  },
  {
   "cell_type": "code",
   "execution_count": null,
   "id": "3b6046e2",
   "metadata": {},
   "outputs": [],
   "source": [
    "#creating a new dataframe containing only medication data:\n",
    "\n",
    "medications<- data %>%\n",
    "  filter(grepl(\"\\\\ACT Medications\", CONCEPT_PATH)) \n",
    "\n",
    "#showing list with unique values of medications included in the dataset:\n",
    "\n",
    "medication_list<- medications %>%  \n",
    "  select(CONCEPT_PATH)%>%\n",
    "  distinct() %>%\n",
    "  arrange(CONCEPT_PATH)\n",
    "\n",
    "head(medication_list)"
   ]
  },
  {
   "cell_type": "markdown",
   "id": "4d056a22",
   "metadata": {},
   "source": [
    "For our epilepsy case study, we are interested in knowing whether a patient has been administered Carbamazepine or Pregabalin. \n",
    "- Carbamazepine is used to manage and treat epilepsy, trigeminal neuralgia, and acute manic and mixed episodes in bipolar I disorder.\n",
    "- Pregabalin treats nerve and muscle pain, including fibromyalgia. It can also treat seizures.\n",
    "\n",
    "\n",
    "We will search our dataset for these medications and isolate which patients are associated to those observations.\n",
    "\n",
    "We then isolate our results to our cohort of interest. \n",
    "\n",
    "The resulting table contains information on whether or not a patient who was diagnosed with epilepsy was ever administered carbamazepine or pregabalin. \n"
   ]
  },
  {
   "cell_type": "code",
   "execution_count": null,
   "id": "4a6a1ba9",
   "metadata": {},
   "outputs": [],
   "source": [
    "#filtering original dataset to patients receiving Carbamazepine or/and Pregabalin\n",
    "\n",
    "carba_preg<- medications %>%\n",
    "  filter(grepl(\"Carbamazepine\",CONCEPT_PATH) |\n",
    "         grepl(\"Pregabalin\", CONCEPT_PATH)) %>%\n",
    "  select(PATIENT_NUM,CONCEPT_PATH)\n",
    "\n",
    "#creating a new column indicating if a patient has been prescribed Carbamazepine or Pregabalin (yes=1,no=0) for easier visualization and data manipulation\n",
    "cleaned_medication <- carba_preg %>%\n",
    "  mutate(carbamazepine= if_else(grepl(\"Carbamazepine\", CONCEPT_PATH) , 1,0),\n",
    "         pregabalin=if_else(grepl(\"Pregabalin\", CONCEPT_PATH) , 1,0) ) %>%\n",
    "  group_by(PATIENT_NUM) %>%\n",
    "  summarize(\n",
    "    carbamazepine = max(carbamazepine),\n",
    "    pregabalin = max(pregabalin)\n",
    "  ) %>%\n",
    "  arrange(PATIENT_NUM)\n",
    "\n",
    "head(cleaned_medication)\n",
    "\n",
    "print(paste(sum(cleaned_medication$carbamazepine), \"patient(s) with epilepsy were taking carbamazepine\"))\n",
    "print(paste(sum(cleaned_medication$pregabalin), \"patient(s) with epilepsy were taking pregabalin\"))"
   ]
  },
  {
   "cell_type": "markdown",
   "id": "6f3ef527",
   "metadata": {},
   "source": [
    "### Investigating lab results over time for our cohort of interest\n",
    "\n",
    "We can isolate the lab related information by searching for 'ACT Lab Test Results' in the CONCEPT_PATH column.\n",
    "\n",
    "Below is a preview of the labs available in the dataset. \n"
   ]
  },
  {
   "cell_type": "code",
   "execution_count": null,
   "id": "0f952032",
   "metadata": {},
   "outputs": [],
   "source": [
    "# Creating a new dataframe containing only the lab test results for all patients in the original dataset:\n",
    "lab_test_results<- data %>%\n",
    "   filter(grepl(\"\\\\ACT Lab Test Results\",CONCEPT_PATH)) \n",
    "\n",
    "# creating a list with unique types of lab tests included in the dataset:\n",
    "lab_list<- data %>%\n",
    "   filter(grepl(\"\\\\ACT Lab Test Results\",CONCEPT_PATH)) %>%\n",
    "  select(CONCEPT_PATH)%>%\n",
    "  distinct()\n",
    "\n",
    "head(lab_list)"
   ]
  },
  {
   "cell_type": "markdown",
   "id": "ac333942",
   "metadata": {},
   "source": [
    "In the following example, we will focus on AST (aspartate aminotransferase) and ALT (alanine transaminase) lab test results. \n",
    "We will also only focus on lab results from 2023. \n",
    "- AST is an enzyme found in the liver, muscles, and other organs. When cells that contain AST are damaged, they release AST into the blood\n",
    "- An ALT blood test is used to diagnose liver disorders. ALT is a liver enzyme that is released in the blood when liver cells are damaged.\n",
    "\n",
    "(you can replace \"ALT\" or \"AST\" with your choice of lab test, to add additional lab tests just add a \"|\" before the next lab test name)\n",
    "\n",
    "\n",
    "*Note that the number of lab result entries can vary widely per patient, and even multiple entries per day are possible. In the graphic representation and statistical measurement tables, each individual lab result is treated as an individual data point, without the use of weighted averages or other methodological statistical adjustments.*"
   ]
  },
  {
   "cell_type": "code",
   "execution_count": null,
   "id": "bddd73de",
   "metadata": {},
   "outputs": [],
   "source": [
    "#filtering the original dataset to include only AST and ALT test results from the year 2023, cleaning the data, and organizing it by patient id:\n",
    "\n",
    "alt_ast<- lab_test_results %>%\n",
    "  filter(grepl(\"ALT|AST\",CONCEPT_PATH),\n",
    "         TIMESTAMP >= as.Date(\"2023-01-01\") & TIMESTAMP <= as.Date(\"2023-12-31\")) %>%\n",
    "  mutate(lab_test =case_when(grepl(\"AST\", CONCEPT_PATH) ~ \"ast\",\n",
    "                              grepl(\"ALT\", CONCEPT_PATH) ~ \"alt\")) %>%\n",
    "  rename(value=NVAL_NUM) %>%\n",
    "  select(PATIENT_NUM, lab_test, value, TIMESTAMP) %>%\n",
    " arrange(PATIENT_NUM, TIMESTAMP) %>%\n",
    "  distinct()\n",
    "  \n",
    "head(alt_ast)\n",
    "\n",
    "#creating a table with statistic summary values \n",
    "alt_ast_sum<- alt_ast %>%\n",
    "  group_by(lab_test) %>%\n",
    "  summarise(mean=mean(value),\n",
    "            sd= sd(value),\n",
    "            n=n()) %>%\n",
    "  mutate( se = sd / sqrt(n),\n",
    "          lower_ci= mean - 1.96*se ,\n",
    "          upper_ci= mean +1.96*se)\n",
    "\n",
    "alt_ast_sum"
   ]
  },
  {
   "cell_type": "markdown",
   "id": "541b85c3",
   "metadata": {},
   "source": [
    "Let's now graph a distribution of ALT and AST values in 2023.\n"
   ]
  },
  {
   "cell_type": "code",
   "execution_count": null,
   "id": "bd4bced2",
   "metadata": {},
   "outputs": [],
   "source": [
    "#creating a box plot graph of the results. \n",
    "\n",
    "ggplot(data=alt_ast)+\n",
    "  geom_boxplot(aes(x=lab_test, y=value, fill= lab_test))+\n",
    "  theme_bw()+\n",
    "  labs(x= \"Lab Test\", y= \"Value (u/l)\", title= paste(\"Liver Transaminase Levels in 2023, n=\", nrow(alt_ast)), fill= \" \")"
   ]
  },
  {
   "cell_type": "markdown",
   "id": "a0b5d3d8",
   "metadata": {},
   "source": [
    "Let's say we are interested in a specific patient with epilepsy. \n",
    "Below, we plot the AST and ALT lab trends over the year 2023 for patient id # 1f9e58a1-0b6f-7f53-1495-8b05b69ad4ed.\n",
    "\n",
    "You can modify this code for any patient of interest by changing the `patient_of_interest` variable."
   ]
  },
  {
   "cell_type": "code",
   "execution_count": null,
   "id": "95bfbc3f",
   "metadata": {},
   "outputs": [],
   "source": [
    "patient_of_interest <- \"03c3d97e-febe-7038-bcb7-961fc962ecba\"\n",
    "\n",
    "#filtering for the specific patient's AST and ALT levels over time using the 2023 alt/ast dataframe we previously created: \n",
    "\n",
    "patient_group<- alt_ast %>% \n",
    "  filter(grepl(patient_of_interest, PATIENT_NUM))\n",
    "\n",
    "### creating a plot showing the results over time: \n",
    "\n",
    "ggplot(data = patient_group) +\n",
    "  geom_line( aes(x = TIMESTAMP, y = value, color = lab_test)) +\n",
    "  geom_point( aes(x = TIMESTAMP, y = value, color = lab_test)) +\n",
    "  theme_bw() +\n",
    "  theme(\n",
    "    legend.position = \"bottom\",  \n",
    "    axis.text.x = element_text(angle = 45, hjust = 1) \n",
    "  )+\n",
    "    labs(x = \"Date\", y = \"U/L\", title = \" Liver transaminase levels over time for patient '#', since event 'X' at 1.1.2023\", color =\" \")+\n",
    "  guides(color = guide_legend(nrow = 1, title.position = \"top\", title.hjust = 0.5))\n",
    "  \n",
    "\n"
   ]
  },
  {
   "cell_type": "markdown",
   "id": "a447c1b6",
   "metadata": {},
   "source": [
    "## Investigating procedural data over time. Case study: Appendectomy.\n",
    "\n",
    "Finally, let's take a look at the procedures data. \n",
    "\n",
    "The procedures are defined by CPT codes. \n",
    "We will explore the procedures in this data set and look at specific procedures of interest in a given time frame.\n",
    "\n",
    "We can isolate the procedure related information by searching for 'ACT Procedures' in the CONCEPT_PATH column.\n",
    "\n",
    "Below is an example of the procedures documented in this dataset."
   ]
  },
  {
   "cell_type": "code",
   "execution_count": null,
   "id": "8cbb9462",
   "metadata": {},
   "outputs": [],
   "source": [
    "# creating a list with unique procedures in the dataset : \n",
    "\n",
    "procedures <- data %>%\n",
    "  filter(grepl(\"\\\\\\\\ACT Procedures\", CONCEPT_PATH)) %>%\n",
    "  distinct(CONCEPT_PATH, TVAL_CHAR) %>%\n",
    "  rename(procedure=TVAL_CHAR)"
   ]
  },
  {
   "cell_type": "markdown",
   "id": "850b0037",
   "metadata": {},
   "source": [
    "Below, we filter the procedural data to identify a cohort of patients who have undergone an appendectomy since the beginning of 2020.\n"
   ]
  },
  {
   "cell_type": "code",
   "execution_count": null,
   "id": "814f1c88",
   "metadata": {},
   "outputs": [],
   "source": [
    "# filtering to create a new dataframe including patients with a history of an appendectomy procedure\n",
    "\n",
    "appendectomy<- data %>%\n",
    "  filter(grepl(\"Appendectomy\", TVAL_CHAR)) %>%\n",
    "  rename(procedure=TVAL_CHAR) %>%\n",
    "  select(-CONCEPT_PATH, -NVAL_NUM) %>%\n",
    "  distinct()\n",
    "\n",
    "# filtering to only include patients who underwent an appendectomy since the beginning of the year 2020\n",
    "\n",
    "appendectomy_2020<- appendectomy %>%\n",
    "  filter(TIMESTAMP >= as.Date(\"2020-01-01\")) %>%\n",
    "  arrange(PATIENT_NUM)\n",
    "\n",
    "head(appendectomy_2020)"
   ]
  }
 ],
 "metadata": {
  "kernelspec": {
   "display_name": "R",
   "language": "R",
   "name": "ir"
  }
 },
 "nbformat": 4,
 "nbformat_minor": 5
}
