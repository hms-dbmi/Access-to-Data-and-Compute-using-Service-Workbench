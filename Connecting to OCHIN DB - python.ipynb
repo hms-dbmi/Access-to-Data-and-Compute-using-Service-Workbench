{
 "cells": [
  {
   "cell_type": "markdown",
   "id": "693c3fd5",
   "metadata": {},
   "source": [
    "# Connect to the OCHIN DB through python"
   ]
  },
  {
   "cell_type": "markdown",
   "id": "061d0d32",
   "metadata": {},
   "source": [
    "This notebook will walk you through how to connect to the OCHIN DB using python. \n",
    "Before you begin, make sure that you have access to the data and check to make sure the `db-credentials.txt` file is located in your home directory. "
   ]
  },
  {
   "cell_type": "markdown",
   "id": "ac3a3654",
   "metadata": {},
   "source": [
    "## Install ODBC drivers as necessary"
   ]
  },
  {
   "cell_type": "code",
   "execution_count": 1,
   "id": "ba9be3c2",
   "metadata": {},
   "outputs": [
    {
     "name": "stderr",
     "output_type": "stream",
     "text": [
      "  % Total    % Received % Xferd  Average Speed   Time    Time     Time  Current\n",
      "                                 Dload  Upload   Total   Spent    Left  Speed\n",
      "100   413  100   413    0     0   3884      0 --:--:-- --:--:-- --:--:--  3896\n"
     ]
    },
    {
     "name": "stdout",
     "output_type": "stream",
     "text": [
      "Loaded plugins: dkms-build-requires, extras_suggestions, kernel-livepatch,\n",
      "              : langpacks, priorities, update-motd, versionlock\n"
     ]
    },
    {
     "name": "stderr",
     "output_type": "stream",
     "text": [
      "No Match for argument: unixODBC-utf16\n",
      "No Match for argument: unixODBC-utf16-devel\n"
     ]
    },
    {
     "name": "stdout",
     "output_type": "stream",
     "text": [
      "No Packages marked for removal\n",
      "Loaded plugins: dkms-build-requires, extras_suggestions, kernel-livepatch,\n",
      "              : langpacks, priorities, update-motd, versionlock\n"
     ]
    },
    {
     "name": "stderr",
     "output_type": "stream",
     "text": [
      "https://download.docker.com/linux/centos/2/x86_64/stable/repodata/repomd.xml: [Errno 14] HTTPS Error 404 - Not Found\n",
      "Trying other mirror.\n"
     ]
    },
    {
     "name": "stdout",
     "output_type": "stream",
     "text": [
      "Retrieving key from https://packages.microsoft.com/keys/microsoft.asc\n"
     ]
    },
    {
     "name": "stderr",
     "output_type": "stream",
     "text": [
      "Importing GPG key 0xBE1229CF:\n",
      " Userid     : \"Microsoft (Release signing) <gpgsecurity@microsoft.com>\"\n",
      " Fingerprint: bc52 8686 b50d 79e3 39d3 721c eb3e 94ad be12 29cf\n",
      " From       : https://packages.microsoft.com/keys/microsoft.asc\n"
     ]
    },
    {
     "name": "stdout",
     "output_type": "stream",
     "text": [
      "67 packages excluded due to repository priority protections\n",
      "Resolving Dependencies\n",
      "--> Running transaction check\n",
      "---> Package msodbcsql17.x86_64 0:17.10.6.1-1 will be installed\n",
      "--> Processing Dependency: unixODBC >= 2.3.1 for package: msodbcsql17-17.10.6.1-1.x86_64\n",
      "--> Running transaction check\n",
      "---> Package unixODBC.x86_64 0:2.3.1-15.amzn2 will be installed\n",
      "--> Finished Dependency Resolution\n",
      "\n",
      "Dependencies Resolved\n",
      "\n",
      "================================================================================\n",
      " Package       Arch     Version             Repository                     Size\n",
      "================================================================================\n",
      "Installing:\n",
      " msodbcsql17   x86_64   17.10.6.1-1         packages-microsoft-com-prod   911 k\n",
      "Installing for dependencies:\n",
      " unixODBC      x86_64   2.3.1-15.amzn2      amzn2-core                    413 k\n",
      "\n",
      "Transaction Summary\n",
      "================================================================================\n",
      "Install  1 Package (+1 Dependent package)\n",
      "\n",
      "Total download size: 1.3 M\n",
      "Installed size: 3.4 M\n",
      "Downloading packages:\n"
     ]
    },
    {
     "name": "stderr",
     "output_type": "stream",
     "text": [
      "warning: /var/cache/yum/x86_64/2/packages-microsoft-com-prod/packages/msodbcsql17-17.10.6.1-1.x86_64.rpm: Header V4 RSA/SHA256 Signature, key ID be1229cf: NOKEY\n"
     ]
    },
    {
     "name": "stdout",
     "output_type": "stream",
     "text": [
      "Public key for msodbcsql17-17.10.6.1-1.x86_64.rpm is not installed\n",
      "--------------------------------------------------------------------------------\n",
      "Total                                              9.9 MB/s | 1.3 MB  00:00     \n",
      "Retrieving key from https://packages.microsoft.com/keys/microsoft.asc\n"
     ]
    },
    {
     "name": "stderr",
     "output_type": "stream",
     "text": [
      "Importing GPG key 0xBE1229CF:\n",
      " Userid     : \"Microsoft (Release signing) <gpgsecurity@microsoft.com>\"\n",
      " Fingerprint: bc52 8686 b50d 79e3 39d3 721c eb3e 94ad be12 29cf\n",
      " From       : https://packages.microsoft.com/keys/microsoft.asc\n"
     ]
    },
    {
     "name": "stdout",
     "output_type": "stream",
     "text": [
      "Running transaction check\n",
      "Running transaction test\n",
      "Transaction test succeeded\n",
      "Running transaction\n",
      "  Installing : unixODBC-2.3.1-15.amzn2.x86_64                               1/2 \n",
      "  Installing : msodbcsql17-17.10.6.1-1.x86_64                               2/2 \n",
      "odbcinst: Driver installed. Usage count increased to 1. \n",
      "    Target directory is /etc\n",
      "  Verifying  : msodbcsql17-17.10.6.1-1.x86_64                               1/2 \n",
      "  Verifying  : unixODBC-2.3.1-15.amzn2.x86_64                               2/2 \n",
      "\n",
      "Installed:\n",
      "  msodbcsql17.x86_64 0:17.10.6.1-1                                              \n",
      "\n",
      "Dependency Installed:\n",
      "  unixODBC.x86_64 0:2.3.1-15.amzn2                                              \n",
      "\n",
      "Complete!\n",
      "Loaded plugins: dkms-build-requires, extras_suggestions, kernel-livepatch,\n",
      "              : langpacks, priorities, update-motd, versionlock\n"
     ]
    },
    {
     "name": "stderr",
     "output_type": "stream",
     "text": [
      "Existing lock /var/run/yum.pid: another copy is running as pid 19247.\n",
      "Another app is currently holding the yum lock; waiting for it to exit...\n",
      "  The other application is: yum\n",
      "    Memory :  40 M RSS (374 MB VSZ)\n",
      "    Started: Wed Sep 17 16:21:37 2025 - 00:03 ago\n",
      "    State  : Running, pid: 19247\n",
      "https://download.docker.com/linux/centos/2/x86_64/stable/repodata/repomd.xml: [Errno 14] HTTPS Error 404 - Not Found\n",
      "Trying other mirror.\n"
     ]
    },
    {
     "name": "stdout",
     "output_type": "stream",
     "text": [
      "67 packages excluded due to repository priority protections\n",
      "Resolving Dependencies\n",
      "--> Running transaction check\n",
      "---> Package mssql-tools.x86_64 0:17.10.1.1-1 will be installed\n",
      "--> Finished Dependency Resolution\n",
      "\n",
      "Dependencies Resolved\n",
      "\n",
      "================================================================================\n",
      " Package        Arch      Version          Repository                      Size\n",
      "================================================================================\n",
      "Installing:\n",
      " mssql-tools    x86_64    17.10.1.1-1      packages-microsoft-com-prod    291 k\n",
      "\n",
      "Transaction Summary\n",
      "================================================================================\n",
      "Install  1 Package\n",
      "\n",
      "Total download size: 291 k\n",
      "Installed size: 714 k\n",
      "Downloading packages:\n",
      "Running transaction check\n",
      "Running transaction test\n",
      "Transaction test succeeded\n",
      "Running transaction\n",
      "  Installing : mssql-tools-17.10.1.1-1.x86_64                               1/1 \n",
      "  Verifying  : mssql-tools-17.10.1.1-1.x86_64                               1/1 \n",
      "\n",
      "Installed:\n",
      "  mssql-tools.x86_64 0:17.10.1.1-1                                              \n",
      "\n",
      "Complete!\n",
      "Loaded plugins: dkms-build-requires, extras_suggestions, kernel-livepatch,\n",
      "              : langpacks, priorities, update-motd, versionlock\n"
     ]
    },
    {
     "name": "stderr",
     "output_type": "stream",
     "text": [
      "Existing lock /var/run/yum.pid: another copy is running as pid 19498.\n",
      "Another app is currently holding the yum lock; waiting for it to exit...\n",
      "  The other application is: yum\n",
      "    Memory :  51 M RSS (271 MB VSZ)\n",
      "    Started: Wed Sep 17 16:21:47 2025 - 00:01 ago\n",
      "    State  : Running, pid: 19498\n",
      "Existing lock /var/run/yum.pid: another copy is running as pid 19319.\n",
      "Another app is currently holding the yum lock; waiting for it to exit...\n",
      "  The other application is: yum\n",
      "    Memory :  36 M RSS (506 MB VSZ)\n",
      "    Started: Wed Sep 17 16:21:39 2025 - 00:11 ago\n",
      "    State  : Sleeping, pid: 19319\n",
      "Another app is currently holding the yum lock; waiting for it to exit...\n",
      "  The other application is: yum\n",
      "    Memory :  44 M RSS (514 MB VSZ)\n",
      "    Started: Wed Sep 17 16:21:39 2025 - 00:13 ago\n",
      "    State  : Sleeping, pid: 19319\n",
      "Another app is currently holding the yum lock; waiting for it to exit...\n",
      "  The other application is: yum\n",
      "    Memory : 180 M RSS (649 MB VSZ)\n",
      "    Started: Wed Sep 17 16:21:39 2025 - 00:15 ago\n",
      "    State  : Running, pid: 19319\n",
      "Existing lock /var/run/yum.pid: another copy is running as pid 19631.\n",
      "Another app is currently holding the yum lock; waiting for it to exit...\n",
      "  The other application is: yum\n",
      "    Memory : 118 M RSS (587 MB VSZ)\n",
      "    Started: Wed Sep 17 16:21:54 2025 - 00:02 ago\n",
      "    State  : Running, pid: 19631\n",
      "https://download.docker.com/linux/centos/2/x86_64/stable/repodata/repomd.xml: [Errno 14] HTTPS Error 404 - Not Found\n",
      "Trying other mirror.\n"
     ]
    },
    {
     "name": "stdout",
     "output_type": "stream",
     "text": [
      "67 packages excluded due to repository priority protections\n",
      "Resolving Dependencies\n",
      "--> Running transaction check\n",
      "---> Package unixODBC-devel.x86_64 0:2.3.1-15.amzn2 will be installed\n",
      "--> Finished Dependency Resolution\n",
      "\n",
      "Dependencies Resolved\n",
      "\n",
      "================================================================================\n",
      " Package              Arch         Version               Repository        Size\n",
      "================================================================================\n",
      "Installing:\n",
      " unixODBC-devel       x86_64       2.3.1-15.amzn2        amzn2-core        55 k\n",
      "\n",
      "Transaction Summary\n",
      "================================================================================\n",
      "Install  1 Package\n",
      "\n",
      "Total download size: 55 k\n",
      "Installed size: 186 k\n",
      "Downloading packages:\n",
      "Running transaction check\n",
      "Running transaction test\n",
      "Transaction test succeeded\n",
      "Running transaction\n",
      "  Installing : unixODBC-devel-2.3.1-15.amzn2.x86_64                         1/1 \n",
      "  Verifying  : unixODBC-devel-2.3.1-15.amzn2.x86_64                         1/1 \n",
      "\n",
      "Installed:\n",
      "  unixODBC-devel.x86_64 0:2.3.1-15.amzn2                                        \n",
      "\n",
      "Complete!\n"
     ]
    }
   ],
   "source": [
    "%%sh\n",
    "\n",
    "sudo su \n",
    "\n",
    "#Download appropriate package for the OS version\n",
    "#Choose only ONE of the following, corresponding to your OS version\n",
    "\n",
    "#RHEL 7 and Oracle Linux 7\n",
    "curl https://packages.microsoft.com/config/rhel/7/prod.repo > /etc/yum.repos.d/mssql-release.repo\n",
    "\n",
    "#RHEL 8 and Oracle Linux 8\n",
    "#curl https://packages.microsoft.com/config/rhel/8/prod.repo > /etc/yum.repos.d/mssql-release.repo\n",
    "\n",
    "#RHEL 9\n",
    "#curl https://packages.microsoft.com/config/rhel/9.0/prod.repo > /etc/yum.repos.d/mssql-release.repo\n",
    "\n",
    "exit\n",
    "\n",
    "sudo yum remove unixODBC-utf16 unixODBC-utf16-devel #to avoid conflicts\n",
    "sudo ACCEPT_EULA=Y yum install -y msodbcsql17\n",
    "# optional: for bcp and sqlcmd\n",
    "sudo ACCEPT_EULA=Y yum install -y mssql-tools\n",
    "echo 'export PATH=\"$PATH:/opt/mssql-tools/bin\"' >> ~/.bashrc\n",
    "source ~/.bashrc\n",
    "# optional: for unixODBC development headers\n",
    "sudo yum install -y unixODBC-devel"
   ]
  },
  {
   "cell_type": "markdown",
   "id": "adf3958b",
   "metadata": {},
   "source": [
    "## Import python packages"
   ]
  },
  {
   "cell_type": "code",
   "execution_count": 2,
   "id": "4fc7c8f5",
   "metadata": {},
   "outputs": [
    {
     "name": "stdout",
     "output_type": "stream",
     "text": [
      "List of ODBC drivers:\n",
      "\t PostgreSQL\n",
      "\t MySQL\n",
      "\t ODBC Driver 17 for SQL Server\n",
      "End of list\n"
     ]
    }
   ],
   "source": [
    "import pyodbc\n",
    "print(\"List of ODBC drivers:\")\n",
    "dlist = pyodbc.drivers()\n",
    "for drvr in dlist:\n",
    "    print('\\t', drvr)\n",
    "\n",
    "print(\"End of list\")"
   ]
  },
  {
   "cell_type": "code",
   "execution_count": 3,
   "id": "7e2e9226",
   "metadata": {},
   "outputs": [
    {
     "name": "stdout",
     "output_type": "stream",
     "text": [
      "Collecting pandasql\n",
      "  Downloading pandasql-0.7.3.tar.gz (26 kB)\n",
      "  Preparing metadata (setup.py) ... \u001b[?25ldone\n",
      "\u001b[?25hRequirement already satisfied: numpy in /home/ec2-user/anaconda3/envs/python3/lib/python3.10/site-packages (from pandasql) (1.26.4)\n",
      "Requirement already satisfied: pandas in /home/ec2-user/anaconda3/envs/python3/lib/python3.10/site-packages (from pandasql) (2.3.2)\n",
      "Requirement already satisfied: sqlalchemy in /home/ec2-user/anaconda3/envs/python3/lib/python3.10/site-packages (from pandasql) (2.0.43)\n",
      "Requirement already satisfied: python-dateutil>=2.8.2 in /home/ec2-user/anaconda3/envs/python3/lib/python3.10/site-packages (from pandas->pandasql) (2.9.0.post0)\n",
      "Requirement already satisfied: pytz>=2020.1 in /home/ec2-user/anaconda3/envs/python3/lib/python3.10/site-packages (from pandas->pandasql) (2025.2)\n",
      "Requirement already satisfied: tzdata>=2022.7 in /home/ec2-user/anaconda3/envs/python3/lib/python3.10/site-packages (from pandas->pandasql) (2025.2)\n",
      "Requirement already satisfied: six>=1.5 in /home/ec2-user/anaconda3/envs/python3/lib/python3.10/site-packages (from python-dateutil>=2.8.2->pandas->pandasql) (1.17.0)\n",
      "Requirement already satisfied: greenlet>=1 in /home/ec2-user/anaconda3/envs/python3/lib/python3.10/site-packages (from sqlalchemy->pandasql) (3.2.4)\n",
      "Requirement already satisfied: typing-extensions>=4.6.0 in /home/ec2-user/anaconda3/envs/python3/lib/python3.10/site-packages (from sqlalchemy->pandasql) (4.15.0)\n",
      "Building wheels for collected packages: pandasql\n",
      "\u001b[33m  DEPRECATION: Building 'pandasql' using the legacy setup.py bdist_wheel mechanism, which will be removed in a future version. pip 25.3 will enforce this behaviour change. A possible replacement is to use the standardized build interface by setting the `--use-pep517` option, (possibly combined with `--no-build-isolation`), or adding a `pyproject.toml` file to the source tree of 'pandasql'. Discussion can be found at https://github.com/pypa/pip/issues/6334\u001b[0m\u001b[33m\n",
      "\u001b[0m  Building wheel for pandasql (setup.py) ... \u001b[?25ldone\n",
      "\u001b[?25h  Created wheel for pandasql: filename=pandasql-0.7.3-py3-none-any.whl size=26867 sha256=f371f38f4d087187478704c2af3d6ddfc640836abcc16ddd310ccff3148f2cb6\n",
      "  Stored in directory: /home/ec2-user/.cache/pip/wheels/e9/bc/3a/8434bdcccf5779e72894a9b24fecbdcaf97940607eaf4bcdf9\n",
      "Successfully built pandasql\n",
      "Installing collected packages: pandasql\n",
      "Successfully installed pandasql-0.7.3\n"
     ]
    }
   ],
   "source": [
    "import sys\n",
    "!{sys.executable} -m pip install pandasql\n",
    "import pandas as pd\n",
    "from pandasql import sqldf\n",
    "import pyodbc\n",
    "import os"
   ]
  },
  {
   "cell_type": "markdown",
   "id": "366e398f",
   "metadata": {},
   "source": [
    "## Read and parse your db credentials\n"
   ]
  },
  {
   "cell_type": "code",
   "execution_count": 4,
   "id": "88e15dbc",
   "metadata": {},
   "outputs": [],
   "source": [
    "import re\n",
    "\n",
    "file_path = '/home/ec2-user/SageMaker/db-credentials.txt'\n",
    "\n",
    "with open(file_path, 'r') as file:\n",
    "    # Code to parse the data will go here\n",
    "    file_contents = file.read()\n",
    "\n",
    "# Remove newlines and extra spaces\n",
    "cleaned_string = file_contents.replace('\\n', '').strip()\n",
    "\n",
    "# Extract variable-value pairs using regular expressions\n",
    "pattern = r'\"([^\"]+)\": \"([^\"]+)\"'\n",
    "pairs = re.findall(pattern, cleaned_string)\n",
    "\n",
    "parsed_data = {}\n",
    "\n",
    "for variable, data in pairs:\n",
    "    parsed_data[variable] = data\n"
   ]
  },
  {
   "cell_type": "markdown",
   "id": "5bd605c0",
   "metadata": {},
   "source": [
    "## Connect to the database\n",
    "Remember that you may have access to multiple databases. \n"
   ]
  },
  {
   "cell_type": "markdown",
   "id": "debad411",
   "metadata": {},
   "source": [
    "### Connecting to the \"raw\" data\n",
    "The raw database contains the patient data. You have read-only access to this database.\n",
    "\n",
    "- For AIM AHEAD Year 1 programs, the Raw database is named FellowsSample.\n",
    "- For AIM AHEAD Year 2 programs, the Raw database is named AAOCHIN2023.\n",
    "- For AIM AHEAD Year 3 programs, the Raw database is named AAOCHIN2024.\n",
    "\n",
    "Within the Raw database, you must open the **View** specific to your project. Your OCHIN Project ID is provided to you when you receive confirmation of your OCHIN DB Login Activation. \n",
    "\n",
    "Once you have opened your View, you will see the Tables which contain the subset of data specific to your project. \n",
    "\n",
    "- Tables containing patient-level data specific to your project will be prefixed with your OCHIN Project ID.\n",
    "- Tables that contain metadata shared amongst all projects are prefixed with \"common\"."
   ]
  },
  {
   "cell_type": "code",
   "execution_count": 5,
   "id": "d5a723cb",
   "metadata": {},
   "outputs": [],
   "source": [
    "### This example shows how to view tables in the AAOCHIN2024 database. \n",
    "raw_db = 'AAOCHIN2024' \n",
    "raw_connection_string = \"DRIVER={ODBC Driver 17 for SQL Server};\" + \\\n",
    "                    \"SERVER=\" + parsed_data['host'] + ',' + parsed_data['port'] + ';' + \\\n",
    "                    \"DATABASE=\" + raw_db + ';' + \\\n",
    "                    \"UID=\" + parsed_data['username'] + ';' + \\\n",
    "                    \"PWD={\" + parsed_data['password'] + \"};\"\n",
    "raw_conn = pyodbc.connect(raw_connection_string, trusted_connection = 'no')\n",
    "raw_cursor = raw_conn.cursor()"
   ]
  },
  {
   "cell_type": "code",
   "execution_count": 6,
   "id": "b18aecf6",
   "metadata": {},
   "outputs": [
    {
     "name": "stdout",
     "output_type": "stream",
     "text": [
      "OBSERVATION_FACT\n",
      "PATIENT_DIMENSION\n",
      "PROVIDER_DIMENSION\n",
      "VISIT_DIMENSION\n",
      "ZCTA_CVS\n",
      "SIDECAR_FACILITIES\n",
      "CONCEPT_DIMENSION\n",
      "I2B2\n"
     ]
    }
   ],
   "source": [
    "### We can print all tables available in the database views we have access to like so: \n",
    "raw_cursor.execute('''\n",
    "SELECT name AS TABLE_NAME\n",
    "FROM sys.views\n",
    "''')\n",
    "for row in raw_cursor:\n",
    "    print(row[0])"
   ]
  },
  {
   "cell_type": "code",
   "execution_count": 7,
   "id": "23b5b04e",
   "metadata": {},
   "outputs": [
    {
     "data": {
      "text/html": [
       "<div>\n",
       "<style scoped>\n",
       "    .dataframe tbody tr th:only-of-type {\n",
       "        vertical-align: middle;\n",
       "    }\n",
       "\n",
       "    .dataframe tbody tr th {\n",
       "        vertical-align: top;\n",
       "    }\n",
       "\n",
       "    .dataframe thead th {\n",
       "        text-align: right;\n",
       "    }\n",
       "</style>\n",
       "<table border=\"1\" class=\"dataframe\">\n",
       "  <thead>\n",
       "    <tr style=\"text-align: right;\">\n",
       "      <th></th>\n",
       "      <th>CONCEPT_PATH</th>\n",
       "      <th>CONCEPT_CD</th>\n",
       "      <th>NAME_CHAR</th>\n",
       "    </tr>\n",
       "  </thead>\n",
       "  <tbody>\n",
       "    <tr>\n",
       "      <th>0</th>\n",
       "      <td>\\i2b2\\Demographics\\Age\\0-9 years old\\0 years o...</td>\n",
       "      <td>DEM|AGE:0.1</td>\n",
       "      <td>01 months</td>\n",
       "    </tr>\n",
       "    <tr>\n",
       "      <th>1</th>\n",
       "      <td>\\i2b2\\Demographics\\Age\\0-9 years old\\0 years o...</td>\n",
       "      <td>DEM|AGE:0.2</td>\n",
       "      <td>02 months</td>\n",
       "    </tr>\n",
       "    <tr>\n",
       "      <th>2</th>\n",
       "      <td>\\i2b2\\Demographics\\Age\\0-9 years old\\0 years o...</td>\n",
       "      <td>DEM|AGE:0.3</td>\n",
       "      <td>03 months</td>\n",
       "    </tr>\n",
       "    <tr>\n",
       "      <th>3</th>\n",
       "      <td>\\i2b2\\Demographics\\Age\\0-9 years old\\0 years o...</td>\n",
       "      <td>DEM|AGE:0.4</td>\n",
       "      <td>04 months</td>\n",
       "    </tr>\n",
       "    <tr>\n",
       "      <th>4</th>\n",
       "      <td>\\i2b2\\Demographics\\Age\\0-9 years old\\0 years o...</td>\n",
       "      <td>DEM|AGE:0.5</td>\n",
       "      <td>05 months</td>\n",
       "    </tr>\n",
       "    <tr>\n",
       "      <th>5</th>\n",
       "      <td>\\i2b2\\Demographics\\Age\\0-9 years old\\0 years o...</td>\n",
       "      <td>DEM|AGE:0.6</td>\n",
       "      <td>06 months</td>\n",
       "    </tr>\n",
       "    <tr>\n",
       "      <th>6</th>\n",
       "      <td>\\i2b2\\Demographics\\Age\\0-9 years old\\0 years o...</td>\n",
       "      <td>DEM|AGE:0.7</td>\n",
       "      <td>07 months</td>\n",
       "    </tr>\n",
       "    <tr>\n",
       "      <th>7</th>\n",
       "      <td>\\i2b2\\Demographics\\Age\\0-9 years old\\0 years o...</td>\n",
       "      <td>DEM|AGE:0.8</td>\n",
       "      <td>08 months</td>\n",
       "    </tr>\n",
       "    <tr>\n",
       "      <th>8</th>\n",
       "      <td>\\i2b2\\Demographics\\Age\\0-9 years old\\0 years o...</td>\n",
       "      <td>DEM|AGE:0.9</td>\n",
       "      <td>09 months</td>\n",
       "    </tr>\n",
       "    <tr>\n",
       "      <th>9</th>\n",
       "      <td>\\i2b2\\Demographics\\Age\\0-9 years old\\0 years o...</td>\n",
       "      <td>DEM|AGE:0.10</td>\n",
       "      <td>10 months</td>\n",
       "    </tr>\n",
       "  </tbody>\n",
       "</table>\n",
       "</div>"
      ],
      "text/plain": [
       "                                        CONCEPT_PATH    CONCEPT_CD  NAME_CHAR\n",
       "0  \\i2b2\\Demographics\\Age\\0-9 years old\\0 years o...   DEM|AGE:0.1  01 months\n",
       "1  \\i2b2\\Demographics\\Age\\0-9 years old\\0 years o...   DEM|AGE:0.2  02 months\n",
       "2  \\i2b2\\Demographics\\Age\\0-9 years old\\0 years o...   DEM|AGE:0.3  03 months\n",
       "3  \\i2b2\\Demographics\\Age\\0-9 years old\\0 years o...   DEM|AGE:0.4  04 months\n",
       "4  \\i2b2\\Demographics\\Age\\0-9 years old\\0 years o...   DEM|AGE:0.5  05 months\n",
       "5  \\i2b2\\Demographics\\Age\\0-9 years old\\0 years o...   DEM|AGE:0.6  06 months\n",
       "6  \\i2b2\\Demographics\\Age\\0-9 years old\\0 years o...   DEM|AGE:0.7  07 months\n",
       "7  \\i2b2\\Demographics\\Age\\0-9 years old\\0 years o...   DEM|AGE:0.8  08 months\n",
       "8  \\i2b2\\Demographics\\Age\\0-9 years old\\0 years o...   DEM|AGE:0.9  09 months\n",
       "9  \\i2b2\\Demographics\\Age\\0-9 years old\\0 years o...  DEM|AGE:0.10  10 months"
      ]
     },
     "execution_count": 7,
     "metadata": {},
     "output_type": "execute_result"
    }
   ],
   "source": [
    "### We can view the top 10 entries in the CONCEPT_DIMENSION table like so:\n",
    "### Note that the CONCEPT_DIMENSION table contains metadata shared amongst all projects, \n",
    "### and therefore must be prefixed with \"common\"\n",
    "raw_cursor.execute('''\n",
    "SELECT TOP 10 *\n",
    "FROM common.CONCEPT_DIMENSION;\n",
    "\n",
    "''')\n",
    "\n",
    "results = raw_cursor.fetchall()\n",
    "\n",
    "# Get the column names from the cursor description\n",
    "columns = [column[0] for column in raw_cursor.description]\n",
    "\n",
    "# Create a DataFrame from the fetched results and column names\n",
    "results_df = pd.DataFrame.from_records(results, columns=columns)\n",
    "results_df['NAME_CHAR'] = results_df['NAME_CHAR'].astype('category')\n",
    "results_df"
   ]
  },
  {
   "cell_type": "markdown",
   "id": "53538f9f",
   "metadata": {},
   "source": [
    "We can then save this data to our SageMaker workspace for use later\n",
    "Data saved as CSV files in this way can be retrieved at a later date, so you would not have to re-write SQL code"
   ]
  },
  {
   "cell_type": "code",
   "execution_count": null,
   "id": "84c12bec",
   "metadata": {},
   "outputs": [],
   "source": [
    "# Creates a folder named \"data_files\" that you can use to organize your files\n",
    "os.mkdir(\"data_files\")\n",
    "\n",
    "# Save the results from our SQL query to the data_files folder\n",
    "results_df.to_csv(\"data_files/results.csv\")\n"
   ]
  },
  {
   "cell_type": "markdown",
   "id": "30ee40a4",
   "metadata": {},
   "source": [
    "In order to retrieve previous data, we can read in the CSV file we saved to use as a dataframe for further analysis"
   ]
  },
  {
   "cell_type": "code",
   "execution_count": null,
   "id": "c069459c",
   "metadata": {},
   "outputs": [],
   "source": [
    "previous_results = pd.read_csv(\"data_files/results.csv\")\n",
    "previous_results"
   ]
  },
  {
   "cell_type": "markdown",
   "id": "4d7f23c1",
   "metadata": {},
   "source": [
    "### Connecting to your project database\n",
    "Your project database is unique to your project and named after your OCHIN Project ID. You have read-write access to this database.\n",
    "\n",
    "Your project database is initially empty. All temporary tables or aggregate results for your project should be saved here. You can store up to 50GB in your project database. This is not a lot! The full Raw database has over 1TB of data. If you copy data directly from the Raw database to your project database, you will quickly run out of space.\n",
    "\n"
   ]
  },
  {
   "cell_type": "code",
   "execution_count": 52,
   "id": "58f7d6c1",
   "metadata": {},
   "outputs": [],
   "source": [
    "### This example shows how to view tables in your project specific database. \n",
    "proj_db = 'S000' # Change this to your project ID\n",
    "proj_connection_string = \"DRIVER={ODBC Driver 17 for SQL Server};\" + \\\n",
    "                    \"SERVER=\" + parsed_data['host'] + ',' + parsed_data['port'] + ';' + \\\n",
    "                    \"DATABASE=\" + raw_db + ';' + \\\n",
    "                    \"UID=\" + parsed_data['username'] + ';' + \\\n",
    "                    \"PWD={\" + parsed_data['password'] + \"};\"\n",
    "proj_conn = pyodbc.connect(proj_connection_string, trusted_connection = 'no')\n",
    "proj_cursor = proj_conn.cursor()"
   ]
  },
  {
   "cell_type": "code",
   "execution_count": 53,
   "id": "f5c9c8ed-6147-409c-8e34-5b820a2e665a",
   "metadata": {},
   "outputs": [
    {
     "name": "stdout",
     "output_type": "stream",
     "text": [
      "test\n",
      "windows_test\n",
      "test_DMP\n",
      "test_kh2\n",
      "test_kh4\n",
      "testaug6\n",
      "test_j\n",
      "test_j3\n"
     ]
    }
   ],
   "source": [
    "### We can print all tables in the project database like so:\n",
    "### Note that this database will be empty unless you have saved tables here. \n",
    "proj_cursor.execute('''\n",
    "SELECT name AS TABLE_NAME\n",
    "FROM S000.sys.tables\n",
    "''')\n",
    "for row in proj_cursor:\n",
    "    print(row[0])"
   ]
  },
  {
   "cell_type": "code",
   "execution_count": 54,
   "id": "b8893061-0dde-486b-a856-baf5d80863b6",
   "metadata": {},
   "outputs": [
    {
     "data": {
      "text/html": [
       "<div>\n",
       "<style scoped>\n",
       "    .dataframe tbody tr th:only-of-type {\n",
       "        vertical-align: middle;\n",
       "    }\n",
       "\n",
       "    .dataframe tbody tr th {\n",
       "        vertical-align: top;\n",
       "    }\n",
       "\n",
       "    .dataframe thead th {\n",
       "        text-align: right;\n",
       "    }\n",
       "</style>\n",
       "<table border=\"1\" class=\"dataframe\">\n",
       "  <thead>\n",
       "    <tr style=\"text-align: right;\">\n",
       "      <th></th>\n",
       "      <th>CONCEPT_PATH</th>\n",
       "      <th>CONCEPT_CD</th>\n",
       "      <th>NAME_CHAR</th>\n",
       "    </tr>\n",
       "  </thead>\n",
       "  <tbody>\n",
       "    <tr>\n",
       "      <th>0</th>\n",
       "      <td>\\i2b2\\Demographics\\Age\\0-9 years old\\0 years o...</td>\n",
       "      <td>DEM|AGE:0.1</td>\n",
       "      <td>01 months</td>\n",
       "    </tr>\n",
       "    <tr>\n",
       "      <th>1</th>\n",
       "      <td>\\i2b2\\Demographics\\Age\\0-9 years old\\0 years o...</td>\n",
       "      <td>DEM|AGE:0.2</td>\n",
       "      <td>02 months</td>\n",
       "    </tr>\n",
       "    <tr>\n",
       "      <th>2</th>\n",
       "      <td>\\i2b2\\Demographics\\Age\\0-9 years old\\0 years o...</td>\n",
       "      <td>DEM|AGE:0.3</td>\n",
       "      <td>03 months</td>\n",
       "    </tr>\n",
       "    <tr>\n",
       "      <th>3</th>\n",
       "      <td>\\i2b2\\Demographics\\Age\\0-9 years old\\0 years o...</td>\n",
       "      <td>DEM|AGE:0.4</td>\n",
       "      <td>04 months</td>\n",
       "    </tr>\n",
       "    <tr>\n",
       "      <th>4</th>\n",
       "      <td>\\i2b2\\Demographics\\Age\\0-9 years old\\0 years o...</td>\n",
       "      <td>DEM|AGE:0.5</td>\n",
       "      <td>05 months</td>\n",
       "    </tr>\n",
       "    <tr>\n",
       "      <th>5</th>\n",
       "      <td>\\i2b2\\Demographics\\Age\\0-9 years old\\0 years o...</td>\n",
       "      <td>DEM|AGE:0.6</td>\n",
       "      <td>06 months</td>\n",
       "    </tr>\n",
       "    <tr>\n",
       "      <th>6</th>\n",
       "      <td>\\i2b2\\Demographics\\Age\\0-9 years old\\0 years o...</td>\n",
       "      <td>DEM|AGE:0.7</td>\n",
       "      <td>07 months</td>\n",
       "    </tr>\n",
       "    <tr>\n",
       "      <th>7</th>\n",
       "      <td>\\i2b2\\Demographics\\Age\\0-9 years old\\0 years o...</td>\n",
       "      <td>DEM|AGE:0.8</td>\n",
       "      <td>08 months</td>\n",
       "    </tr>\n",
       "    <tr>\n",
       "      <th>8</th>\n",
       "      <td>\\i2b2\\Demographics\\Age\\0-9 years old\\0 years o...</td>\n",
       "      <td>DEM|AGE:0.9</td>\n",
       "      <td>09 months</td>\n",
       "    </tr>\n",
       "    <tr>\n",
       "      <th>9</th>\n",
       "      <td>\\i2b2\\Demographics\\Age\\0-9 years old\\0 years o...</td>\n",
       "      <td>DEM|AGE:0.10</td>\n",
       "      <td>10 months</td>\n",
       "    </tr>\n",
       "  </tbody>\n",
       "</table>\n",
       "</div>"
      ],
      "text/plain": [
       "                                        CONCEPT_PATH    CONCEPT_CD  NAME_CHAR\n",
       "0  \\i2b2\\Demographics\\Age\\0-9 years old\\0 years o...   DEM|AGE:0.1  01 months\n",
       "1  \\i2b2\\Demographics\\Age\\0-9 years old\\0 years o...   DEM|AGE:0.2  02 months\n",
       "2  \\i2b2\\Demographics\\Age\\0-9 years old\\0 years o...   DEM|AGE:0.3  03 months\n",
       "3  \\i2b2\\Demographics\\Age\\0-9 years old\\0 years o...   DEM|AGE:0.4  04 months\n",
       "4  \\i2b2\\Demographics\\Age\\0-9 years old\\0 years o...   DEM|AGE:0.5  05 months\n",
       "5  \\i2b2\\Demographics\\Age\\0-9 years old\\0 years o...   DEM|AGE:0.6  06 months\n",
       "6  \\i2b2\\Demographics\\Age\\0-9 years old\\0 years o...   DEM|AGE:0.7  07 months\n",
       "7  \\i2b2\\Demographics\\Age\\0-9 years old\\0 years o...   DEM|AGE:0.8  08 months\n",
       "8  \\i2b2\\Demographics\\Age\\0-9 years old\\0 years o...   DEM|AGE:0.9  09 months\n",
       "9  \\i2b2\\Demographics\\Age\\0-9 years old\\0 years o...  DEM|AGE:0.10  10 months"
      ]
     },
     "execution_count": 54,
     "metadata": {},
     "output_type": "execute_result"
    }
   ],
   "source": [
    "### We can view the top 10 entries in the dbo.test table like so:\n",
    "### Note that the dbo.test table was created by using the example SQL query provided in the SWB User Guide \n",
    "### Replace the S000 with your personal database number,\n",
    "### and replace \".test\" with a table name listed above to access another table\n",
    "proj_cursor.execute('''\n",
    "SELECT TOP 10 *\n",
    "FROM S000.dbo.test;\n",
    "\n",
    "''')\n",
    "\n",
    "results = proj_cursor.fetchall()\n",
    "\n",
    "# Get the column names from the cursor description\n",
    "columns = [column[0] for column in proj_cursor.description]\n",
    "\n",
    "# Create a DataFrame from the fetched results and column names\n",
    "results_df = pd.DataFrame.from_records(results, columns=columns)\n",
    "results_df['NAME_CHAR'] = results_df['NAME_CHAR'].astype('category')\n",
    "results_df"
   ]
  },
  {
   "cell_type": "code",
   "execution_count": null,
   "id": "73c3efe7-5505-4a1c-b400-3c87a040e7cf",
   "metadata": {},
   "outputs": [],
   "source": []
  }
 ],
 "metadata": {
  "kernelspec": {
   "display_name": "conda_python3",
   "language": "python",
   "name": "conda_python3"
  },
  "language_info": {
   "codemirror_mode": {
    "name": "ipython",
    "version": 3
   },
   "file_extension": ".py",
   "mimetype": "text/x-python",
   "name": "python",
   "nbconvert_exporter": "python",
   "pygments_lexer": "ipython3",
   "version": "3.10.18"
  }
 },
 "nbformat": 4,
 "nbformat_minor": 5
}
