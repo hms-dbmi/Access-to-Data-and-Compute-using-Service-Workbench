{
 "cells": [
  {
   "cell_type": "markdown",
   "id": "693c3fd5",
   "metadata": {},
   "source": [
    "# Connect to the OCHIN DB through R"
   ]
  },
  {
   "cell_type": "markdown",
   "id": "061d0d32",
   "metadata": {},
   "source": [
    "This notebook will walk you through how to connect to the OCHIN DB using R. \n",
    "Before you begin, make sure that you have access to the data and check to make sure the `db-credentials.txt` file is located in your home directory. "
   ]
  },
  {
   "cell_type": "markdown",
   "id": "fb117fee",
   "metadata": {},
   "source": [
    "## Install ODBC drivers as necessary"
   ]
  },
  {
   "cell_type": "code",
   "execution_count": null,
   "id": "1ff40ccd",
   "metadata": {},
   "outputs": [],
   "source": [
    "system(\"sudo su -c 'curl https://packages.microsoft.com/config/rhel/7/prod.repo > /etc/yum.repos.d/mssql-release.repo && exit'\")\n",
    "system(\"sudo yum remove unixODBC-utf16 unixODBC-utf16-devel\")\n",
    "system(\"sudo ACCEPT_EULA=Y yum install -y msodbcsql17\")\n",
    "system(\"sudo ACCEPT_EULA=Y yum install -y mssql-tools\")\n",
    "system(\"echo 'export PATH='$PATH:/opt/mssql-tools/bin'' >> ~/.bashrc\")\n",
    "system(\"source ~/.bashrc\")\n",
    "system(\"sudo yum install -y unixODBC-devel\")"
   ]
  },
  {
   "cell_type": "markdown",
   "id": "34e8a7f1",
   "metadata": {},
   "source": [
    "## Install and load R packages"
   ]
  },
  {
   "cell_type": "code",
   "execution_count": null,
   "id": "913371e1",
   "metadata": {},
   "outputs": [],
   "source": [
    "install.packages(\"odbc\")\n",
    "library(odbc)\n",
    "install.packages(\"DBI\")\n",
    "install.packages(\"rstudioapi\")"
   ]
  },
  {
   "cell_type": "markdown",
   "id": "d0487e29",
   "metadata": {},
   "source": [
    "## Read and parse your DB credentials"
   ]
  },
  {
   "cell_type": "code",
   "execution_count": null,
   "id": "9ed64e3e",
   "metadata": {},
   "outputs": [],
   "source": [
    "file_path <- '/home/ec2-user/SageMaker/db-credentials.txt'\n",
    "\n",
    "db_creds_df <- read.table(file_path)\n",
    "db_creds <- db_creds_df$V3\n",
    "names(db_creds) <- db_creds_df$V1\n",
    "\n",
    "db_creds <- trimws(db_creds)\n",
    "#db_creds"
   ]
  },
  {
   "cell_type": "markdown",
   "id": "bb12b178",
   "metadata": {},
   "source": [
    "**Change the code below to reflect the DB view that you have access to**"
   ]
  },
  {
   "cell_type": "code",
   "execution_count": null,
   "id": "40b34cfd",
   "metadata": {},
   "outputs": [],
   "source": [
    "db <- 'S43' ### ENTER YOUR DB VIEW HERE, for example 'S43'"
   ]
  },
  {
   "cell_type": "markdown",
   "id": "c5a2de97",
   "metadata": {},
   "source": [
    "## Connect to the database"
   ]
  },
  {
   "cell_type": "code",
   "execution_count": null,
   "id": "3c461d4f",
   "metadata": {},
   "outputs": [],
   "source": [
    "connection_string = paste0(\"DRIVER={ODBC Driver 17 for SQL Server};\",\n",
    "                          \"SERVER=\", db_creds['host'], ',', db_creds['port'], ';',\n",
    "                          \"DATABASE=\", db, ';',\n",
    "                          \"UID=\", db_creds['username'], ';',\n",
    "                          \"PWD={\", db_creds['password'], \"};\")\n",
    "\n",
    "#connection_string"
   ]
  },
  {
   "cell_type": "code",
   "execution_count": null,
   "id": "5898a8a3",
   "metadata": {
    "scrolled": true
   },
   "outputs": [],
   "source": [
    "db_conn <- DBI::dbConnect(odbc::odbc(), .connection_string = connection_string)"
   ]
  },
  {
   "cell_type": "markdown",
   "id": "9afcc138",
   "metadata": {},
   "source": [
    "## Example queries\n",
    "**Print all tables available in your database view**"
   ]
  },
  {
   "cell_type": "code",
   "execution_count": null,
   "id": "fd163788",
   "metadata": {},
   "outputs": [],
   "source": [
    "df <- dbGetQuery(db_conn, \"SELECT name AS TABLE_NAME FROM sys.tables;\")\n",
    "df"
   ]
  },
  {
   "cell_type": "markdown",
   "id": "b00ad9ee",
   "metadata": {},
   "source": [
    "**Select the top 10 entries in the CONCEPT_DIMENSION table**"
   ]
  },
  {
   "cell_type": "code",
   "execution_count": null,
   "id": "0efdb3e8",
   "metadata": {},
   "outputs": [],
   "source": [
    "df2 <- dbGetQuery(db_conn, \"SELECT TOP 10 * FROM CONCEPT_DIMENSION;\")\n",
    "df2"
   ]
  }
 ],
 "metadata": {
  "kernelspec": {
   "display_name": "R",
   "language": "R",
   "name": "ir"
  },
  "language_info": {
   "codemirror_mode": "r",
   "file_extension": ".r",
   "mimetype": "text/x-r-source",
   "name": "R",
   "pygments_lexer": "r",
   "version": "4.3.2"
  }
 },
 "nbformat": 4,
 "nbformat_minor": 5
}
