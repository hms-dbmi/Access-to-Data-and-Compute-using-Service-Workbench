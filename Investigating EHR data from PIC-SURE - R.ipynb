{
 "cells": [
  {
   "cell_type": "markdown",
   "id": "aad58f25",
   "metadata": {},
   "source": [
    "# Investigating EHR data from PIC-SURE\n",
    "\n",
    "The purpose of this notebook is to help researchers get started with EHR analysis in python using clinical data exported from PIC-SURE. \n",
    "\n",
    "### About the data\n",
    "This example code uses a synthetically generated dataset from Synthea, an open-source patient population simulation. \n",
    "The dataset has been formatted to mirror what a data export from PIC-SURE may look like.  \n",
    "It includes all age groups and is not limited to pediatric patients. \n",
    "\n",
    "\n",
    "\n",
    "Jason Walonoski, Mark Kramer, Joseph Nichols, Andre Quina, Chris Moesel, Dylan Hall, Carlton Duffett, Kudakwashe Dube, Thomas Gallagher, Scott McLachlan, Synthea: An approach, method, and software mechanism for generating synthetic patients and the synthetic electronic health care record, Journal of the American Medical Informatics Association, Volume 25, Issue 3, March 2018, Pages 230–238, https://doi.org/10.1093/jamia/ocx079\n",
    "\n",
    "###  Installing packages\n",
    "The following code installs and loads packages needed for basic data management and manipulation.\n"
   ]
  },
  {
   "cell_type": "code",
   "execution_count": 1,
   "id": "7af50932",
   "metadata": {},
   "outputs": [
    {
     "name": "stderr",
     "output_type": "stream",
     "text": [
      "Updating HTML index of packages in '.Library'\n",
      "\n",
      "Making 'packages.html' ...\n",
      " done\n",
      "\n",
      "── \u001b[1mAttaching core tidyverse packages\u001b[22m ──────────────────────── tidyverse 2.0.0 ──\n",
      "\u001b[32m✔\u001b[39m \u001b[34mdplyr    \u001b[39m 1.1.4     \u001b[32m✔\u001b[39m \u001b[34mreadr    \u001b[39m 2.1.5\n",
      "\u001b[32m✔\u001b[39m \u001b[34mforcats  \u001b[39m 1.0.0     \u001b[32m✔\u001b[39m \u001b[34mstringr  \u001b[39m 1.5.1\n",
      "\u001b[32m✔\u001b[39m \u001b[34mggplot2  \u001b[39m 3.5.1     \u001b[32m✔\u001b[39m \u001b[34mtibble   \u001b[39m 3.2.1\n",
      "\u001b[32m✔\u001b[39m \u001b[34mlubridate\u001b[39m 1.9.3     \u001b[32m✔\u001b[39m \u001b[34mtidyr    \u001b[39m 1.3.1\n",
      "\u001b[32m✔\u001b[39m \u001b[34mpurrr    \u001b[39m 1.0.2     \n",
      "── \u001b[1mConflicts\u001b[22m ────────────────────────────────────────── tidyverse_conflicts() ──\n",
      "\u001b[31m✖\u001b[39m \u001b[34mdplyr\u001b[39m::\u001b[32mfilter()\u001b[39m masks \u001b[34mstats\u001b[39m::filter()\n",
      "\u001b[31m✖\u001b[39m \u001b[34mdplyr\u001b[39m::\u001b[32mlag()\u001b[39m    masks \u001b[34mstats\u001b[39m::lag()\n",
      "\u001b[36mℹ\u001b[39m Use the conflicted package (\u001b[3m\u001b[34m<http://conflicted.r-lib.org/>\u001b[39m\u001b[23m) to force all conflicts to become errors\n"
     ]
    }
   ],
   "source": [
    "options(repos = c(CRAN = \"https://cloud.r-project.org/\"))\n",
    "\n",
    "#install.packages('tidyverse')\n",
    "install.packages('lubridate')\n",
    "\n",
    "library(tidyverse)\n",
    "library(lubridate)"
   ]
  },
  {
   "cell_type": "markdown",
   "id": "070e734f",
   "metadata": {},
   "source": [
    "## Loading the data\n",
    "The following code downloads the dataset."
   ]
  },
  {
   "cell_type": "code",
   "execution_count": 3,
   "id": "46169833",
   "metadata": {},
   "outputs": [
    {
     "name": "stderr",
     "output_type": "stream",
     "text": [
      "Warning message:\n",
      "“\u001b[1m\u001b[22mOne or more parsing issues, call `problems()` on your data frame for details,\n",
      "e.g.:\n",
      "  dat <- vroom(...)\n",
      "  problems(dat)”\n",
      "\u001b[1mRows: \u001b[22m\u001b[34m3737903\u001b[39m \u001b[1mColumns: \u001b[22m\u001b[34m5\u001b[39m\n",
      "\u001b[36m──\u001b[39m \u001b[1mColumn specification\u001b[22m \u001b[36m────────────────────────────────────────────────────────\u001b[39m\n",
      "\u001b[1mDelimiter:\u001b[22m \",\"\n",
      "\u001b[31mchr\u001b[39m  (3): PATIENT_NUM, CONCEPT_PATH, TVAL_CHAR\n",
      "\u001b[32mdbl\u001b[39m  (1): NVAL_NUM\n",
      "\u001b[34mdttm\u001b[39m (1): TIMESTAMP\n",
      "\n",
      "\u001b[36mℹ\u001b[39m Use `spec()` to retrieve the full column specification for this data.\n",
      "\u001b[36mℹ\u001b[39m Specify the column types or set `show_col_types = FALSE` to quiet this message.\n"
     ]
    }
   ],
   "source": [
    "# The data is stored on github:\n",
    "url <- \"https://github.com/hms-dbmi/pic-sure-public-datasets/raw/main/synthea_10k_picsure_format.csv.zip\"\n",
    "\n",
    "# Temporary file to store the ZIP\n",
    "temp_zip <- tempfile(fileext = \".zip\")\n",
    "GET(url, write_disk(temp_zip, overwrite = TRUE))\n",
    "files <- unzip(temp_zip, list = TRUE)\n",
    "\n",
    "# Extract and read the CSV file\n",
    "csv_file <- files$Name[1]\n",
    "data <- read_csv(unz(temp_zip, csv_file))\n",
    "\n",
    "# Clean up temporary files\n",
    "unlink(temp_zip)"
   ]
  },
  {
   "cell_type": "markdown",
   "id": "93b5758b",
   "metadata": {},
   "source": [
    "## Taking a first look at the dataset\n",
    "Let's use the `head()` function to take a first look at the dataset. \n",
    "You'll see 5 columns:\n",
    "* PATIENT_NUM: Represents a unique patient identifier\n",
    "* CONCEPT_PATH: Represents the clinical variable for a given observation (row)\n",
    "* TVAL_CHAR: The text / character value of the clinical variable, if applicable\n",
    "* NVAL_NUM: The numerical value of the clinical variable, if applicable\n",
    "* TIMESTAMP: The date and time associated to a given observation (row)"
   ]
  },
  {
   "cell_type": "code",
   "execution_count": 4,
   "id": "3b0df5a0",
   "metadata": {},
   "outputs": [
    {
     "data": {
      "text/html": [
       "<table class=\"dataframe\">\n",
       "<caption>A tibble: 6 × 5</caption>\n",
       "<thead>\n",
       "\t<tr><th scope=col>PATIENT_NUM</th><th scope=col>CONCEPT_PATH</th><th scope=col>TVAL_CHAR</th><th scope=col>NVAL_NUM</th><th scope=col>TIMESTAMP</th></tr>\n",
       "\t<tr><th scope=col>&lt;chr&gt;</th><th scope=col>&lt;chr&gt;</th><th scope=col>&lt;chr&gt;</th><th scope=col>&lt;dbl&gt;</th><th scope=col>&lt;dttm&gt;</th></tr>\n",
       "</thead>\n",
       "<tbody>\n",
       "\t<tr><td>55f11536-c06f-87bc-971e-7a39b232ecd3</td><td>\\ACT Demographics\\Sex\\     </td><td>Female</td><td>NA</td><td>2024-07-01 16:25:50</td></tr>\n",
       "\t<tr><td>55f11536-c06f-87bc-971e-7a39b232ecd3</td><td>\\ACT Demographics\\Race\\    </td><td>White </td><td>NA</td><td>2024-07-01 16:25:50</td></tr>\n",
       "\t<tr><td>55f11536-c06f-87bc-971e-7a39b232ecd3</td><td>\\ACT Demographics\\Hispanic\\</td><td>No    </td><td>NA</td><td>2024-07-01 16:25:50</td></tr>\n",
       "\t<tr><td>6225749a-9311-ab4e-d2a3-d9b1f919866d</td><td>\\ACT Demographics\\Sex\\     </td><td>Male  </td><td>NA</td><td>2024-07-01 16:25:50</td></tr>\n",
       "\t<tr><td>6225749a-9311-ab4e-d2a3-d9b1f919866d</td><td>\\ACT Demographics\\Race\\    </td><td>White </td><td>NA</td><td>2024-07-01 16:25:50</td></tr>\n",
       "\t<tr><td>6225749a-9311-ab4e-d2a3-d9b1f919866d</td><td>\\ACT Demographics\\Hispanic\\</td><td>No    </td><td>NA</td><td>2024-07-01 16:25:50</td></tr>\n",
       "</tbody>\n",
       "</table>\n"
      ],
      "text/latex": [
       "A tibble: 6 × 5\n",
       "\\begin{tabular}{lllll}\n",
       " PATIENT\\_NUM & CONCEPT\\_PATH & TVAL\\_CHAR & NVAL\\_NUM & TIMESTAMP\\\\\n",
       " <chr> & <chr> & <chr> & <dbl> & <dttm>\\\\\n",
       "\\hline\n",
       "\t 55f11536-c06f-87bc-971e-7a39b232ecd3 & \\textbackslash{}ACT Demographics\\textbackslash{}Sex\\textbackslash{}      & Female & NA & 2024-07-01 16:25:50\\\\\n",
       "\t 55f11536-c06f-87bc-971e-7a39b232ecd3 & \\textbackslash{}ACT Demographics\\textbackslash{}Race\\textbackslash{}     & White  & NA & 2024-07-01 16:25:50\\\\\n",
       "\t 55f11536-c06f-87bc-971e-7a39b232ecd3 & \\textbackslash{}ACT Demographics\\textbackslash{}Hispanic\\textbackslash{} & No     & NA & 2024-07-01 16:25:50\\\\\n",
       "\t 6225749a-9311-ab4e-d2a3-d9b1f919866d & \\textbackslash{}ACT Demographics\\textbackslash{}Sex\\textbackslash{}      & Male   & NA & 2024-07-01 16:25:50\\\\\n",
       "\t 6225749a-9311-ab4e-d2a3-d9b1f919866d & \\textbackslash{}ACT Demographics\\textbackslash{}Race\\textbackslash{}     & White  & NA & 2024-07-01 16:25:50\\\\\n",
       "\t 6225749a-9311-ab4e-d2a3-d9b1f919866d & \\textbackslash{}ACT Demographics\\textbackslash{}Hispanic\\textbackslash{} & No     & NA & 2024-07-01 16:25:50\\\\\n",
       "\\end{tabular}\n"
      ],
      "text/markdown": [
       "\n",
       "A tibble: 6 × 5\n",
       "\n",
       "| PATIENT_NUM &lt;chr&gt; | CONCEPT_PATH &lt;chr&gt; | TVAL_CHAR &lt;chr&gt; | NVAL_NUM &lt;dbl&gt; | TIMESTAMP &lt;dttm&gt; |\n",
       "|---|---|---|---|---|\n",
       "| 55f11536-c06f-87bc-971e-7a39b232ecd3 | \\ACT Demographics\\Sex\\      | Female | NA | 2024-07-01 16:25:50 |\n",
       "| 55f11536-c06f-87bc-971e-7a39b232ecd3 | \\ACT Demographics\\Race\\     | White  | NA | 2024-07-01 16:25:50 |\n",
       "| 55f11536-c06f-87bc-971e-7a39b232ecd3 | \\ACT Demographics\\Hispanic\\ | No     | NA | 2024-07-01 16:25:50 |\n",
       "| 6225749a-9311-ab4e-d2a3-d9b1f919866d | \\ACT Demographics\\Sex\\      | Male   | NA | 2024-07-01 16:25:50 |\n",
       "| 6225749a-9311-ab4e-d2a3-d9b1f919866d | \\ACT Demographics\\Race\\     | White  | NA | 2024-07-01 16:25:50 |\n",
       "| 6225749a-9311-ab4e-d2a3-d9b1f919866d | \\ACT Demographics\\Hispanic\\ | No     | NA | 2024-07-01 16:25:50 |\n",
       "\n"
      ],
      "text/plain": [
       "  PATIENT_NUM                          CONCEPT_PATH                   TVAL_CHAR\n",
       "1 55f11536-c06f-87bc-971e-7a39b232ecd3 \\\\ACT Demographics\\\\Sex\\\\      Female   \n",
       "2 55f11536-c06f-87bc-971e-7a39b232ecd3 \\\\ACT Demographics\\\\Race\\\\     White    \n",
       "3 55f11536-c06f-87bc-971e-7a39b232ecd3 \\\\ACT Demographics\\\\Hispanic\\\\ No       \n",
       "4 6225749a-9311-ab4e-d2a3-d9b1f919866d \\\\ACT Demographics\\\\Sex\\\\      Male     \n",
       "5 6225749a-9311-ab4e-d2a3-d9b1f919866d \\\\ACT Demographics\\\\Race\\\\     White    \n",
       "6 6225749a-9311-ab4e-d2a3-d9b1f919866d \\\\ACT Demographics\\\\Hispanic\\\\ No       \n",
       "  NVAL_NUM TIMESTAMP          \n",
       "1 NA       2024-07-01 16:25:50\n",
       "2 NA       2024-07-01 16:25:50\n",
       "3 NA       2024-07-01 16:25:50\n",
       "4 NA       2024-07-01 16:25:50\n",
       "5 NA       2024-07-01 16:25:50\n",
       "6 NA       2024-07-01 16:25:50"
      ]
     },
     "metadata": {},
     "output_type": "display_data"
    }
   ],
   "source": [
    "head(data)"
   ]
  },
  {
   "cell_type": "markdown",
   "id": "631fb73f",
   "metadata": {},
   "source": [
    "The EHR data represented in this dataset may be very large, making it difficult to explore manually. \n",
    "\n",
    "You'll notice that the `CONCEPT_PATH` column consists of a hierarchy that narrows down to a certain clinical variable. \n",
    "\n",
    "Let's take a look at the highest level of the `CONCEPT_PATH` to see what kind of data we have. We can consider this to be the `VARIABLE_TYPE`."
   ]
  },
  {
   "cell_type": "code",
   "execution_count": 5,
   "id": "158b7675",
   "metadata": {},
   "outputs": [
    {
     "data": {
      "text/plain": [
       "\n",
       "    ACT Demographics ACT Diagnosis ICD-10 ACT Lab Test Results \n",
       "               48222                96705              2788447 \n",
       "     ACT Medications   ACT Procedures CPT \n",
       "              748721                55808 "
      ]
     },
     "metadata": {},
     "output_type": "display_data"
    }
   ],
   "source": [
    "# Isolate the variable type using regular expressions, and create a new column for variable type\n",
    "data$VARIABLE_TYPE = str_extract(data$CONCEPT_PATH, \"(?<=\\\\\\\\)[^\\\\\\\\]+(?=\\\\\\\\)\")\n",
    "# Count how many observations are associated with each variable type\n",
    "table(data$VARIABLE_TYPE)"
   ]
  },
  {
   "cell_type": "markdown",
   "id": "d830848f",
   "metadata": {},
   "source": [
    "As seen above, this dataset contains the following data types: \n",
    "- ACT Lab Test Results (Labs)\n",
    "- ACT Medications\n",
    "- ACT Diagnosis ICD-10 (Diagnoses)\n",
    "- ACT Procedures CPT (Procedures)\n",
    "- ACT Demographics\n",
    "\n",
    "\n",
    "#### Working with patient demographics from the dataset\n",
    "Here we will explore, organize and visualize the demographic data available in our dataset. This includes age, sex and race.\n",
    "\n",
    "This dataset should contain about 10,000 synthetic patient records. Let's verify this by checking the count of unique patient IDs present in the dataset. "
   ]
  },
  {
   "cell_type": "code",
   "execution_count": 6,
   "id": "8ed75f23",
   "metadata": {},
   "outputs": [
    {
     "data": {
      "text/html": [
       "11644"
      ],
      "text/latex": [
       "11644"
      ],
      "text/markdown": [
       "11644"
      ],
      "text/plain": [
       "[1] 11644"
      ]
     },
     "metadata": {},
     "output_type": "display_data"
    }
   ],
   "source": [
    "n_distinct(data$PATIENT_NUM)\n"
   ]
  },
  {
   "cell_type": "markdown",
   "id": "6d34716e",
   "metadata": {},
   "source": [
    "Let's also check what date ranges are represented in our dataset. \n"
   ]
  },
  {
   "cell_type": "code",
   "execution_count": 7,
   "id": "ce061bde",
   "metadata": {},
   "outputs": [
    {
     "name": "stderr",
     "output_type": "stream",
     "text": [
      "Warning message:\n",
      "“\u001b[1m\u001b[22mRemoved 5628 rows containing non-finite outside the scale range (`stat_bin()`).”\n"
     ]
    },
    {
     "data": {
      "image/png": "[encoded data removed]",
      "text/plain": [
       "plot without title"
      ]
     },
     "metadata": {
      "image/png": {
       "height": 420,
       "width": 420
      }
     },
     "output_type": "display_data"
    }
   ],
   "source": [
    "# Extracting date from timestamp column\n",
    "data <- data %>%\n",
    "  mutate(TIMESTAMP = ymd_hms(TIMESTAMP, quiet = TRUE), # Convert to datetime\n",
    "         DATE = as.Date(TIMESTAMP)) # Extract date\n",
    "\n",
    "# Create a histogram of dates\n",
    "ggplot(data, aes(x = DATE)) +\n",
    "  geom_histogram(bins = 30, fill = \"skyblue\", color = \"black\") +\n",
    "  labs(x = \"Date\", y = \"Frequency\", title = \"Histogram of Dates\") +\n",
    "  theme_minimal() +\n",
    "  theme(axis.text.x = element_text(angle = 45, hjust = 1))"
   ]
  },
  {
   "cell_type": "markdown",
   "id": "2d8942ca",
   "metadata": {},
   "source": [
    "The majority of our dataset is from the last 15 years, as expected. \n",
    "\n",
    "We also see data stretching far back to 1920; perhaps this is associated with a patient's age. Depending on your research question, you may want to investigate those outliers. \n",
    "\n",
    "## Exploring Demographic Data\n",
    "Here we will explore, organize and visualize the demographic data available in our dataset. This includes age, sex and race.\n",
    "\n",
    "Let's create a new dataframe called `demo_df` that will only include the demographics information."
   ]
  },
  {
   "cell_type": "code",
   "execution_count": 8,
   "id": "3ae2d11b",
   "metadata": {},
   "outputs": [],
   "source": [
    "# Create a new dataframe including only the demographics data:\n",
    "\n",
    "demo_df <- data %>%\n",
    "  filter(VARIABLE_TYPE == 'ACT Demographics')\n"
   ]
  },
  {
   "cell_type": "markdown",
   "id": "14312ca7",
   "metadata": {},
   "source": [
    "Let's first take a look at the **sex** breakdown. \n",
    "\n",
    "We can find the Sex related observations by searching for this value in the CONCEPT_PATH column. Then, we take the sex related values (found in the TVAL_CHAR column) and transform them into a new column, \"sex\". "
   ]
  },
  {
   "cell_type": "code",
   "execution_count": 9,
   "id": "e8d7f67b",
   "metadata": {},
   "outputs": [
    {
     "data": {
      "text/html": [
       "<table class=\"dataframe\">\n",
       "<caption>A tibble: 6 × 2</caption>\n",
       "<thead>\n",
       "\t<tr><th scope=col>PATIENT_NUM</th><th scope=col>sex</th></tr>\n",
       "\t<tr><th scope=col>&lt;chr&gt;</th><th scope=col>&lt;chr&gt;</th></tr>\n",
       "</thead>\n",
       "<tbody>\n",
       "\t<tr><td>55f11536-c06f-87bc-971e-7a39b232ecd3</td><td>Female</td></tr>\n",
       "\t<tr><td>6225749a-9311-ab4e-d2a3-d9b1f919866d</td><td>Male  </td></tr>\n",
       "\t<tr><td>fe16b3d3-424a-86ce-00df-cd1386d7279f</td><td>Male  </td></tr>\n",
       "\t<tr><td>2840480c-a43b-f0eb-916d-66aca598a621</td><td>Female</td></tr>\n",
       "\t<tr><td>6d316c1c-7ce7-7120-7f88-b9f0531ddb6f</td><td>Female</td></tr>\n",
       "\t<tr><td>cd3fca00-6a53-51dc-4b02-968e533952aa</td><td>Male  </td></tr>\n",
       "</tbody>\n",
       "</table>\n"
      ],
      "text/latex": [
       "A tibble: 6 × 2\n",
       "\\begin{tabular}{ll}\n",
       " PATIENT\\_NUM & sex\\\\\n",
       " <chr> & <chr>\\\\\n",
       "\\hline\n",
       "\t 55f11536-c06f-87bc-971e-7a39b232ecd3 & Female\\\\\n",
       "\t 6225749a-9311-ab4e-d2a3-d9b1f919866d & Male  \\\\\n",
       "\t fe16b3d3-424a-86ce-00df-cd1386d7279f & Male  \\\\\n",
       "\t 2840480c-a43b-f0eb-916d-66aca598a621 & Female\\\\\n",
       "\t 6d316c1c-7ce7-7120-7f88-b9f0531ddb6f & Female\\\\\n",
       "\t cd3fca00-6a53-51dc-4b02-968e533952aa & Male  \\\\\n",
       "\\end{tabular}\n"
      ],
      "text/markdown": [
       "\n",
       "A tibble: 6 × 2\n",
       "\n",
       "| PATIENT_NUM &lt;chr&gt; | sex &lt;chr&gt; |\n",
       "|---|---|\n",
       "| 55f11536-c06f-87bc-971e-7a39b232ecd3 | Female |\n",
       "| 6225749a-9311-ab4e-d2a3-d9b1f919866d | Male   |\n",
       "| fe16b3d3-424a-86ce-00df-cd1386d7279f | Male   |\n",
       "| 2840480c-a43b-f0eb-916d-66aca598a621 | Female |\n",
       "| 6d316c1c-7ce7-7120-7f88-b9f0531ddb6f | Female |\n",
       "| cd3fca00-6a53-51dc-4b02-968e533952aa | Male   |\n",
       "\n"
      ],
      "text/plain": [
       "  PATIENT_NUM                          sex   \n",
       "1 55f11536-c06f-87bc-971e-7a39b232ecd3 Female\n",
       "2 6225749a-9311-ab4e-d2a3-d9b1f919866d Male  \n",
       "3 fe16b3d3-424a-86ce-00df-cd1386d7279f Male  \n",
       "4 2840480c-a43b-f0eb-916d-66aca598a621 Female\n",
       "5 6d316c1c-7ce7-7120-7f88-b9f0531ddb6f Female\n",
       "6 cd3fca00-6a53-51dc-4b02-968e533952aa Male  "
      ]
     },
     "metadata": {},
     "output_type": "display_data"
    }
   ],
   "source": [
    "# isolating and showing sex data:\n",
    "\n",
    "sex_df <- demo_df %>%\n",
    "  filter(grepl(\"Sex\", CONCEPT_PATH)) %>%\n",
    "  select(PATIENT_NUM, TVAL_CHAR)\n",
    "\n",
    "# renaming the column title to \"sex\":\n",
    "sex_df<- sex_df %>%\n",
    "  rename(sex=TVAL_CHAR)\n",
    "\n",
    "head(sex_df)"
   ]
  },
  {
   "cell_type": "markdown",
   "id": "e7c993b7",
   "metadata": {},
   "source": [
    "Creating a table to show the sex distribution of the dataset:\n"
   ]
  },
  {
   "cell_type": "code",
   "execution_count": 10,
   "id": "eaf77e0f",
   "metadata": {},
   "outputs": [
    {
     "data": {
      "text/html": [
       "<table class=\"dataframe\">\n",
       "<caption>A tibble: 2 × 3</caption>\n",
       "<thead>\n",
       "\t<tr><th scope=col>sex</th><th scope=col>count</th><th scope=col>percentage</th></tr>\n",
       "\t<tr><th scope=col>&lt;chr&gt;</th><th scope=col>&lt;int&gt;</th><th scope=col>&lt;dbl&gt;</th></tr>\n",
       "</thead>\n",
       "<tbody>\n",
       "\t<tr><td>Female</td><td>5747</td><td>49.35589</td></tr>\n",
       "\t<tr><td>Male  </td><td>5897</td><td>50.64411</td></tr>\n",
       "</tbody>\n",
       "</table>\n"
      ],
      "text/latex": [
       "A tibble: 2 × 3\n",
       "\\begin{tabular}{lll}\n",
       " sex & count & percentage\\\\\n",
       " <chr> & <int> & <dbl>\\\\\n",
       "\\hline\n",
       "\t Female & 5747 & 49.35589\\\\\n",
       "\t Male   & 5897 & 50.64411\\\\\n",
       "\\end{tabular}\n"
      ],
      "text/markdown": [
       "\n",
       "A tibble: 2 × 3\n",
       "\n",
       "| sex &lt;chr&gt; | count &lt;int&gt; | percentage &lt;dbl&gt; |\n",
       "|---|---|---|\n",
       "| Female | 5747 | 49.35589 |\n",
       "| Male   | 5897 | 50.64411 |\n",
       "\n"
      ],
      "text/plain": [
       "  sex    count percentage\n",
       "1 Female 5747  49.35589  \n",
       "2 Male   5897  50.64411  "
      ]
     },
     "metadata": {},
     "output_type": "display_data"
    }
   ],
   "source": [
    "# grouping by sex and calculating the percentage of each:\n",
    "sex_count<- sex_df %>%\n",
    "  group_by(sex) %>%\n",
    "  summarise(count=n()) %>%\n",
    "  mutate(percentage = (count / sum(count)) * 100)\n",
    "\n",
    "sex_count"
   ]
  },
  {
   "cell_type": "markdown",
   "id": "5879da04",
   "metadata": {},
   "source": [
    "Now let's look at the **age** distribution of our patients. \n",
    "\n",
    "Below, we isolate the age data by searching the CONCEPT_PATH for Age. Then, we take the age related values (found in the NVAL_NUM column) and transform them into a new column, \"age\". \n"
   ]
  },
  {
   "cell_type": "code",
   "execution_count": 11,
   "id": "9e481fe3",
   "metadata": {},
   "outputs": [],
   "source": [
    "# isolating and showing age data + renaming column title to \"age\":\n",
    "age_df<- demo_df %>%\n",
    "   filter(grepl(\"Age\", CONCEPT_PATH)) %>%\n",
    "  select(PATIENT_NUM, NVAL_NUM) %>%\n",
    "  rename(age=NVAL_NUM) %>%\n",
    "  arrange(PATIENT_NUM)"
   ]
  },
  {
   "cell_type": "markdown",
   "id": "38f043fa",
   "metadata": {},
   "source": [
    "We can now use this age dataframe to plot the age distribution in our data. \n"
   ]
  },
  {
   "cell_type": "code",
   "execution_count": 12,
   "id": "f1db4d05",
   "metadata": {},
   "outputs": [
    {
     "data": {
      "image/png": "[encoded data removed]",
      "text/plain": [
       "plot without title"
      ]
     },
     "metadata": {
      "image/png": {
       "height": 420,
       "width": 420
      }
     },
     "output_type": "display_data"
    }
   ],
   "source": [
    "#Creating a histogram, demonstrating the age distribution:\n",
    "\n",
    "ggplot(data = age_df) +\n",
    "  geom_histogram(aes(x=age), binwidth = 1, fill = \"blue\", color = \"black\") +\n",
    "  theme_bw() +\n",
    "  scale_x_continuous(n.breaks=18)+\n",
    "  labs(x = \"Age\", y = \"Frequency\", title = \"Age Distribution\")\n"
   ]
  },
  {
   "cell_type": "markdown",
   "id": "a22365fe",
   "metadata": {},
   "source": [
    "We can also group our patients into age groups and create a table detailing how many patients are in each age group. \n",
    "\n",
    "We will group our patients into the following groups: \n",
    "* under 18\n",
    "* 18-65\n",
    "* 65+\n"
   ]
  },
  {
   "cell_type": "code",
   "execution_count": 13,
   "id": "05d18d98",
   "metadata": {},
   "outputs": [
    {
     "data": {
      "text/html": [
       "<table class=\"dataframe\">\n",
       "<caption>A tibble: 3 × 2</caption>\n",
       "<thead>\n",
       "\t<tr><th scope=col>age_group</th><th scope=col>count</th></tr>\n",
       "\t<tr><th scope=col>&lt;chr&gt;</th><th scope=col>&lt;int&gt;</th></tr>\n",
       "</thead>\n",
       "<tbody>\n",
       "\t<tr><td><span style=white-space:pre-wrap>&lt;18  </span></td><td>2213</td></tr>\n",
       "\t<tr><td>18-65</td><td>7413</td></tr>\n",
       "\t<tr><td>65+  </td><td>2018</td></tr>\n",
       "</tbody>\n",
       "</table>\n"
      ],
      "text/latex": [
       "A tibble: 3 × 2\n",
       "\\begin{tabular}{ll}\n",
       " age\\_group & count\\\\\n",
       " <chr> & <int>\\\\\n",
       "\\hline\n",
       "\t <18   & 2213\\\\\n",
       "\t 18-65 & 7413\\\\\n",
       "\t 65+   & 2018\\\\\n",
       "\\end{tabular}\n"
      ],
      "text/markdown": [
       "\n",
       "A tibble: 3 × 2\n",
       "\n",
       "| age_group &lt;chr&gt; | count &lt;int&gt; |\n",
       "|---|---|\n",
       "| &lt;18   | 2213 |\n",
       "| 18-65 | 7413 |\n",
       "| 65+   | 2018 |\n",
       "\n"
      ],
      "text/plain": [
       "  age_group count\n",
       "1 <18       2213 \n",
       "2 18-65     7413 \n",
       "3 65+       2018 "
      ]
     },
     "metadata": {},
     "output_type": "display_data"
    }
   ],
   "source": [
    "# grouping by age (<18 , 18-65, 65+)\n",
    "\n",
    "age_groups<- age_df %>%\n",
    "  mutate(age_group= case_when(age < 18 ~ \"<18\",\n",
    "                    age >= 18 & age <65 ~ \"18-65\",\n",
    "                   age >=65 ~ \"65+\"))\n",
    "\n",
    "# calculating number of patients in each group\n",
    "\n",
    "age_group_sum<- age_groups %>%\n",
    "  group_by(age_group)%>%\n",
    "  summarize(count=n()) %>%\n",
    "  arrange(factor(age_group, levels = c(\"<18\", \"18-65\", \"65+\")))\n",
    "\n",
    "age_group_sum"
   ]
  },
  {
   "cell_type": "markdown",
   "id": "06881add",
   "metadata": {},
   "source": [
    "Finally, let's investigate the **race** distribution. \n",
    "\n",
    "Similarly to above, we isolate the race data by searching the CONCEPT_PATH for Race. Then, we take the race related values (found in the TVAL_CHAR column) and transform them into a new column, \"race\". "
   ]
  },
  {
   "cell_type": "code",
   "execution_count": 14,
   "id": "d324eb01",
   "metadata": {},
   "outputs": [],
   "source": [
    "# isolating race data + renaming column title to \"race\":\n",
    "race_df<- demo_df %>%\n",
    "  filter(grepl(\"Race\", CONCEPT_PATH)) %>%\n",
    "   select(PATIENT_NUM, TVAL_CHAR)%>%\n",
    "  rename(race=TVAL_CHAR)\n"
   ]
  },
  {
   "cell_type": "markdown",
   "id": "22793211",
   "metadata": {},
   "source": [
    "creating a table of the race distribution\n"
   ]
  },
  {
   "cell_type": "code",
   "execution_count": 15,
   "id": "00238376",
   "metadata": {},
   "outputs": [
    {
     "data": {
      "text/html": [
       "<table class=\"dataframe\">\n",
       "<caption>A tibble: 6 × 3</caption>\n",
       "<thead>\n",
       "\t<tr><th scope=col>race</th><th scope=col>count</th><th scope=col>percentage</th></tr>\n",
       "\t<tr><th scope=col>&lt;fct&gt;</th><th scope=col>&lt;int&gt;</th><th scope=col>&lt;dbl&gt;</th></tr>\n",
       "</thead>\n",
       "<tbody>\n",
       "\t<tr><td>White                                    </td><td>9648</td><td>82.86</td></tr>\n",
       "\t<tr><td>Black or African American                </td><td> 918</td><td> 7.88</td></tr>\n",
       "\t<tr><td>Asian                                    </td><td> 786</td><td> 6.75</td></tr>\n",
       "\t<tr><td>Native Hawaiian or Other Pacific Islander</td><td> 118</td><td> 1.01</td></tr>\n",
       "\t<tr><td>No Information                           </td><td> 113</td><td> 0.97</td></tr>\n",
       "\t<tr><td>American Indian or Alaska Native         </td><td>  61</td><td> 0.52</td></tr>\n",
       "</tbody>\n",
       "</table>\n"
      ],
      "text/latex": [
       "A tibble: 6 × 3\n",
       "\\begin{tabular}{lll}\n",
       " race & count & percentage\\\\\n",
       " <fct> & <int> & <dbl>\\\\\n",
       "\\hline\n",
       "\t White                                     & 9648 & 82.86\\\\\n",
       "\t Black or African American                 &  918 &  7.88\\\\\n",
       "\t Asian                                     &  786 &  6.75\\\\\n",
       "\t Native Hawaiian or Other Pacific Islander &  118 &  1.01\\\\\n",
       "\t No Information                            &  113 &  0.97\\\\\n",
       "\t American Indian or Alaska Native          &   61 &  0.52\\\\\n",
       "\\end{tabular}\n"
      ],
      "text/markdown": [
       "\n",
       "A tibble: 6 × 3\n",
       "\n",
       "| race &lt;fct&gt; | count &lt;int&gt; | percentage &lt;dbl&gt; |\n",
       "|---|---|---|\n",
       "| White                                     | 9648 | 82.86 |\n",
       "| Black or African American                 |  918 |  7.88 |\n",
       "| Asian                                     |  786 |  6.75 |\n",
       "| Native Hawaiian or Other Pacific Islander |  118 |  1.01 |\n",
       "| No Information                            |  113 |  0.97 |\n",
       "| American Indian or Alaska Native          |   61 |  0.52 |\n",
       "\n"
      ],
      "text/plain": [
       "  race                                      count percentage\n",
       "1 White                                     9648  82.86     \n",
       "2 Black or African American                  918   7.88     \n",
       "3 Asian                                      786   6.75     \n",
       "4 Native Hawaiian or Other Pacific Islander  118   1.01     \n",
       "5 No Information                             113   0.97     \n",
       "6 American Indian or Alaska Native            61   0.52     "
      ]
     },
     "metadata": {},
     "output_type": "display_data"
    }
   ],
   "source": [
    "# grouping by race and calculating the percentage of each:\n",
    "\n",
    "race_count <- race_df %>%\n",
    "  group_by(race) %>%\n",
    "  summarise(count = n()) %>%\n",
    "  mutate(percentage = round((count / sum(count)) * 100,2)) %>%\n",
    "  mutate(race = fct_reorder(race, -percentage)) %>%\n",
    "  arrange(-percentage)\n",
    "\n",
    "race_count"
   ]
  },
  {
   "cell_type": "markdown",
   "id": "17078836",
   "metadata": {},
   "source": [
    "We will plot these results in a bar plot. \n"
   ]
  },
  {
   "cell_type": "code",
   "execution_count": 16,
   "id": "69d1933f",
   "metadata": {},
   "outputs": [
    {
     "data": {
      "image/png": "[encoded data removed]",
      "text/plain": [
       "plot without title"
      ]
     },
     "metadata": {
      "image/png": {
       "height": 420,
       "width": 420
      }
     },
     "output_type": "display_data"
    }
   ],
   "source": [
    "# create a bar plot representing race distribution:\n",
    "\n",
    "ggplot(data= race_count) +\n",
    "  geom_bar(aes(x=race, y=percentage, fill= race ), stat = \"identity\")+\n",
    "  theme_bw()+\n",
    "  theme(axis.text.x = element_text(angle = 45, hjust = 1))+\n",
    "  theme(legend.position = \"none\")+\n",
    "  labs(x=\"Race\",y=\"Percentage\", title=\"Participants Race Distribution\") "
   ]
  },
  {
   "cell_type": "markdown",
   "id": "e95ce3be",
   "metadata": {},
   "source": [
    "The way our initial dataset is formatted can be difficult to view multiple variables about a given patient at the same time. \n",
    "\n",
    "Below, we create one table presenting all demographic data (age, sex, race) by patient ID. "
   ]
  },
  {
   "cell_type": "code",
   "execution_count": 17,
   "id": "ddf928fe",
   "metadata": {},
   "outputs": [
    {
     "data": {
      "text/html": [
       "<table class=\"dataframe\">\n",
       "<caption>A tibble: 6 × 4</caption>\n",
       "<thead>\n",
       "\t<tr><th scope=col>PATIENT_NUM</th><th scope=col>age</th><th scope=col>sex</th><th scope=col>race</th></tr>\n",
       "\t<tr><th scope=col>&lt;chr&gt;</th><th scope=col>&lt;dbl&gt;</th><th scope=col>&lt;chr&gt;</th><th scope=col>&lt;chr&gt;</th></tr>\n",
       "</thead>\n",
       "<tbody>\n",
       "\t<tr><td>000073ef-dea1-7599-2afc-5ff34bf99b34</td><td>34</td><td>Female</td><td>White</td></tr>\n",
       "\t<tr><td>000c0c49-3f93-823c-3932-249adbeaad1c</td><td>26</td><td>Female</td><td>White</td></tr>\n",
       "\t<tr><td>000fae46-91b6-a373-1134-296eb55705e1</td><td>69</td><td>Male  </td><td>White</td></tr>\n",
       "\t<tr><td>0011d179-6a33-440a-0e24-8dce63a492c1</td><td>29</td><td>Female</td><td>White</td></tr>\n",
       "\t<tr><td>0015fb36-0cad-3a48-87d9-a0f61c12c80d</td><td>66</td><td>Male  </td><td>White</td></tr>\n",
       "\t<tr><td>001ac6f0-8c11-79fc-8521-b004f687d67f</td><td>55</td><td>Female</td><td>White</td></tr>\n",
       "</tbody>\n",
       "</table>\n"
      ],
      "text/latex": [
       "A tibble: 6 × 4\n",
       "\\begin{tabular}{llll}\n",
       " PATIENT\\_NUM & age & sex & race\\\\\n",
       " <chr> & <dbl> & <chr> & <chr>\\\\\n",
       "\\hline\n",
       "\t 000073ef-dea1-7599-2afc-5ff34bf99b34 & 34 & Female & White\\\\\n",
       "\t 000c0c49-3f93-823c-3932-249adbeaad1c & 26 & Female & White\\\\\n",
       "\t 000fae46-91b6-a373-1134-296eb55705e1 & 69 & Male   & White\\\\\n",
       "\t 0011d179-6a33-440a-0e24-8dce63a492c1 & 29 & Female & White\\\\\n",
       "\t 0015fb36-0cad-3a48-87d9-a0f61c12c80d & 66 & Male   & White\\\\\n",
       "\t 001ac6f0-8c11-79fc-8521-b004f687d67f & 55 & Female & White\\\\\n",
       "\\end{tabular}\n"
      ],
      "text/markdown": [
       "\n",
       "A tibble: 6 × 4\n",
       "\n",
       "| PATIENT_NUM &lt;chr&gt; | age &lt;dbl&gt; | sex &lt;chr&gt; | race &lt;chr&gt; |\n",
       "|---|---|---|---|\n",
       "| 000073ef-dea1-7599-2afc-5ff34bf99b34 | 34 | Female | White |\n",
       "| 000c0c49-3f93-823c-3932-249adbeaad1c | 26 | Female | White |\n",
       "| 000fae46-91b6-a373-1134-296eb55705e1 | 69 | Male   | White |\n",
       "| 0011d179-6a33-440a-0e24-8dce63a492c1 | 29 | Female | White |\n",
       "| 0015fb36-0cad-3a48-87d9-a0f61c12c80d | 66 | Male   | White |\n",
       "| 001ac6f0-8c11-79fc-8521-b004f687d67f | 55 | Female | White |\n",
       "\n"
      ],
      "text/plain": [
       "  PATIENT_NUM                          age sex    race \n",
       "1 000073ef-dea1-7599-2afc-5ff34bf99b34 34  Female White\n",
       "2 000c0c49-3f93-823c-3932-249adbeaad1c 26  Female White\n",
       "3 000fae46-91b6-a373-1134-296eb55705e1 69  Male   White\n",
       "4 0011d179-6a33-440a-0e24-8dce63a492c1 29  Female White\n",
       "5 0015fb36-0cad-3a48-87d9-a0f61c12c80d 66  Male   White\n",
       "6 001ac6f0-8c11-79fc-8521-b004f687d67f 55  Female White"
      ]
     },
     "metadata": {},
     "output_type": "display_data"
    }
   ],
   "source": [
    "#merging all columns to show age, sex, race in one table:\n",
    "\n",
    "demographics_joined<- age_df %>%\n",
    "  left_join(sex_df, by=\"PATIENT_NUM\") %>%\n",
    "  left_join(race_df, by= \"PATIENT_NUM\")\n",
    "\n",
    "head(demographics_joined)"
   ]
  },
  {
   "cell_type": "markdown",
   "id": "dcbecd0f",
   "metadata": {},
   "source": [
    "## Investigating ICD codes: Epilepsy case study\n",
    "We can isolate the diagnosis related information by searching for 'ACT Diagnosis' in the CONCEPT_PATH column."
   ]
  },
  {
   "cell_type": "code",
   "execution_count": 18,
   "id": "c9272027",
   "metadata": {},
   "outputs": [],
   "source": [
    "#create a new data frame including only diagnosis data:\n",
    "\n",
    "diagnosis_icd10 <- data %>%\n",
    "  filter(grepl(\"\\\\ACT Diagnosis ICD-10\", CONCEPT_PATH))"
   ]
  },
  {
   "cell_type": "markdown",
   "id": "48e34f39",
   "metadata": {},
   "source": [
    "### In this case study, we will investigate epilepsy as the disease of interest. \n",
    "\n",
    "Epilapsy is represented by  ICD group code \"G40\", which includes the following and their sub-groups:\n",
    "* G40.0: Localization-related (focal) (partial) idiopathic epilepsy and epileptic syndromes with seizures of localized onset.\n",
    "* G40.1: Localization-related (focal) (partial) symptomatic epilepsy and epileptic syndromes with simple partial seizures.\n",
    "* G40.2: Localization-related (focal) (partial) symptomatic epilepsy and epileptic syndromes with complex partial seizures.\n",
    "* G40.3: Generalized idiopathic epilepsy and epileptic syndromes\n",
    "* G40.A: Absence epileptic syndrome.\n",
    "* G40.B: Juvenile myoclonic epilepsy [impulsive petit mal].\n",
    "* G40.C: Lafora progressive myoclonus epilepsy, intractable.\n",
    "* G40.4: Other generalized epilepsy and epileptic syndromes.\n",
    "* G40.5: Epileptic seizures related to external causes.\n",
    "* G40.8: Other epilepsy and recurrent seizures.\n",
    "* G40.9: Epilepsy, unspecified.\n",
    "\n",
    "*A full list of ICD-10 codes can be found at https://www.icd10data.com/ICD10CM/Codes*\n",
    "\n",
    "### Isolating the patient cohort\n",
    "\n",
    "First, we create a new data-frame that only includes patients with epilepsy.\n",
    "\n",
    "We create a variable called `icd_code_of_interest` and set it to `G40`.\n",
    "\n",
    "(you can replace the ICD code \"G40\" with the ICD code of your choice if you are interested in investigating a different disease group!):\n",
    "\n",
    "You can see a preview of this epilepsy focused dataset below."
   ]
  },
  {
   "cell_type": "code",
   "execution_count": 19,
   "id": "2ece5d2c",
   "metadata": {},
   "outputs": [
    {
     "data": {
      "text/html": [
       "<table class=\"dataframe\">\n",
       "<caption>A grouped_df: 6 × 3</caption>\n",
       "<thead>\n",
       "\t<tr><th scope=col>PATIENT_NUM</th><th scope=col>CONCEPT_PATH</th><th scope=col>icd_10_code</th></tr>\n",
       "\t<tr><th scope=col>&lt;chr&gt;</th><th scope=col>&lt;chr&gt;</th><th scope=col>&lt;chr&gt;</th></tr>\n",
       "</thead>\n",
       "<tbody>\n",
       "\t<tr><td>e6ca8432-abc9-e3d4-4e5d-47f972f07181</td><td>\\ACT Diagnosis ICD-10\\G00-G99 Diseases of the nervous system (G00-G99)\\G40-G47 Episodic and paroxysmal disorders (G40-G47)\\G40 Epilepsy and recurrent seizures\\G40.9 Epilepsy, unspecified\\G40.90 Epilepsy, unspecified, not intractable</td><td>G40.909 Epilepsy, unspecified, not intractable, without status epilepticus</td></tr>\n",
       "\t<tr><td>e6ca8432-abc9-e3d4-4e5d-47f972f07181</td><td>\\ACT Diagnosis ICD-10\\G00-G99 Diseases of the nervous system (G00-G99)\\G40-G47 Episodic and paroxysmal disorders (G40-G47)\\G40 Epilepsy and recurrent seizures\\G40.9 Epilepsy, unspecified\\G40.90 Epilepsy, unspecified, not intractable</td><td>G40.909 Epilepsy, unspecified, not intractable, without status epilepticus</td></tr>\n",
       "\t<tr><td>e6ca8432-abc9-e3d4-4e5d-47f972f07181</td><td>\\ACT Diagnosis ICD-10\\G00-G99 Diseases of the nervous system (G00-G99)\\G40-G47 Episodic and paroxysmal disorders (G40-G47)\\G40 Epilepsy and recurrent seizures\\G40.9 Epilepsy, unspecified\\G40.90 Epilepsy, unspecified, not intractable</td><td>G40.909 Epilepsy, unspecified, not intractable, without status epilepticus</td></tr>\n",
       "\t<tr><td>e6ca8432-abc9-e3d4-4e5d-47f972f07181</td><td>\\ACT Diagnosis ICD-10\\G00-G99 Diseases of the nervous system (G00-G99)\\G40-G47 Episodic and paroxysmal disorders (G40-G47)\\G40 Epilepsy and recurrent seizures\\G40.9 Epilepsy, unspecified\\G40.90 Epilepsy, unspecified, not intractable</td><td>G40.909 Epilepsy, unspecified, not intractable, without status epilepticus</td></tr>\n",
       "\t<tr><td>e6ca8432-abc9-e3d4-4e5d-47f972f07181</td><td>\\ACT Diagnosis ICD-10\\G00-G99 Diseases of the nervous system (G00-G99)\\G40-G47 Episodic and paroxysmal disorders (G40-G47)\\G40 Epilepsy and recurrent seizures\\G40.9 Epilepsy, unspecified\\G40.90 Epilepsy, unspecified, not intractable</td><td>G40.909 Epilepsy, unspecified, not intractable, without status epilepticus</td></tr>\n",
       "\t<tr><td>e6ca8432-abc9-e3d4-4e5d-47f972f07181</td><td>\\ACT Diagnosis ICD-10\\G00-G99 Diseases of the nervous system (G00-G99)\\G40-G47 Episodic and paroxysmal disorders (G40-G47)\\G40 Epilepsy and recurrent seizures                                                                            </td><td>G40.9 Epilepsy, unspecified                                               </td></tr>\n",
       "</tbody>\n",
       "</table>\n"
      ],
      "text/latex": [
       "A grouped\\_df: 6 × 3\n",
       "\\begin{tabular}{lll}\n",
       " PATIENT\\_NUM & CONCEPT\\_PATH & icd\\_10\\_code\\\\\n",
       " <chr> & <chr> & <chr>\\\\\n",
       "\\hline\n",
       "\t e6ca8432-abc9-e3d4-4e5d-47f972f07181 & \\textbackslash{}ACT Diagnosis ICD-10\\textbackslash{}G00-G99 Diseases of the nervous system (G00-G99)\\textbackslash{}G40-G47 Episodic and paroxysmal disorders (G40-G47)\\textbackslash{}G40 Epilepsy and recurrent seizures\\textbackslash{}G40.9 Epilepsy, unspecified\\textbackslash{}G40.90 Epilepsy, unspecified, not intractable & G40.909 Epilepsy, unspecified, not intractable, without status epilepticus\\\\\n",
       "\t e6ca8432-abc9-e3d4-4e5d-47f972f07181 & \\textbackslash{}ACT Diagnosis ICD-10\\textbackslash{}G00-G99 Diseases of the nervous system (G00-G99)\\textbackslash{}G40-G47 Episodic and paroxysmal disorders (G40-G47)\\textbackslash{}G40 Epilepsy and recurrent seizures\\textbackslash{}G40.9 Epilepsy, unspecified\\textbackslash{}G40.90 Epilepsy, unspecified, not intractable & G40.909 Epilepsy, unspecified, not intractable, without status epilepticus\\\\\n",
       "\t e6ca8432-abc9-e3d4-4e5d-47f972f07181 & \\textbackslash{}ACT Diagnosis ICD-10\\textbackslash{}G00-G99 Diseases of the nervous system (G00-G99)\\textbackslash{}G40-G47 Episodic and paroxysmal disorders (G40-G47)\\textbackslash{}G40 Epilepsy and recurrent seizures\\textbackslash{}G40.9 Epilepsy, unspecified\\textbackslash{}G40.90 Epilepsy, unspecified, not intractable & G40.909 Epilepsy, unspecified, not intractable, without status epilepticus\\\\\n",
       "\t e6ca8432-abc9-e3d4-4e5d-47f972f07181 & \\textbackslash{}ACT Diagnosis ICD-10\\textbackslash{}G00-G99 Diseases of the nervous system (G00-G99)\\textbackslash{}G40-G47 Episodic and paroxysmal disorders (G40-G47)\\textbackslash{}G40 Epilepsy and recurrent seizures\\textbackslash{}G40.9 Epilepsy, unspecified\\textbackslash{}G40.90 Epilepsy, unspecified, not intractable & G40.909 Epilepsy, unspecified, not intractable, without status epilepticus\\\\\n",
       "\t e6ca8432-abc9-e3d4-4e5d-47f972f07181 & \\textbackslash{}ACT Diagnosis ICD-10\\textbackslash{}G00-G99 Diseases of the nervous system (G00-G99)\\textbackslash{}G40-G47 Episodic and paroxysmal disorders (G40-G47)\\textbackslash{}G40 Epilepsy and recurrent seizures\\textbackslash{}G40.9 Epilepsy, unspecified\\textbackslash{}G40.90 Epilepsy, unspecified, not intractable & G40.909 Epilepsy, unspecified, not intractable, without status epilepticus\\\\\n",
       "\t e6ca8432-abc9-e3d4-4e5d-47f972f07181 & \\textbackslash{}ACT Diagnosis ICD-10\\textbackslash{}G00-G99 Diseases of the nervous system (G00-G99)\\textbackslash{}G40-G47 Episodic and paroxysmal disorders (G40-G47)\\textbackslash{}G40 Epilepsy and recurrent seizures                                                                             & G40.9 Epilepsy, unspecified                                               \\\\\n",
       "\\end{tabular}\n"
      ],
      "text/markdown": [
       "\n",
       "A grouped_df: 6 × 3\n",
       "\n",
       "| PATIENT_NUM &lt;chr&gt; | CONCEPT_PATH &lt;chr&gt; | icd_10_code &lt;chr&gt; |\n",
       "|---|---|---|\n",
       "| e6ca8432-abc9-e3d4-4e5d-47f972f07181 | \\ACT Diagnosis ICD-10\\G00-G99 Diseases of the nervous system (G00-G99)\\G40-G47 Episodic and paroxysmal disorders (G40-G47)\\G40 Epilepsy and recurrent seizures\\G40.9 Epilepsy, unspecified\\G40.90 Epilepsy, unspecified, not intractable | G40.909 Epilepsy, unspecified, not intractable, without status epilepticus |\n",
       "| e6ca8432-abc9-e3d4-4e5d-47f972f07181 | \\ACT Diagnosis ICD-10\\G00-G99 Diseases of the nervous system (G00-G99)\\G40-G47 Episodic and paroxysmal disorders (G40-G47)\\G40 Epilepsy and recurrent seizures\\G40.9 Epilepsy, unspecified\\G40.90 Epilepsy, unspecified, not intractable | G40.909 Epilepsy, unspecified, not intractable, without status epilepticus |\n",
       "| e6ca8432-abc9-e3d4-4e5d-47f972f07181 | \\ACT Diagnosis ICD-10\\G00-G99 Diseases of the nervous system (G00-G99)\\G40-G47 Episodic and paroxysmal disorders (G40-G47)\\G40 Epilepsy and recurrent seizures\\G40.9 Epilepsy, unspecified\\G40.90 Epilepsy, unspecified, not intractable | G40.909 Epilepsy, unspecified, not intractable, without status epilepticus |\n",
       "| e6ca8432-abc9-e3d4-4e5d-47f972f07181 | \\ACT Diagnosis ICD-10\\G00-G99 Diseases of the nervous system (G00-G99)\\G40-G47 Episodic and paroxysmal disorders (G40-G47)\\G40 Epilepsy and recurrent seizures\\G40.9 Epilepsy, unspecified\\G40.90 Epilepsy, unspecified, not intractable | G40.909 Epilepsy, unspecified, not intractable, without status epilepticus |\n",
       "| e6ca8432-abc9-e3d4-4e5d-47f972f07181 | \\ACT Diagnosis ICD-10\\G00-G99 Diseases of the nervous system (G00-G99)\\G40-G47 Episodic and paroxysmal disorders (G40-G47)\\G40 Epilepsy and recurrent seizures\\G40.9 Epilepsy, unspecified\\G40.90 Epilepsy, unspecified, not intractable | G40.909 Epilepsy, unspecified, not intractable, without status epilepticus |\n",
       "| e6ca8432-abc9-e3d4-4e5d-47f972f07181 | \\ACT Diagnosis ICD-10\\G00-G99 Diseases of the nervous system (G00-G99)\\G40-G47 Episodic and paroxysmal disorders (G40-G47)\\G40 Epilepsy and recurrent seizures                                                                             | G40.9 Epilepsy, unspecified                                                |\n",
       "\n"
      ],
      "text/plain": [
       "  PATIENT_NUM                         \n",
       "1 e6ca8432-abc9-e3d4-4e5d-47f972f07181\n",
       "2 e6ca8432-abc9-e3d4-4e5d-47f972f07181\n",
       "3 e6ca8432-abc9-e3d4-4e5d-47f972f07181\n",
       "4 e6ca8432-abc9-e3d4-4e5d-47f972f07181\n",
       "5 e6ca8432-abc9-e3d4-4e5d-47f972f07181\n",
       "6 e6ca8432-abc9-e3d4-4e5d-47f972f07181\n",
       "  CONCEPT_PATH                                                                                                                                                                                                                                  \n",
       "1 \\\\ACT Diagnosis ICD-10\\\\G00-G99 Diseases of the nervous system (G00-G99)\\\\G40-G47 Episodic and paroxysmal disorders (G40-G47)\\\\G40 Epilepsy and recurrent seizures\\\\G40.9 Epilepsy, unspecified\\\\G40.90 Epilepsy, unspecified, not intractable\n",
       "2 \\\\ACT Diagnosis ICD-10\\\\G00-G99 Diseases of the nervous system (G00-G99)\\\\G40-G47 Episodic and paroxysmal disorders (G40-G47)\\\\G40 Epilepsy and recurrent seizures\\\\G40.9 Epilepsy, unspecified\\\\G40.90 Epilepsy, unspecified, not intractable\n",
       "3 \\\\ACT Diagnosis ICD-10\\\\G00-G99 Diseases of the nervous system (G00-G99)\\\\G40-G47 Episodic and paroxysmal disorders (G40-G47)\\\\G40 Epilepsy and recurrent seizures\\\\G40.9 Epilepsy, unspecified\\\\G40.90 Epilepsy, unspecified, not intractable\n",
       "4 \\\\ACT Diagnosis ICD-10\\\\G00-G99 Diseases of the nervous system (G00-G99)\\\\G40-G47 Episodic and paroxysmal disorders (G40-G47)\\\\G40 Epilepsy and recurrent seizures\\\\G40.9 Epilepsy, unspecified\\\\G40.90 Epilepsy, unspecified, not intractable\n",
       "5 \\\\ACT Diagnosis ICD-10\\\\G00-G99 Diseases of the nervous system (G00-G99)\\\\G40-G47 Episodic and paroxysmal disorders (G40-G47)\\\\G40 Epilepsy and recurrent seizures\\\\G40.9 Epilepsy, unspecified\\\\G40.90 Epilepsy, unspecified, not intractable\n",
       "6 \\\\ACT Diagnosis ICD-10\\\\G00-G99 Diseases of the nervous system (G00-G99)\\\\G40-G47 Episodic and paroxysmal disorders (G40-G47)\\\\G40 Epilepsy and recurrent seizures                                                                            \n",
       "  icd_10_code                                                               \n",
       "1 G40.909 Epilepsy, unspecified, not intractable, without status epilepticus\n",
       "2 G40.909 Epilepsy, unspecified, not intractable, without status epilepticus\n",
       "3 G40.909 Epilepsy, unspecified, not intractable, without status epilepticus\n",
       "4 G40.909 Epilepsy, unspecified, not intractable, without status epilepticus\n",
       "5 G40.909 Epilepsy, unspecified, not intractable, without status epilepticus\n",
       "6 G40.9 Epilepsy, unspecified                                               "
      ]
     },
     "metadata": {},
     "output_type": "display_data"
    }
   ],
   "source": [
    "#filtering to include only patients diagnosed with epilepsy and recurrent seizures (ICD GROUP CODE G40):\n",
    "icd_code_of_interest = 'G40'\n",
    "\n",
    "epilepsy_icd10<- diagnosis_icd10 %>%\n",
    "  filter(grepl(icd_code_of_interest, TVAL_CHAR)) %>%\n",
    "  select(PATIENT_NUM, CONCEPT_PATH,TVAL_CHAR) %>%\n",
    "  rename(icd_10_code= TVAL_CHAR) %>%\n",
    "  group_by(PATIENT_NUM)\n",
    "\n",
    "# creating a final list of patient_ids with epilepsy (G40 group code), removing any duplicate entries for same patient id :\n",
    "\n",
    "epilepsy_icd10_patient_ids<- epilepsy_icd10 %>%\n",
    "  select(PATIENT_NUM) %>%\n",
    "  distinct() \n",
    "\n",
    "head(epilepsy_icd10)"
   ]
  },
  {
   "cell_type": "markdown",
   "id": "3a513a12",
   "metadata": {},
   "source": [
    "Let's also isolate the demographic data for patients who have been diagnosed with epilepsy, and see how much of our dataset they represent."
   ]
  },
  {
   "cell_type": "code",
   "execution_count": 20,
   "id": "efdd5ada",
   "metadata": {},
   "outputs": [
    {
     "data": {
      "text/html": [
       "<table class=\"dataframe\">\n",
       "<caption>A grouped_df: 6 × 4</caption>\n",
       "<thead>\n",
       "\t<tr><th scope=col>PATIENT_NUM</th><th scope=col>age</th><th scope=col>sex</th><th scope=col>race</th></tr>\n",
       "\t<tr><th scope=col>&lt;chr&gt;</th><th scope=col>&lt;dbl&gt;</th><th scope=col>&lt;chr&gt;</th><th scope=col>&lt;chr&gt;</th></tr>\n",
       "</thead>\n",
       "<tbody>\n",
       "\t<tr><td>000fae46-91b6-a373-1134-296eb55705e1</td><td>69</td><td>Male  </td><td>White</td></tr>\n",
       "\t<tr><td>001ac6f0-8c11-79fc-8521-b004f687d67f</td><td>55</td><td>Female</td><td>White</td></tr>\n",
       "\t<tr><td>00444938-6d64-989b-b975-519e92b26171</td><td> 2</td><td>Female</td><td>White</td></tr>\n",
       "\t<tr><td>0223b8f5-ddf1-be38-64c5-4b69c5f311f4</td><td>47</td><td>Female</td><td>White</td></tr>\n",
       "\t<tr><td>0277b5f2-d7ed-0784-bcc6-39fa409f04fc</td><td>23</td><td>Female</td><td>White</td></tr>\n",
       "\t<tr><td>028184d4-b458-043c-189d-2f5b229db856</td><td>44</td><td>Male  </td><td>White</td></tr>\n",
       "</tbody>\n",
       "</table>\n"
      ],
      "text/latex": [
       "A grouped\\_df: 6 × 4\n",
       "\\begin{tabular}{llll}\n",
       " PATIENT\\_NUM & age & sex & race\\\\\n",
       " <chr> & <dbl> & <chr> & <chr>\\\\\n",
       "\\hline\n",
       "\t 000fae46-91b6-a373-1134-296eb55705e1 & 69 & Male   & White\\\\\n",
       "\t 001ac6f0-8c11-79fc-8521-b004f687d67f & 55 & Female & White\\\\\n",
       "\t 00444938-6d64-989b-b975-519e92b26171 &  2 & Female & White\\\\\n",
       "\t 0223b8f5-ddf1-be38-64c5-4b69c5f311f4 & 47 & Female & White\\\\\n",
       "\t 0277b5f2-d7ed-0784-bcc6-39fa409f04fc & 23 & Female & White\\\\\n",
       "\t 028184d4-b458-043c-189d-2f5b229db856 & 44 & Male   & White\\\\\n",
       "\\end{tabular}\n"
      ],
      "text/markdown": [
       "\n",
       "A grouped_df: 6 × 4\n",
       "\n",
       "| PATIENT_NUM &lt;chr&gt; | age &lt;dbl&gt; | sex &lt;chr&gt; | race &lt;chr&gt; |\n",
       "|---|---|---|---|\n",
       "| 000fae46-91b6-a373-1134-296eb55705e1 | 69 | Male   | White |\n",
       "| 001ac6f0-8c11-79fc-8521-b004f687d67f | 55 | Female | White |\n",
       "| 00444938-6d64-989b-b975-519e92b26171 |  2 | Female | White |\n",
       "| 0223b8f5-ddf1-be38-64c5-4b69c5f311f4 | 47 | Female | White |\n",
       "| 0277b5f2-d7ed-0784-bcc6-39fa409f04fc | 23 | Female | White |\n",
       "| 028184d4-b458-043c-189d-2f5b229db856 | 44 | Male   | White |\n",
       "\n"
      ],
      "text/plain": [
       "  PATIENT_NUM                          age sex    race \n",
       "1 000fae46-91b6-a373-1134-296eb55705e1 69  Male   White\n",
       "2 001ac6f0-8c11-79fc-8521-b004f687d67f 55  Female White\n",
       "3 00444938-6d64-989b-b975-519e92b26171  2  Female White\n",
       "4 0223b8f5-ddf1-be38-64c5-4b69c5f311f4 47  Female White\n",
       "5 0277b5f2-d7ed-0784-bcc6-39fa409f04fc 23  Female White\n",
       "6 028184d4-b458-043c-189d-2f5b229db856 44  Male   White"
      ]
     },
     "metadata": {},
     "output_type": "display_data"
    },
    {
     "name": "stdout",
     "output_type": "stream",
     "text": [
      "[1] \"3.59 % of patients in our dataset have been diagnosed with an epilepsy ICD10 code.\"\n"
     ]
    }
   ],
   "source": [
    "# merging the patient id list with the demographic data\n",
    "epi_demo<- epilepsy_icd10_patient_ids %>%\n",
    "  left_join(demographics_joined, by= \"PATIENT_NUM\") %>%\n",
    "  arrange(PATIENT_NUM)\n",
    "\n",
    "head(epi_demo)\n",
    "\n",
    "# calculating percentage of patients with epilepsy from original cohort:\n",
    "percentage_epilepsy <-  (nrow(epilepsy_icd10_patient_ids) / n_distinct(data$PATIENT_NUM)) * 100\n",
    "\n",
    "print(paste(round(percentage_epilepsy,2), '% of patients in our dataset have been diagnosed with an epilepsy ICD10 code.'))"
   ]
  },
  {
   "cell_type": "markdown",
   "id": "98f678b7",
   "metadata": {},
   "source": [
    "### Investigating the presence of other diagnostic codes in our defined patient cohort\n",
    "Our cohort consists of patients with epilepsy. \n",
    "Let's say we are interested in comparing which patients with epilepsy also have been diagnosed with migranes (ICD GROUP CODE G43).\n",
    "\n",
    "We create a variable called `icd` and set it to `G43`. (you can replace the ICD code \"G43\" with the ICD code of your choice in the next chunk of code)\n",
    "\n",
    "We then search for this ICD code of interest within our cohort. \n",
    "\n",
    "This will be done in a few steps.\n",
    "(you can replace the ICD code \"G43\" with the ICD code of your choice in the next chunk of code):"
   ]
  },
  {
   "cell_type": "code",
   "execution_count": 21,
   "id": "44c74481",
   "metadata": {},
   "outputs": [],
   "source": [
    "# (ICD GROUP CODE G43)\n",
    "icd <- 'G43'\n",
    "\n",
    "##first, creating a data-frame including only patients diagnosed with migraines \n",
    "\n",
    "migraine_icd10<- diagnosis_icd10 %>%\n",
    "  filter(grepl(icd,TVAL_CHAR)) %>% \n",
    "  select(PATIENT_NUM, CONCEPT_PATH,TVAL_CHAR) %>%\n",
    "  rename(icd_10_code= TVAL_CHAR)%>%\n",
    "  group_by(PATIENT_NUM)\n",
    "\n",
    "#next, extracting only the patient id's and removing any duplicates.\n",
    "migraine_icd10_patient_ids<- migraine_icd10 %>%\n",
    "  select(PATIENT_NUM) %>%\n",
    "  distinct()\n",
    "\n",
    "\n",
    "#finally, merging the epilepsy patient id list with the migraine patient id list to create a list including only patients that have both epilepsy and migraine ICD10 codes \n",
    "epilepsy_migraine <- epilepsy_icd10_patient_ids %>%\n",
    "  inner_join(migraine_icd10_patient_ids, by = \"PATIENT_NUM\")\n",
    "  "
   ]
  },
  {
   "cell_type": "markdown",
   "id": "eb624ff2",
   "metadata": {},
   "source": [
    "Now, let's examine the original epilepsy dataframe and add a column indicating which patients also have migraines:"
   ]
  },
  {
   "cell_type": "code",
   "execution_count": 22,
   "id": "6f6ec45e",
   "metadata": {},
   "outputs": [
    {
     "data": {
      "text/html": [
       "<table class=\"dataframe\">\n",
       "<caption>A grouped_df: 6 × 5</caption>\n",
       "<thead>\n",
       "\t<tr><th scope=col>PATIENT_NUM</th><th scope=col>migraines</th><th scope=col>age</th><th scope=col>sex</th><th scope=col>race</th></tr>\n",
       "\t<tr><th scope=col>&lt;chr&gt;</th><th scope=col>&lt;dbl&gt;</th><th scope=col>&lt;dbl&gt;</th><th scope=col>&lt;chr&gt;</th><th scope=col>&lt;chr&gt;</th></tr>\n",
       "</thead>\n",
       "<tbody>\n",
       "\t<tr><td>000fae46-91b6-a373-1134-296eb55705e1</td><td>0</td><td>69</td><td>Male  </td><td>White</td></tr>\n",
       "\t<tr><td>001ac6f0-8c11-79fc-8521-b004f687d67f</td><td>1</td><td>55</td><td>Female</td><td>White</td></tr>\n",
       "\t<tr><td>00444938-6d64-989b-b975-519e92b26171</td><td>0</td><td> 2</td><td>Female</td><td>White</td></tr>\n",
       "\t<tr><td>0223b8f5-ddf1-be38-64c5-4b69c5f311f4</td><td>0</td><td>47</td><td>Female</td><td>White</td></tr>\n",
       "\t<tr><td>0277b5f2-d7ed-0784-bcc6-39fa409f04fc</td><td>0</td><td>23</td><td>Female</td><td>White</td></tr>\n",
       "\t<tr><td>028184d4-b458-043c-189d-2f5b229db856</td><td>0</td><td>44</td><td>Male  </td><td>White</td></tr>\n",
       "</tbody>\n",
       "</table>\n"
      ],
      "text/latex": [
       "A grouped\\_df: 6 × 5\n",
       "\\begin{tabular}{lllll}\n",
       " PATIENT\\_NUM & migraines & age & sex & race\\\\\n",
       " <chr> & <dbl> & <dbl> & <chr> & <chr>\\\\\n",
       "\\hline\n",
       "\t 000fae46-91b6-a373-1134-296eb55705e1 & 0 & 69 & Male   & White\\\\\n",
       "\t 001ac6f0-8c11-79fc-8521-b004f687d67f & 1 & 55 & Female & White\\\\\n",
       "\t 00444938-6d64-989b-b975-519e92b26171 & 0 &  2 & Female & White\\\\\n",
       "\t 0223b8f5-ddf1-be38-64c5-4b69c5f311f4 & 0 & 47 & Female & White\\\\\n",
       "\t 0277b5f2-d7ed-0784-bcc6-39fa409f04fc & 0 & 23 & Female & White\\\\\n",
       "\t 028184d4-b458-043c-189d-2f5b229db856 & 0 & 44 & Male   & White\\\\\n",
       "\\end{tabular}\n"
      ],
      "text/markdown": [
       "\n",
       "A grouped_df: 6 × 5\n",
       "\n",
       "| PATIENT_NUM &lt;chr&gt; | migraines &lt;dbl&gt; | age &lt;dbl&gt; | sex &lt;chr&gt; | race &lt;chr&gt; |\n",
       "|---|---|---|---|---|\n",
       "| 000fae46-91b6-a373-1134-296eb55705e1 | 0 | 69 | Male   | White |\n",
       "| 001ac6f0-8c11-79fc-8521-b004f687d67f | 1 | 55 | Female | White |\n",
       "| 00444938-6d64-989b-b975-519e92b26171 | 0 |  2 | Female | White |\n",
       "| 0223b8f5-ddf1-be38-64c5-4b69c5f311f4 | 0 | 47 | Female | White |\n",
       "| 0277b5f2-d7ed-0784-bcc6-39fa409f04fc | 0 | 23 | Female | White |\n",
       "| 028184d4-b458-043c-189d-2f5b229db856 | 0 | 44 | Male   | White |\n",
       "\n"
      ],
      "text/plain": [
       "  PATIENT_NUM                          migraines age sex    race \n",
       "1 000fae46-91b6-a373-1134-296eb55705e1 0         69  Male   White\n",
       "2 001ac6f0-8c11-79fc-8521-b004f687d67f 1         55  Female White\n",
       "3 00444938-6d64-989b-b975-519e92b26171 0          2  Female White\n",
       "4 0223b8f5-ddf1-be38-64c5-4b69c5f311f4 0         47  Female White\n",
       "5 0277b5f2-d7ed-0784-bcc6-39fa409f04fc 0         23  Female White\n",
       "6 028184d4-b458-043c-189d-2f5b229db856 0         44  Male   White"
      ]
     },
     "metadata": {},
     "output_type": "display_data"
    }
   ],
   "source": [
    "# merging the joint list to the original epilepsy patient list, and creating a migraine column indicating if the patient with epilepsy also has a migraine diagnosis (yes=1/ no=0):\n",
    "\n",
    "epilepsy_merged <- epilepsy_icd10_patient_ids %>%\n",
    "  left_join(epilepsy_migraine %>% mutate(migraines = 1), by = \"PATIENT_NUM\") %>%\n",
    "  replace_na(list(migraines = 0))  %>%\n",
    "  left_join(epi_demo, by=\"PATIENT_NUM\") %>%\n",
    "  arrange(PATIENT_NUM)\n",
    "\n",
    "head(epilepsy_merged)"
   ]
  },
  {
   "cell_type": "markdown",
   "id": "03227d0f",
   "metadata": {},
   "source": [
    "The following table shows the percentage of patients with migraines in the epilepsy patient cohort.\n",
    "\n",
    "We can see that only a small percentage of our patients with epilepsy also experience migraines."
   ]
  },
  {
   "cell_type": "code",
   "execution_count": 23,
   "id": "75582fb5",
   "metadata": {},
   "outputs": [
    {
     "data": {
      "text/html": [
       "<table class=\"dataframe\">\n",
       "<caption>A tibble: 2 × 3</caption>\n",
       "<thead>\n",
       "\t<tr><th scope=col>migraines</th><th scope=col>count</th><th scope=col>percentage</th></tr>\n",
       "\t<tr><th scope=col>&lt;dbl&gt;</th><th scope=col>&lt;int&gt;</th><th scope=col>&lt;dbl&gt;</th></tr>\n",
       "</thead>\n",
       "<tbody>\n",
       "\t<tr><td>0</td><td>398</td><td>95.22</td></tr>\n",
       "\t<tr><td>1</td><td> 20</td><td> 4.78</td></tr>\n",
       "</tbody>\n",
       "</table>\n"
      ],
      "text/latex": [
       "A tibble: 2 × 3\n",
       "\\begin{tabular}{lll}\n",
       " migraines & count & percentage\\\\\n",
       " <dbl> & <int> & <dbl>\\\\\n",
       "\\hline\n",
       "\t 0 & 398 & 95.22\\\\\n",
       "\t 1 &  20 &  4.78\\\\\n",
       "\\end{tabular}\n"
      ],
      "text/markdown": [
       "\n",
       "A tibble: 2 × 3\n",
       "\n",
       "| migraines &lt;dbl&gt; | count &lt;int&gt; | percentage &lt;dbl&gt; |\n",
       "|---|---|---|\n",
       "| 0 | 398 | 95.22 |\n",
       "| 1 |  20 |  4.78 |\n",
       "\n"
      ],
      "text/plain": [
       "  migraines count percentage\n",
       "1 0         398   95.22     \n",
       "2 1          20    4.78     "
      ]
     },
     "metadata": {},
     "output_type": "display_data"
    }
   ],
   "source": [
    "#calculating the number and percentage of patient with migraines in the epilepsy patient cohort\n",
    "epilepsy_migraine_count <- epilepsy_merged %>%\n",
    "  group_by(migraines) %>%\n",
    "  summarise(count=n()) %>%\n",
    "  mutate(percentage = round((count / sum(count)) * 100,2)) \n",
    " \n",
    "epilepsy_migraine_count"
   ]
  },
  {
   "cell_type": "markdown",
   "id": "3b3ec672",
   "metadata": {},
   "source": [
    "### Investigating what medications have been administered to our cohort of interest\n",
    "\n",
    "Let's now look into the medications data. We can isolate the medications data by searching the CONCEPT_PATH variable for the term `ACT Medications`.\n"
   ]
  },
  {
   "cell_type": "code",
   "execution_count": 24,
   "id": "3b6046e2",
   "metadata": {},
   "outputs": [
    {
     "data": {
      "text/html": [
       "<table class=\"dataframe\">\n",
       "<caption>A tibble: 6 × 1</caption>\n",
       "<thead>\n",
       "\t<tr><th scope=col>CONCEPT_PATH</th></tr>\n",
       "\t<tr><th scope=col>&lt;chr&gt;</th></tr>\n",
       "</thead>\n",
       "<tbody>\n",
       "\t<tr><td>\\ACT Medications\\A [Preparations]\\Abemaciclib\\Abemaciclib Oral Tablet\\Abemaciclib 100 Mg Oral Tablet [Verzenio]                                                                                                                                              </td></tr>\n",
       "\t<tr><td>\\ACT Medications\\A [Preparations]\\Acetaminophen / Codeine\\Acetaminophen / Codeine Oral Tablet\\Acetaminophen 300 Mg / Codeine Phosphate 15 Mg Oral Tablet                                                                                                     </td></tr>\n",
       "\t<tr><td>\\ACT Medications\\A [Preparations]\\Acetaminophen / Dextromethorphan / Doxylamine\\Acetaminophen / Dextromethorphan / Doxylamine Oral Solution\\Acetaminophen 21.7 Mg/Ml / Dextromethorphan Hydrobromide 1 Mg/Ml / Doxylamine Succinate 0.417 Mg/Ml Oral Solution</td></tr>\n",
       "\t<tr><td>\\ACT Medications\\A [Preparations]\\Acetaminophen / Hydrocodone\\Acetaminophen / Hydrocodone Oral Tablet\\Acetaminophen 300 Mg / Hydrocodone Bitartrate 10 Mg Oral Tablet                                                                                        </td></tr>\n",
       "\t<tr><td>\\ACT Medications\\A [Preparations]\\Acetaminophen / Hydrocodone\\Acetaminophen / Hydrocodone Oral Tablet\\Acetaminophen 300 Mg / Hydrocodone Bitartrate 5 Mg Oral Tablet                                                                                         </td></tr>\n",
       "\t<tr><td>\\ACT Medications\\A [Preparations]\\Acetaminophen / Hydrocodone\\Acetaminophen / Hydrocodone Oral Tablet\\Acetaminophen 325 Mg / Hydrocodone Bitartrate 7.5 Mg Oral Tablet                                                                                       </td></tr>\n",
       "</tbody>\n",
       "</table>\n"
      ],
      "text/latex": [
       "A tibble: 6 × 1\n",
       "\\begin{tabular}{l}\n",
       " CONCEPT\\_PATH\\\\\n",
       " <chr>\\\\\n",
       "\\hline\n",
       "\t \\textbackslash{}ACT Medications\\textbackslash{}A {[}Preparations{]}\\textbackslash{}Abemaciclib\\textbackslash{}Abemaciclib Oral Tablet\\textbackslash{}Abemaciclib 100 Mg Oral Tablet {[}Verzenio{]}                                                                                                                                              \\\\\n",
       "\t \\textbackslash{}ACT Medications\\textbackslash{}A {[}Preparations{]}\\textbackslash{}Acetaminophen / Codeine\\textbackslash{}Acetaminophen / Codeine Oral Tablet\\textbackslash{}Acetaminophen 300 Mg / Codeine Phosphate 15 Mg Oral Tablet                                                                                                     \\\\\n",
       "\t \\textbackslash{}ACT Medications\\textbackslash{}A {[}Preparations{]}\\textbackslash{}Acetaminophen / Dextromethorphan / Doxylamine\\textbackslash{}Acetaminophen / Dextromethorphan / Doxylamine Oral Solution\\textbackslash{}Acetaminophen 21.7 Mg/Ml / Dextromethorphan Hydrobromide 1 Mg/Ml / Doxylamine Succinate 0.417 Mg/Ml Oral Solution\\\\\n",
       "\t \\textbackslash{}ACT Medications\\textbackslash{}A {[}Preparations{]}\\textbackslash{}Acetaminophen / Hydrocodone\\textbackslash{}Acetaminophen / Hydrocodone Oral Tablet\\textbackslash{}Acetaminophen 300 Mg / Hydrocodone Bitartrate 10 Mg Oral Tablet                                                                                        \\\\\n",
       "\t \\textbackslash{}ACT Medications\\textbackslash{}A {[}Preparations{]}\\textbackslash{}Acetaminophen / Hydrocodone\\textbackslash{}Acetaminophen / Hydrocodone Oral Tablet\\textbackslash{}Acetaminophen 300 Mg / Hydrocodone Bitartrate 5 Mg Oral Tablet                                                                                         \\\\\n",
       "\t \\textbackslash{}ACT Medications\\textbackslash{}A {[}Preparations{]}\\textbackslash{}Acetaminophen / Hydrocodone\\textbackslash{}Acetaminophen / Hydrocodone Oral Tablet\\textbackslash{}Acetaminophen 325 Mg / Hydrocodone Bitartrate 7.5 Mg Oral Tablet                                                                                       \\\\\n",
       "\\end{tabular}\n"
      ],
      "text/markdown": [
       "\n",
       "A tibble: 6 × 1\n",
       "\n",
       "| CONCEPT_PATH &lt;chr&gt; |\n",
       "|---|\n",
       "| \\ACT Medications\\A [Preparations]\\Abemaciclib\\Abemaciclib Oral Tablet\\Abemaciclib 100 Mg Oral Tablet [Verzenio]                                                                                                                                               |\n",
       "| \\ACT Medications\\A [Preparations]\\Acetaminophen / Codeine\\Acetaminophen / Codeine Oral Tablet\\Acetaminophen 300 Mg / Codeine Phosphate 15 Mg Oral Tablet                                                                                                      |\n",
       "| \\ACT Medications\\A [Preparations]\\Acetaminophen / Dextromethorphan / Doxylamine\\Acetaminophen / Dextromethorphan / Doxylamine Oral Solution\\Acetaminophen 21.7 Mg/Ml / Dextromethorphan Hydrobromide 1 Mg/Ml / Doxylamine Succinate 0.417 Mg/Ml Oral Solution |\n",
       "| \\ACT Medications\\A [Preparations]\\Acetaminophen / Hydrocodone\\Acetaminophen / Hydrocodone Oral Tablet\\Acetaminophen 300 Mg / Hydrocodone Bitartrate 10 Mg Oral Tablet                                                                                         |\n",
       "| \\ACT Medications\\A [Preparations]\\Acetaminophen / Hydrocodone\\Acetaminophen / Hydrocodone Oral Tablet\\Acetaminophen 300 Mg / Hydrocodone Bitartrate 5 Mg Oral Tablet                                                                                          |\n",
       "| \\ACT Medications\\A [Preparations]\\Acetaminophen / Hydrocodone\\Acetaminophen / Hydrocodone Oral Tablet\\Acetaminophen 325 Mg / Hydrocodone Bitartrate 7.5 Mg Oral Tablet                                                                                        |\n",
       "\n"
      ],
      "text/plain": [
       "  CONCEPT_PATH                                                                                                                                                                                                                                                      \n",
       "1 \\\\ACT Medications\\\\A [Preparations]\\\\Abemaciclib\\\\Abemaciclib Oral Tablet\\\\Abemaciclib 100 Mg Oral Tablet [Verzenio]                                                                                                                                              \n",
       "2 \\\\ACT Medications\\\\A [Preparations]\\\\Acetaminophen / Codeine\\\\Acetaminophen / Codeine Oral Tablet\\\\Acetaminophen 300 Mg / Codeine Phosphate 15 Mg Oral Tablet                                                                                                     \n",
       "3 \\\\ACT Medications\\\\A [Preparations]\\\\Acetaminophen / Dextromethorphan / Doxylamine\\\\Acetaminophen / Dextromethorphan / Doxylamine Oral Solution\\\\Acetaminophen 21.7 Mg/Ml / Dextromethorphan Hydrobromide 1 Mg/Ml / Doxylamine Succinate 0.417 Mg/Ml Oral Solution\n",
       "4 \\\\ACT Medications\\\\A [Preparations]\\\\Acetaminophen / Hydrocodone\\\\Acetaminophen / Hydrocodone Oral Tablet\\\\Acetaminophen 300 Mg / Hydrocodone Bitartrate 10 Mg Oral Tablet                                                                                        \n",
       "5 \\\\ACT Medications\\\\A [Preparations]\\\\Acetaminophen / Hydrocodone\\\\Acetaminophen / Hydrocodone Oral Tablet\\\\Acetaminophen 300 Mg / Hydrocodone Bitartrate 5 Mg Oral Tablet                                                                                         \n",
       "6 \\\\ACT Medications\\\\A [Preparations]\\\\Acetaminophen / Hydrocodone\\\\Acetaminophen / Hydrocodone Oral Tablet\\\\Acetaminophen 325 Mg / Hydrocodone Bitartrate 7.5 Mg Oral Tablet                                                                                       "
      ]
     },
     "metadata": {},
     "output_type": "display_data"
    }
   ],
   "source": [
    "#creating a new dataframe containing only medication data:\n",
    "\n",
    "medications<- data %>%\n",
    "  filter(grepl(\"\\\\ACT Medications\", CONCEPT_PATH)) \n",
    "\n",
    "#showing list with unique values of medications included in the dataset:\n",
    "\n",
    "medication_list<- medications %>%  \n",
    "  select(CONCEPT_PATH)%>%\n",
    "  distinct() %>%\n",
    "  arrange(CONCEPT_PATH)\n",
    "\n",
    "head(medication_list)"
   ]
  },
  {
   "cell_type": "markdown",
   "id": "4d056a22",
   "metadata": {},
   "source": [
    "For our epilepsy case study, we are interested in knowing whether a patient has been administered Carbamazepine or Pregabalin. \n",
    "- Carbamazepine is used to manage and treat epilepsy, trigeminal neuralgia, and acute manic and mixed episodes in bipolar I disorder.\n",
    "- Pregabalin treats nerve and muscle pain, including fibromyalgia. It can also treat seizures.\n",
    "\n",
    "\n",
    "We will search our dataset for these medications and isolate which patients are associated to those observations.\n",
    "\n",
    "We then isolate our results to our cohort of interest. \n",
    "\n",
    "The resulting table contains information on whether or not a patient who was diagnosed with epilepsy was ever administered carbamazepine or pregabalin. \n"
   ]
  },
  {
   "cell_type": "code",
   "execution_count": 32,
   "id": "4a6a1ba9",
   "metadata": {},
   "outputs": [
    {
     "name": "stderr",
     "output_type": "stream",
     "text": [
      "\u001b[1m\u001b[22m`mutate_all()` ignored the following grouping variables:\n",
      "\u001b[36m•\u001b[39m Column `PATIENT_NUM`\n",
      "\u001b[36mℹ\u001b[39m Use `mutate_at(df, vars(-group_cols()), myoperation)` to silence the message.\n"
     ]
    },
    {
     "data": {
      "text/html": [
       "<table class=\"dataframe\">\n",
       "<caption>A tibble: 6 × 3</caption>\n",
       "<thead>\n",
       "\t<tr><th scope=col>PATIENT_NUM</th><th scope=col>carbamazepine</th><th scope=col>pregabalin</th></tr>\n",
       "\t<tr><th scope=col>&lt;chr&gt;</th><th scope=col>&lt;dbl&gt;</th><th scope=col>&lt;dbl&gt;</th></tr>\n",
       "</thead>\n",
       "<tbody>\n",
       "\t<tr><td>00444938-6d64-989b-b975-519e92b26171</td><td>1</td><td>0</td></tr>\n",
       "\t<tr><td>07fde594-2d72-bb7f-9e7e-b646a7224623</td><td>1</td><td>0</td></tr>\n",
       "\t<tr><td>081cc2a9-8380-e3c9-ea11-615b69ef8783</td><td>1</td><td>0</td></tr>\n",
       "\t<tr><td>097a1d0a-db9a-9ae8-7639-9300e3199484</td><td>1</td><td>0</td></tr>\n",
       "\t<tr><td>0a728cec-84cd-2774-2530-df8408505738</td><td>1</td><td>0</td></tr>\n",
       "\t<tr><td>0ae17096-efd8-e4ce-79b2-c9d7a70992d8</td><td>1</td><td>0</td></tr>\n",
       "</tbody>\n",
       "</table>\n"
      ],
      "text/latex": [
       "A tibble: 6 × 3\n",
       "\\begin{tabular}{lll}\n",
       " PATIENT\\_NUM & carbamazepine & pregabalin\\\\\n",
       " <chr> & <dbl> & <dbl>\\\\\n",
       "\\hline\n",
       "\t 00444938-6d64-989b-b975-519e92b26171 & 1 & 0\\\\\n",
       "\t 07fde594-2d72-bb7f-9e7e-b646a7224623 & 1 & 0\\\\\n",
       "\t 081cc2a9-8380-e3c9-ea11-615b69ef8783 & 1 & 0\\\\\n",
       "\t 097a1d0a-db9a-9ae8-7639-9300e3199484 & 1 & 0\\\\\n",
       "\t 0a728cec-84cd-2774-2530-df8408505738 & 1 & 0\\\\\n",
       "\t 0ae17096-efd8-e4ce-79b2-c9d7a70992d8 & 1 & 0\\\\\n",
       "\\end{tabular}\n"
      ],
      "text/markdown": [
       "\n",
       "A tibble: 6 × 3\n",
       "\n",
       "| PATIENT_NUM &lt;chr&gt; | carbamazepine &lt;dbl&gt; | pregabalin &lt;dbl&gt; |\n",
       "|---|---|---|\n",
       "| 00444938-6d64-989b-b975-519e92b26171 | 1 | 0 |\n",
       "| 07fde594-2d72-bb7f-9e7e-b646a7224623 | 1 | 0 |\n",
       "| 081cc2a9-8380-e3c9-ea11-615b69ef8783 | 1 | 0 |\n",
       "| 097a1d0a-db9a-9ae8-7639-9300e3199484 | 1 | 0 |\n",
       "| 0a728cec-84cd-2774-2530-df8408505738 | 1 | 0 |\n",
       "| 0ae17096-efd8-e4ce-79b2-c9d7a70992d8 | 1 | 0 |\n",
       "\n"
      ],
      "text/plain": [
       "  PATIENT_NUM                          carbamazepine pregabalin\n",
       "1 00444938-6d64-989b-b975-519e92b26171 1             0         \n",
       "2 07fde594-2d72-bb7f-9e7e-b646a7224623 1             0         \n",
       "3 081cc2a9-8380-e3c9-ea11-615b69ef8783 1             0         \n",
       "4 097a1d0a-db9a-9ae8-7639-9300e3199484 1             0         \n",
       "5 0a728cec-84cd-2774-2530-df8408505738 1             0         \n",
       "6 0ae17096-efd8-e4ce-79b2-c9d7a70992d8 1             0         "
      ]
     },
     "metadata": {},
     "output_type": "display_data"
    },
    {
     "name": "stdout",
     "output_type": "stream",
     "text": [
      "[1] \"122 patient(s) with epilepsy were taking carbamazepine\"\n",
      "[1] \"1 patient(s) with epilepsy were taking pregabalin\"\n"
     ]
    }
   ],
   "source": [
    "#filtering original dataset to patients receiving Carbamazepine or/and Pregabalin\n",
    "\n",
    "carba_preg<- medications %>%\n",
    "  filter(grepl(\"Carbamazepine\",CONCEPT_PATH) |\n",
    "         grepl(\"Pregabalin\", CONCEPT_PATH)) %>%\n",
    "  select(PATIENT_NUM,CONCEPT_PATH)\n",
    "\n",
    "#creating a new column indicating if a patient has been prescribed Carbamazepine or Pregabalin (yes=1,no=0) for easier visualization and data manipulation\n",
    "cleaned_medication <- carba_preg %>%\n",
    "  mutate(carbamazepine= if_else(grepl(\"Carbamazepine\", CONCEPT_PATH) , 1,0),\n",
    "         pregabalin=if_else(grepl(\"Pregabalin\", CONCEPT_PATH) , 1,0) ) %>%\n",
    "  group_by(PATIENT_NUM) %>%\n",
    "  summarize(\n",
    "    carbamazepine = max(carbamazepine),\n",
    "    pregabalin = max(pregabalin)\n",
    "  ) %>%\n",
    "  arrange(PATIENT_NUM)\n",
    "\n",
    "patient_icd10_med <- epilepsy_icd10_patient_ids %>% \n",
    "  left_join(cleaned_medication, by=\"PATIENT_NUM\") %>%\n",
    "  mutate_all(~replace(., is.na(.), 0)) %>%\n",
    "  arrange(PATIENT_NUM)\n",
    "\n",
    "head(cleaned_medication)\n",
    "\n",
    "print(paste(sum(patient_icd10_med$carbamazepine), \"patient(s) with epilepsy were taking carbamazepine\"))\n",
    "print(paste(sum(patient_icd10_med$pregabalin), \"patient(s) with epilepsy were taking pregabalin\"))"
   ]
  },
  {
   "cell_type": "markdown",
   "id": "6f3ef527",
   "metadata": {},
   "source": [
    "### Investigating lab results over time for our cohort of interest\n",
    "\n",
    "We can isolate the lab related information by searching for 'ACT Lab Test Results' in the CONCEPT_PATH column.\n",
    "\n",
    "Below is a preview of the labs available in the dataset. \n"
   ]
  },
  {
   "cell_type": "code",
   "execution_count": 26,
   "id": "0f952032",
   "metadata": {},
   "outputs": [
    {
     "data": {
      "text/html": [
       "<table class=\"dataframe\">\n",
       "<caption>A tibble: 6 × 1</caption>\n",
       "<thead>\n",
       "\t<tr><th scope=col>CONCEPT_PATH</th></tr>\n",
       "\t<tr><th scope=col>&lt;chr&gt;</th></tr>\n",
       "</thead>\n",
       "<tbody>\n",
       "\t<tr><td>\\ACT Lab Test Results\\Hematology/Coagulation\\Hematology\\WBC Count\\WBC by Automated count        </td></tr>\n",
       "\t<tr><td>\\ACT Lab Test Results\\Hematology/Coagulation\\Hematology\\RBC Count\\RBC by Automated count        </td></tr>\n",
       "\t<tr><td>\\ACT Lab Test Results\\Hematology/Coagulation\\Hematology\\Hemoglobin\\Hemoglobin                   </td></tr>\n",
       "\t<tr><td>\\ACT Lab Test Results\\Hematology/Coagulation\\Hematology\\Hematocrit\\Hematocrit by Automated count</td></tr>\n",
       "\t<tr><td>\\ACT Lab Test Results\\Hematology/Coagulation\\Hematology\\MCV\\MCV by Automated count              </td></tr>\n",
       "\t<tr><td>\\ACT Lab Test Results\\Hematology/Coagulation\\Hematology\\MCH\\MCH by Automated count              </td></tr>\n",
       "</tbody>\n",
       "</table>\n"
      ],
      "text/latex": [
       "A tibble: 6 × 1\n",
       "\\begin{tabular}{l}\n",
       " CONCEPT\\_PATH\\\\\n",
       " <chr>\\\\\n",
       "\\hline\n",
       "\t \\textbackslash{}ACT Lab Test Results\\textbackslash{}Hematology/Coagulation\\textbackslash{}Hematology\\textbackslash{}WBC Count\\textbackslash{}WBC by Automated count        \\\\\n",
       "\t \\textbackslash{}ACT Lab Test Results\\textbackslash{}Hematology/Coagulation\\textbackslash{}Hematology\\textbackslash{}RBC Count\\textbackslash{}RBC by Automated count        \\\\\n",
       "\t \\textbackslash{}ACT Lab Test Results\\textbackslash{}Hematology/Coagulation\\textbackslash{}Hematology\\textbackslash{}Hemoglobin\\textbackslash{}Hemoglobin                   \\\\\n",
       "\t \\textbackslash{}ACT Lab Test Results\\textbackslash{}Hematology/Coagulation\\textbackslash{}Hematology\\textbackslash{}Hematocrit\\textbackslash{}Hematocrit by Automated count\\\\\n",
       "\t \\textbackslash{}ACT Lab Test Results\\textbackslash{}Hematology/Coagulation\\textbackslash{}Hematology\\textbackslash{}MCV\\textbackslash{}MCV by Automated count              \\\\\n",
       "\t \\textbackslash{}ACT Lab Test Results\\textbackslash{}Hematology/Coagulation\\textbackslash{}Hematology\\textbackslash{}MCH\\textbackslash{}MCH by Automated count              \\\\\n",
       "\\end{tabular}\n"
      ],
      "text/markdown": [
       "\n",
       "A tibble: 6 × 1\n",
       "\n",
       "| CONCEPT_PATH &lt;chr&gt; |\n",
       "|---|\n",
       "| \\ACT Lab Test Results\\Hematology/Coagulation\\Hematology\\WBC Count\\WBC by Automated count         |\n",
       "| \\ACT Lab Test Results\\Hematology/Coagulation\\Hematology\\RBC Count\\RBC by Automated count         |\n",
       "| \\ACT Lab Test Results\\Hematology/Coagulation\\Hematology\\Hemoglobin\\Hemoglobin                    |\n",
       "| \\ACT Lab Test Results\\Hematology/Coagulation\\Hematology\\Hematocrit\\Hematocrit by Automated count |\n",
       "| \\ACT Lab Test Results\\Hematology/Coagulation\\Hematology\\MCV\\MCV by Automated count               |\n",
       "| \\ACT Lab Test Results\\Hematology/Coagulation\\Hematology\\MCH\\MCH by Automated count               |\n",
       "\n"
      ],
      "text/plain": [
       "  CONCEPT_PATH                                                                                         \n",
       "1 \\\\ACT Lab Test Results\\\\Hematology/Coagulation\\\\Hematology\\\\WBC Count\\\\WBC by Automated count        \n",
       "2 \\\\ACT Lab Test Results\\\\Hematology/Coagulation\\\\Hematology\\\\RBC Count\\\\RBC by Automated count        \n",
       "3 \\\\ACT Lab Test Results\\\\Hematology/Coagulation\\\\Hematology\\\\Hemoglobin\\\\Hemoglobin                   \n",
       "4 \\\\ACT Lab Test Results\\\\Hematology/Coagulation\\\\Hematology\\\\Hematocrit\\\\Hematocrit by Automated count\n",
       "5 \\\\ACT Lab Test Results\\\\Hematology/Coagulation\\\\Hematology\\\\MCV\\\\MCV by Automated count              \n",
       "6 \\\\ACT Lab Test Results\\\\Hematology/Coagulation\\\\Hematology\\\\MCH\\\\MCH by Automated count              "
      ]
     },
     "metadata": {},
     "output_type": "display_data"
    }
   ],
   "source": [
    "# Creating a new dataframe containing only the lab test results for all patients in the original dataset:\n",
    "lab_test_results<- data %>%\n",
    "   filter(grepl(\"\\\\ACT Lab Test Results\",CONCEPT_PATH)) \n",
    "\n",
    "# creating a list with unique types of lab tests included in the dataset:\n",
    "lab_list<- data %>%\n",
    "   filter(grepl(\"\\\\ACT Lab Test Results\",CONCEPT_PATH)) %>%\n",
    "  select(CONCEPT_PATH)%>%\n",
    "  distinct()\n",
    "\n",
    "head(lab_list)"
   ]
  },
  {
   "cell_type": "markdown",
   "id": "ac333942",
   "metadata": {},
   "source": [
    "In the following example, we will focus on AST (aspartate aminotransferase) and ALT (alanine transaminase) lab test results. \n",
    "We will also only focus on lab results from 2023. \n",
    "- AST is an enzyme found in the liver, muscles, and other organs. When cells that contain AST are damaged, they release AST into the blood\n",
    "- An ALT blood test is used to diagnose liver disorders. ALT is a liver enzyme that is released in the blood when liver cells are damaged.\n",
    "\n",
    "(you can replace \"ALT\" or \"AST\" with your choice of lab test, to add additional lab tests just add a \"|\" before the next lab test name)\n",
    "\n",
    "\n",
    "*Note that the number of lab result entries can vary widely per patient, and even multiple entries per day are possible. In the graphic representation and statistical measurement tables, each individual lab result is treated as an individual data point, without the use of weighted averages or other methodological statistical adjustments.*"
   ]
  },
  {
   "cell_type": "code",
   "execution_count": 27,
   "id": "bddd73de",
   "metadata": {},
   "outputs": [
    {
     "data": {
      "text/html": [
       "<table class=\"dataframe\">\n",
       "<caption>A tibble: 6 × 4</caption>\n",
       "<thead>\n",
       "\t<tr><th scope=col>PATIENT_NUM</th><th scope=col>lab_test</th><th scope=col>value</th><th scope=col>TIMESTAMP</th></tr>\n",
       "\t<tr><th scope=col>&lt;chr&gt;</th><th scope=col>&lt;chr&gt;</th><th scope=col>&lt;dbl&gt;</th><th scope=col>&lt;dttm&gt;</th></tr>\n",
       "</thead>\n",
       "<tbody>\n",
       "\t<tr><td>0015fb36-0cad-3a48-87d9-a0f61c12c80d</td><td>alt</td><td>25.2</td><td>2023-12-23 02:34:46</td></tr>\n",
       "\t<tr><td>0015fb36-0cad-3a48-87d9-a0f61c12c80d</td><td>ast</td><td> 9.1</td><td>2023-12-23 02:34:46</td></tr>\n",
       "\t<tr><td>00bcc24e-4602-a868-1ce2-947f1ec1c00f</td><td>alt</td><td>33.8</td><td>2023-10-04 22:16:14</td></tr>\n",
       "\t<tr><td>00bcc24e-4602-a868-1ce2-947f1ec1c00f</td><td>ast</td><td>18.2</td><td>2023-10-04 22:16:14</td></tr>\n",
       "\t<tr><td>00d75a34-3344-8c62-401b-eb1fc27a4ba5</td><td>alt</td><td>30.1</td><td>2023-12-08 05:32:11</td></tr>\n",
       "\t<tr><td>00d75a34-3344-8c62-401b-eb1fc27a4ba5</td><td>ast</td><td>24.9</td><td>2023-12-08 05:32:11</td></tr>\n",
       "</tbody>\n",
       "</table>\n"
      ],
      "text/latex": [
       "A tibble: 6 × 4\n",
       "\\begin{tabular}{llll}\n",
       " PATIENT\\_NUM & lab\\_test & value & TIMESTAMP\\\\\n",
       " <chr> & <chr> & <dbl> & <dttm>\\\\\n",
       "\\hline\n",
       "\t 0015fb36-0cad-3a48-87d9-a0f61c12c80d & alt & 25.2 & 2023-12-23 02:34:46\\\\\n",
       "\t 0015fb36-0cad-3a48-87d9-a0f61c12c80d & ast &  9.1 & 2023-12-23 02:34:46\\\\\n",
       "\t 00bcc24e-4602-a868-1ce2-947f1ec1c00f & alt & 33.8 & 2023-10-04 22:16:14\\\\\n",
       "\t 00bcc24e-4602-a868-1ce2-947f1ec1c00f & ast & 18.2 & 2023-10-04 22:16:14\\\\\n",
       "\t 00d75a34-3344-8c62-401b-eb1fc27a4ba5 & alt & 30.1 & 2023-12-08 05:32:11\\\\\n",
       "\t 00d75a34-3344-8c62-401b-eb1fc27a4ba5 & ast & 24.9 & 2023-12-08 05:32:11\\\\\n",
       "\\end{tabular}\n"
      ],
      "text/markdown": [
       "\n",
       "A tibble: 6 × 4\n",
       "\n",
       "| PATIENT_NUM &lt;chr&gt; | lab_test &lt;chr&gt; | value &lt;dbl&gt; | TIMESTAMP &lt;dttm&gt; |\n",
       "|---|---|---|---|\n",
       "| 0015fb36-0cad-3a48-87d9-a0f61c12c80d | alt | 25.2 | 2023-12-23 02:34:46 |\n",
       "| 0015fb36-0cad-3a48-87d9-a0f61c12c80d | ast |  9.1 | 2023-12-23 02:34:46 |\n",
       "| 00bcc24e-4602-a868-1ce2-947f1ec1c00f | alt | 33.8 | 2023-10-04 22:16:14 |\n",
       "| 00bcc24e-4602-a868-1ce2-947f1ec1c00f | ast | 18.2 | 2023-10-04 22:16:14 |\n",
       "| 00d75a34-3344-8c62-401b-eb1fc27a4ba5 | alt | 30.1 | 2023-12-08 05:32:11 |\n",
       "| 00d75a34-3344-8c62-401b-eb1fc27a4ba5 | ast | 24.9 | 2023-12-08 05:32:11 |\n",
       "\n"
      ],
      "text/plain": [
       "  PATIENT_NUM                          lab_test value TIMESTAMP          \n",
       "1 0015fb36-0cad-3a48-87d9-a0f61c12c80d alt      25.2  2023-12-23 02:34:46\n",
       "2 0015fb36-0cad-3a48-87d9-a0f61c12c80d ast       9.1  2023-12-23 02:34:46\n",
       "3 00bcc24e-4602-a868-1ce2-947f1ec1c00f alt      33.8  2023-10-04 22:16:14\n",
       "4 00bcc24e-4602-a868-1ce2-947f1ec1c00f ast      18.2  2023-10-04 22:16:14\n",
       "5 00d75a34-3344-8c62-401b-eb1fc27a4ba5 alt      30.1  2023-12-08 05:32:11\n",
       "6 00d75a34-3344-8c62-401b-eb1fc27a4ba5 ast      24.9  2023-12-08 05:32:11"
      ]
     },
     "metadata": {},
     "output_type": "display_data"
    },
    {
     "data": {
      "text/html": [
       "<table class=\"dataframe\">\n",
       "<caption>A tibble: 2 × 7</caption>\n",
       "<thead>\n",
       "\t<tr><th scope=col>lab_test</th><th scope=col>mean</th><th scope=col>sd</th><th scope=col>n</th><th scope=col>se</th><th scope=col>lower_ci</th><th scope=col>upper_ci</th></tr>\n",
       "\t<tr><th scope=col>&lt;chr&gt;</th><th scope=col>&lt;dbl&gt;</th><th scope=col>&lt;dbl&gt;</th><th scope=col>&lt;int&gt;</th><th scope=col>&lt;dbl&gt;</th><th scope=col>&lt;dbl&gt;</th><th scope=col>&lt;dbl&gt;</th></tr>\n",
       "</thead>\n",
       "<tbody>\n",
       "\t<tr><td>alt</td><td>36.77405</td><td>13.93331</td><td>2883</td><td>0.2594968</td><td>36.26544</td><td>37.28267</td></tr>\n",
       "\t<tr><td>ast</td><td>22.96264</td><td>11.43122</td><td>2883</td><td>0.2128973</td><td>22.54536</td><td>23.37992</td></tr>\n",
       "</tbody>\n",
       "</table>\n"
      ],
      "text/latex": [
       "A tibble: 2 × 7\n",
       "\\begin{tabular}{lllllll}\n",
       " lab\\_test & mean & sd & n & se & lower\\_ci & upper\\_ci\\\\\n",
       " <chr> & <dbl> & <dbl> & <int> & <dbl> & <dbl> & <dbl>\\\\\n",
       "\\hline\n",
       "\t alt & 36.77405 & 13.93331 & 2883 & 0.2594968 & 36.26544 & 37.28267\\\\\n",
       "\t ast & 22.96264 & 11.43122 & 2883 & 0.2128973 & 22.54536 & 23.37992\\\\\n",
       "\\end{tabular}\n"
      ],
      "text/markdown": [
       "\n",
       "A tibble: 2 × 7\n",
       "\n",
       "| lab_test &lt;chr&gt; | mean &lt;dbl&gt; | sd &lt;dbl&gt; | n &lt;int&gt; | se &lt;dbl&gt; | lower_ci &lt;dbl&gt; | upper_ci &lt;dbl&gt; |\n",
       "|---|---|---|---|---|---|---|\n",
       "| alt | 36.77405 | 13.93331 | 2883 | 0.2594968 | 36.26544 | 37.28267 |\n",
       "| ast | 22.96264 | 11.43122 | 2883 | 0.2128973 | 22.54536 | 23.37992 |\n",
       "\n"
      ],
      "text/plain": [
       "  lab_test mean     sd       n    se        lower_ci upper_ci\n",
       "1 alt      36.77405 13.93331 2883 0.2594968 36.26544 37.28267\n",
       "2 ast      22.96264 11.43122 2883 0.2128973 22.54536 23.37992"
      ]
     },
     "metadata": {},
     "output_type": "display_data"
    }
   ],
   "source": [
    "#filtering the original dataset to include only AST and ALT test results from the year 2023, cleaning the data, and organizing it by patient id:\n",
    "\n",
    "alt_ast<- lab_test_results %>%\n",
    "  filter(grepl(\"ALT|AST\",CONCEPT_PATH),\n",
    "         TIMESTAMP >= as.Date(\"2023-01-01\") & TIMESTAMP <= as.Date(\"2023-12-31\")) %>%\n",
    "  mutate(lab_test =case_when(grepl(\"AST\", CONCEPT_PATH) ~ \"ast\",\n",
    "                              grepl(\"ALT\", CONCEPT_PATH) ~ \"alt\")) %>%\n",
    "  rename(value=NVAL_NUM) %>%\n",
    "  select(PATIENT_NUM, lab_test, value, TIMESTAMP) %>%\n",
    " arrange(PATIENT_NUM, TIMESTAMP) %>%\n",
    "  distinct()\n",
    "  \n",
    "head(alt_ast)\n",
    "\n",
    "#creating a table with statistic summary values \n",
    "alt_ast_sum<- alt_ast %>%\n",
    "  group_by(lab_test) %>%\n",
    "  summarise(mean=mean(value),\n",
    "            sd= sd(value),\n",
    "            n=n()) %>%\n",
    "  mutate( se = sd / sqrt(n),\n",
    "          lower_ci= mean - 1.96*se ,\n",
    "          upper_ci= mean +1.96*se)\n",
    "\n",
    "alt_ast_sum"
   ]
  },
  {
   "cell_type": "markdown",
   "id": "541b85c3",
   "metadata": {},
   "source": [
    "Let's now graph a distribution of ALT and AST values in 2023.\n"
   ]
  },
  {
   "cell_type": "code",
   "execution_count": 28,
   "id": "bd4bced2",
   "metadata": {},
   "outputs": [
    {
     "data": {
      "image/png": "[encoded data removed]",
      "text/plain": [
       "plot without title"
      ]
     },
     "metadata": {
      "image/png": {
       "height": 420,
       "width": 420
      }
     },
     "output_type": "display_data"
    }
   ],
   "source": [
    "#creating a box plot graph of the results. \n",
    "\n",
    "ggplot(data=alt_ast)+\n",
    "  geom_boxplot(aes(x=lab_test, y=value, fill= lab_test))+\n",
    "  theme_bw()+\n",
    "  labs(x= \"Lab Test\", y= \"Value (u/l)\", title= paste(\"Liver Transaminase Levels in 2023, n=\", nrow(alt_ast)), fill= \" \")"
   ]
  },
  {
   "cell_type": "markdown",
   "id": "a0b5d3d8",
   "metadata": {},
   "source": [
    "Let's say we are interested in a specific patient with epilepsy. \n",
    "Below, we plot the AST and ALT lab trends over the year 2023 for patient id # 1f9e58a1-0b6f-7f53-1495-8b05b69ad4ed.\n",
    "\n",
    "You can modify this code for any patient of interest by changing the `patient_of_interest` variable."
   ]
  },
  {
   "cell_type": "code",
   "execution_count": 33,
   "id": "95bfbc3f",
   "metadata": {},
   "outputs": [
    {
     "data": {
      "image/png": "[encoded data removed]",
      "text/plain": [
       "plot without title"
      ]
     },
     "metadata": {
      "image/png": {
       "height": 420,
       "width": 420
      }
     },
     "output_type": "display_data"
    }
   ],
   "source": [
    "patient_of_interest <- \"1f9e58a1-0b6f-7f53-1495-8b05b69ad4ed\"\n",
    "\n",
    "#filtering for the specific patient's AST and ALT levels over time using the 2023 alt/ast dataframe we previously created: \n",
    "\n",
    "patient_group<- alt_ast %>% \n",
    "  filter(grepl(patient_of_interest, PATIENT_NUM))\n",
    "\n",
    "### creating a plot showing the results over time: \n",
    "\n",
    "ggplot(data = patient_group) +\n",
    "  geom_line( aes(x = TIMESTAMP, y = value, color = lab_test)) +\n",
    "  geom_point( aes(x = TIMESTAMP, y = value, color = lab_test)) +\n",
    "  theme_bw() +\n",
    "  theme(\n",
    "    legend.position = \"bottom\",  \n",
    "    axis.text.x = element_text(angle = 45, hjust = 1) \n",
    "  )+\n",
    "    labs(x = \"Date\", y = \"U/L\", title = \" Liver transaminase levels over time for patient '#', since event 'X' at 1.1.2023\", color =\" \")+\n",
    "  guides(color = guide_legend(nrow = 1, title.position = \"top\", title.hjust = 0.5))\n",
    "  \n",
    "\n"
   ]
  },
  {
   "cell_type": "markdown",
   "id": "a447c1b6",
   "metadata": {},
   "source": [
    "## Investigating procedural data over time. Case study: Appendectomy.\n",
    "\n",
    "Finally, let's take a look at the procedures data. \n",
    "\n",
    "The procedures are defined by CPT codes. \n",
    "We will explore the procedures in this data set and look at specific procedures of interest in a given time frame.\n",
    "\n",
    "We can isolate the procedure related information by searching for 'ACT Procedures' in the CONCEPT_PATH column.\n",
    "\n",
    "Below is an example of the procedures documented in this dataset."
   ]
  },
  {
   "cell_type": "code",
   "execution_count": 30,
   "id": "8cbb9462",
   "metadata": {},
   "outputs": [],
   "source": [
    "# creating a list with unique procedures in the dataset : \n",
    "\n",
    "procedures <- data %>%\n",
    "  filter(grepl(\"\\\\\\\\ACT Procedures\", CONCEPT_PATH)) %>%\n",
    "  distinct(CONCEPT_PATH, TVAL_CHAR) %>%\n",
    "  rename(procedure=TVAL_CHAR)"
   ]
  },
  {
   "cell_type": "markdown",
   "id": "850b0037",
   "metadata": {},
   "source": [
    "Below, we filter the procedural data to identify a cohort of patients who have undergone an appendectomy since the beginning of 2020.\n"
   ]
  },
  {
   "cell_type": "code",
   "execution_count": 31,
   "id": "814f1c88",
   "metadata": {},
   "outputs": [
    {
     "data": {
      "text/html": [
       "<table class=\"dataframe\">\n",
       "<caption>A tibble: 6 × 5</caption>\n",
       "<thead>\n",
       "\t<tr><th scope=col>PATIENT_NUM</th><th scope=col>procedure</th><th scope=col>TIMESTAMP</th><th scope=col>VARIABLE_TYPE</th><th scope=col>DATE</th></tr>\n",
       "\t<tr><th scope=col>&lt;chr&gt;</th><th scope=col>&lt;chr&gt;</th><th scope=col>&lt;dttm&gt;</th><th scope=col>&lt;chr&gt;</th><th scope=col>&lt;date&gt;</th></tr>\n",
       "</thead>\n",
       "<tbody>\n",
       "\t<tr><td>034cf0cf-3901-3e09-e7ce-f135e68563f2</td><td>Appendectomy</td><td>2021-11-18 16:45:31</td><td>ACT Procedures CPT</td><td>2021-11-18</td></tr>\n",
       "\t<tr><td>04d657b5-4d32-41f0-dd69-ea2ce63171a4</td><td>Appendectomy</td><td>2021-08-12 12:53:31</td><td>ACT Procedures CPT</td><td>2021-08-12</td></tr>\n",
       "\t<tr><td>0dd3a55e-a7ac-c500-d9f7-e8404f895550</td><td>Appendectomy</td><td>2022-01-02 11:29:09</td><td>ACT Procedures CPT</td><td>2022-01-02</td></tr>\n",
       "\t<tr><td>10069500-025a-aedf-0faa-cff1f353b47f</td><td>Appendectomy</td><td>2022-05-27 03:19:19</td><td>ACT Procedures CPT</td><td>2022-05-27</td></tr>\n",
       "\t<tr><td>1ad25b98-ef3b-8384-4fb6-b1afd723b64a</td><td>Appendectomy</td><td>2023-08-15 00:39:56</td><td>ACT Procedures CPT</td><td>2023-08-15</td></tr>\n",
       "\t<tr><td>23a98b50-2224-a2db-786a-87f8161fc4b1</td><td>Appendectomy</td><td>2020-08-17 11:31:32</td><td>ACT Procedures CPT</td><td>2020-08-17</td></tr>\n",
       "</tbody>\n",
       "</table>\n"
      ],
      "text/latex": [
       "A tibble: 6 × 5\n",
       "\\begin{tabular}{lllll}\n",
       " PATIENT\\_NUM & procedure & TIMESTAMP & VARIABLE\\_TYPE & DATE\\\\\n",
       " <chr> & <chr> & <dttm> & <chr> & <date>\\\\\n",
       "\\hline\n",
       "\t 034cf0cf-3901-3e09-e7ce-f135e68563f2 & Appendectomy & 2021-11-18 16:45:31 & ACT Procedures CPT & 2021-11-18\\\\\n",
       "\t 04d657b5-4d32-41f0-dd69-ea2ce63171a4 & Appendectomy & 2021-08-12 12:53:31 & ACT Procedures CPT & 2021-08-12\\\\\n",
       "\t 0dd3a55e-a7ac-c500-d9f7-e8404f895550 & Appendectomy & 2022-01-02 11:29:09 & ACT Procedures CPT & 2022-01-02\\\\\n",
       "\t 10069500-025a-aedf-0faa-cff1f353b47f & Appendectomy & 2022-05-27 03:19:19 & ACT Procedures CPT & 2022-05-27\\\\\n",
       "\t 1ad25b98-ef3b-8384-4fb6-b1afd723b64a & Appendectomy & 2023-08-15 00:39:56 & ACT Procedures CPT & 2023-08-15\\\\\n",
       "\t 23a98b50-2224-a2db-786a-87f8161fc4b1 & Appendectomy & 2020-08-17 11:31:32 & ACT Procedures CPT & 2020-08-17\\\\\n",
       "\\end{tabular}\n"
      ],
      "text/markdown": [
       "\n",
       "A tibble: 6 × 5\n",
       "\n",
       "| PATIENT_NUM &lt;chr&gt; | procedure &lt;chr&gt; | TIMESTAMP &lt;dttm&gt; | VARIABLE_TYPE &lt;chr&gt; | DATE &lt;date&gt; |\n",
       "|---|---|---|---|---|\n",
       "| 034cf0cf-3901-3e09-e7ce-f135e68563f2 | Appendectomy | 2021-11-18 16:45:31 | ACT Procedures CPT | 2021-11-18 |\n",
       "| 04d657b5-4d32-41f0-dd69-ea2ce63171a4 | Appendectomy | 2021-08-12 12:53:31 | ACT Procedures CPT | 2021-08-12 |\n",
       "| 0dd3a55e-a7ac-c500-d9f7-e8404f895550 | Appendectomy | 2022-01-02 11:29:09 | ACT Procedures CPT | 2022-01-02 |\n",
       "| 10069500-025a-aedf-0faa-cff1f353b47f | Appendectomy | 2022-05-27 03:19:19 | ACT Procedures CPT | 2022-05-27 |\n",
       "| 1ad25b98-ef3b-8384-4fb6-b1afd723b64a | Appendectomy | 2023-08-15 00:39:56 | ACT Procedures CPT | 2023-08-15 |\n",
       "| 23a98b50-2224-a2db-786a-87f8161fc4b1 | Appendectomy | 2020-08-17 11:31:32 | ACT Procedures CPT | 2020-08-17 |\n",
       "\n"
      ],
      "text/plain": [
       "  PATIENT_NUM                          procedure    TIMESTAMP          \n",
       "1 034cf0cf-3901-3e09-e7ce-f135e68563f2 Appendectomy 2021-11-18 16:45:31\n",
       "2 04d657b5-4d32-41f0-dd69-ea2ce63171a4 Appendectomy 2021-08-12 12:53:31\n",
       "3 0dd3a55e-a7ac-c500-d9f7-e8404f895550 Appendectomy 2022-01-02 11:29:09\n",
       "4 10069500-025a-aedf-0faa-cff1f353b47f Appendectomy 2022-05-27 03:19:19\n",
       "5 1ad25b98-ef3b-8384-4fb6-b1afd723b64a Appendectomy 2023-08-15 00:39:56\n",
       "6 23a98b50-2224-a2db-786a-87f8161fc4b1 Appendectomy 2020-08-17 11:31:32\n",
       "  VARIABLE_TYPE      DATE      \n",
       "1 ACT Procedures CPT 2021-11-18\n",
       "2 ACT Procedures CPT 2021-08-12\n",
       "3 ACT Procedures CPT 2022-01-02\n",
       "4 ACT Procedures CPT 2022-05-27\n",
       "5 ACT Procedures CPT 2023-08-15\n",
       "6 ACT Procedures CPT 2020-08-17"
      ]
     },
     "metadata": {},
     "output_type": "display_data"
    }
   ],
   "source": [
    "# filtering to create a new dataframe including patients with a history of an appendectomy procedure\n",
    "\n",
    "appendectomy<- data %>%\n",
    "  filter(grepl(\"Appendectomy\", TVAL_CHAR)) %>%\n",
    "  rename(procedure=TVAL_CHAR) %>%\n",
    "  select(-CONCEPT_PATH, -NVAL_NUM) %>%\n",
    "  distinct()\n",
    "\n",
    "# filtering to only include patients who underwent an appendectomy since the beginning of the year 2020\n",
    "\n",
    "appendectomy_2020<- appendectomy %>%\n",
    "  filter(TIMESTAMP >= as.Date(\"2020-01-01\")) %>%\n",
    "  arrange(PATIENT_NUM)\n",
    "\n",
    "head(appendectomy_2020)"
   ]
  }
 ],
 "metadata": {
  "kernelspec": {
   "display_name": "R",
   "language": "R",
   "name": "ir"
  },
  "language_info": {
   "codemirror_mode": "r",
   "file_extension": ".r",
   "mimetype": "text/x-r-source",
   "name": "R",
   "pygments_lexer": "r",
   "version": "4.4.1"
  }
 },
 "nbformat": 4,
 "nbformat_minor": 5
}
